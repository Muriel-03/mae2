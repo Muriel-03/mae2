{
  "cells": [
    {
      "cell_type": "markdown",
      "metadata": {
        "id": "3HZSK9oGOr57"
      },
      "source": [
        "# Recurrent Neural Networks"
      ]
    },
    {
      "cell_type": "code",
      "execution_count": 1,
      "metadata": {
        "id": "0M7TWMWBvzQM"
      },
      "outputs": [
        {
          "name": "stderr",
          "output_type": "stream",
          "text": [
            "2023-06-27 17:41:34.259769: I tensorflow/tsl/cuda/cudart_stub.cc:28] Could not find cuda drivers on your machine, GPU will not be used.\n",
            "2023-06-27 17:41:36.785400: I tensorflow/tsl/cuda/cudart_stub.cc:28] Could not find cuda drivers on your machine, GPU will not be used.\n",
            "2023-06-27 17:41:36.786650: I tensorflow/core/platform/cpu_feature_guard.cc:182] This TensorFlow binary is optimized to use available CPU instructions in performance-critical operations.\n",
            "To enable the following instructions: AVX2 AVX512F FMA, in other operations, rebuild TensorFlow with the appropriate compiler flags.\n",
            "2023-06-27 17:41:42.554007: W tensorflow/compiler/tf2tensorrt/utils/py_utils.cc:38] TF-TRT Warning: Could not find TensorRT\n"
          ]
        }
      ],
      "source": [
        "import tensorflow as tf # Biblioteca de deep learning\n",
        "import gensim # Biblioteca de modelamiento de lenguaje\n",
        "import datasets # Biblioteca de manejo de conjuntos de datos para procesamiento de lenguaje natural\n",
        "import mae2 # Biblioteca del curso donde iremos guardando funciones importantes\n",
        "import numpy as np # Biblioteca de manejo de datos vectoriales\n",
        "import matplotlib.pyplot as plt # Biblioteca de visualización"
      ]
    },
    {
      "cell_type": "markdown",
      "metadata": {
        "id": "WTYg_REdPc9M"
      },
      "source": [
        "Cargamos el conjunto de datos del curso."
      ]
    },
    {
      "cell_type": "code",
      "execution_count": 2,
      "metadata": {
        "colab": {
          "base_uri": "https://localhost:8080/"
        },
        "id": "y0onr13ewPaP",
        "outputId": "d22ff147-353b-42d7-dba3-ebc5623fa43a"
      },
      "outputs": [
        {
          "data": {
            "application/vnd.jupyter.widget-view+json": {
              "model_id": "c302e9cf4e6d46eebf30ee1bd99cd0d2",
              "version_major": 2,
              "version_minor": 0
            },
            "text/plain": [
              "Downloading builder script:   0%|          | 0.00/1.67k [00:00<?, ?B/s]"
            ]
          },
          "metadata": {},
          "output_type": "display_data"
        },
        {
          "name": "stderr",
          "output_type": "stream",
          "text": [
            "Found cached dataset spanish_diagnostics (/home/vscode/.cache/huggingface/datasets/fvillena___spanish_diagnostics/default/0.0.0/45c176cea64580ea9631f78c2867a657ede368597681e5337e9f1c976e4e84ff)\n"
          ]
        },
        {
          "data": {
            "application/vnd.jupyter.widget-view+json": {
              "model_id": "33cdab98a1c74a98adceb6eb4642e6fe",
              "version_major": 2,
              "version_minor": 0
            },
            "text/plain": [
              "  0%|          | 0/2 [00:00<?, ?it/s]"
            ]
          },
          "metadata": {},
          "output_type": "display_data"
        }
      ],
      "source": [
        "spanish_diagnostics = datasets.load_dataset('fvillena/spanish_diagnostics') # Cargamos las particiones de entrenamiento y prueba"
      ]
    },
    {
      "cell_type": "markdown",
      "metadata": {
        "id": "SfkXFNEKPlAM"
      },
      "source": [
        "Cargamos los embedding clínicos."
      ]
    },
    {
      "cell_type": "code",
      "execution_count": 3,
      "metadata": {},
      "outputs": [
        {
          "data": {
            "text/plain": [
              "('../data/cwlce.vec', <http.client.HTTPMessage at 0x7fa90f615bd0>)"
            ]
          },
          "execution_count": 3,
          "metadata": {},
          "output_type": "execute_result"
        }
      ],
      "source": [
        "import ssl\n",
        "import urllib\n",
        "ssl._create_default_https_context = ssl._create_unverified_context\n",
        "urllib.request.urlretrieve(\"https://zenodo.org/record/3924799/files/cwlce.vec\", \"../data/cwlce.vec\") #Descargamos los embedding clinicos calculados por PLN@CMM"
      ]
    },
    {
      "cell_type": "code",
      "execution_count": 4,
      "metadata": {
        "id": "4eEK6GMHv325"
      },
      "outputs": [],
      "source": [
        "cwlce = gensim.models.KeyedVectors.load_word2vec_format(\"../data/cwlce.vec\")"
      ]
    },
    {
      "cell_type": "markdown",
      "metadata": {
        "id": "FEfXIOZ0Ppkn"
      },
      "source": [
        "Extraemos el vocabulario desde nuestro modelo.\n"
      ]
    },
    {
      "cell_type": "code",
      "execution_count": 5,
      "metadata": {
        "id": "bcvScRzSwLVu"
      },
      "outputs": [],
      "source": [
        "vocab = cwlce.index_to_key"
      ]
    },
    {
      "cell_type": "code",
      "execution_count": 7,
      "metadata": {},
      "outputs": [
        {
          "data": {
            "text/plain": [
              "57112"
            ]
          },
          "execution_count": 7,
          "metadata": {},
          "output_type": "execute_result"
        }
      ],
      "source": [
        "len(vocab)"
      ]
    },
    {
      "cell_type": "markdown",
      "metadata": {
        "id": "AjFOAFSAP2jJ"
      },
      "source": [
        "## Preprocesamiento"
      ]
    },
    {
      "cell_type": "markdown",
      "metadata": {
        "id": "P-Gc-31GPf3P"
      },
      "source": [
        "Normalizamos el corpus."
      ]
    },
    {
      "cell_type": "code",
      "execution_count": 8,
      "metadata": {
        "colab": {
          "base_uri": "https://localhost:8080/",
          "height": 115,
          "referenced_widgets": [
            "28b6a9aaf6f243178b500182ebb9581a",
            "c4834d96139d41b38d99c34079130b3d",
            "ca3ba337ec364fe18e233d1003c063aa",
            "bbbdf54b9a764f14bb0f95c73af44375",
            "5df9fac07fd24b388dc0089780e11ebe",
            "54a1fab2131343d98e307749762fa795",
            "036a99f92d5f48d5b9cb24ef7a18c1eb",
            "68b17ac32234431d9e38c6533eaffac7",
            "1aa2a92068fa432dbc019a462ca92d28",
            "c5130d34fe354b47afa66659665db695",
            "f276a8a2932d4e2780e29141a0423501",
            "6808629932b5465ab8c0392f344dbe9d",
            "82680f2e42404833900418e0b1b6302a",
            "5e3159fdf6264a9fa80e03d9be9016a3",
            "79210af3c6fa4f6bae0adf5b5ab21ef0",
            "388b48834cb0465580169b18704f0917"
          ]
        },
        "id": "ThwGVH6-xqR4",
        "outputId": "bb5ef182-83ab-43ad-ac34-3f84f279ea37"
      },
      "outputs": [
        {
          "name": "stderr",
          "output_type": "stream",
          "text": [
            "Loading cached processed dataset at /home/vscode/.cache/huggingface/datasets/fvillena___spanish_diagnostics/default/0.0.0/45c176cea64580ea9631f78c2867a657ede368597681e5337e9f1c976e4e84ff/cache-58506467ab2381c6.arrow\n"
          ]
        },
        {
          "name": "stderr",
          "output_type": "stream",
          "text": [
            "Loading cached processed dataset at /home/vscode/.cache/huggingface/datasets/fvillena___spanish_diagnostics/default/0.0.0/45c176cea64580ea9631f78c2867a657ede368597681e5337e9f1c976e4e84ff/cache-89bf1a6018d82ac7.arrow\n"
          ]
        }
      ],
      "source": [
        "spanish_diagnostics_normalized = spanish_diagnostics.map(\n",
        "    lambda x: { \n",
        "        \"normalized_text\" : mae2.normalize(x[\"text\"]) \n",
        "    })"
      ]
    },
    {
      "cell_type": "markdown",
      "metadata": {
        "id": "0cp7gERaQBxh"
      },
      "source": [
        "Para poder pasar nuestros documentos por la red neuronal, cada uno debe ser convertido a una secuencia de índices de palabras del vocabulario. Además, debemos asegurarnos que cada una de las secuencias que utilizaremos para entrenar el modelo tiene el mismo largo."
      ]
    },
    {
      "cell_type": "markdown",
      "metadata": {
        "id": "X_HuNRWuQTBv"
      },
      "source": [
        "Primero tokenizamos el texto crudo."
      ]
    },
    {
      "cell_type": "code",
      "execution_count": 9,
      "metadata": {
        "colab": {
          "base_uri": "https://localhost:8080/",
          "height": 35
        },
        "id": "Tg4mhQH6QgNi",
        "outputId": "adaf2ae0-98b6-4c93-a7d4-443a4b79de91"
      },
      "outputs": [
        {
          "data": {
            "text/plain": [
              "'  anomalias dentofaciales  incluso la maloclusion     discrepancia dentomaxilar'"
            ]
          },
          "execution_count": 9,
          "metadata": {},
          "output_type": "execute_result"
        }
      ],
      "source": [
        "document = spanish_diagnostics_normalized[\"train\"][\"normalized_text\"][0]\n",
        "document"
      ]
    },
    {
      "cell_type": "code",
      "execution_count": 11,
      "metadata": {
        "colab": {
          "base_uri": "https://localhost:8080/"
        },
        "id": "rcb2l7wtQpP3",
        "outputId": "67de9e6e-67d9-4b4e-a1d8-0a9c15647d20"
      },
      "outputs": [
        {
          "data": {
            "text/plain": [
              "['anomalias',\n",
              " 'dentofaciales',\n",
              " 'incluso',\n",
              " 'la',\n",
              " 'maloclusion',\n",
              " 'discrepancia',\n",
              " 'dentomaxilar']"
            ]
          },
          "execution_count": 11,
          "metadata": {},
          "output_type": "execute_result"
        }
      ],
      "source": [
        "tokens = tf.keras.preprocessing.text.text_to_word_sequence(document)\n",
        "tokens"
      ]
    },
    {
      "cell_type": "markdown",
      "metadata": {
        "id": "39ng5Mb9Q0IJ"
      },
      "source": [
        "Convertimos esta lista de tokens en una lista de índices de palabras respecto al vocabulario, sólo si esta palabra está en el vocabulario."
      ]
    },
    {
      "cell_type": "code",
      "execution_count": 12,
      "metadata": {
        "colab": {
          "base_uri": "https://localhost:8080/"
        },
        "id": "h74cbpRJQtdl",
        "outputId": "00241675-9abe-4847-da0a-b23a5322500f"
      },
      "outputs": [
        {
          "data": {
            "text/plain": [
              "[76, 123, 131, 3, 83, 2552, 737]"
            ]
          },
          "execution_count": 12,
          "metadata": {},
          "output_type": "execute_result"
        }
      ],
      "source": [
        "sequence = [vocab.index(word) for word in tokens if word in vocab]\n",
        "sequence"
      ]
    },
    {
      "cell_type": "markdown",
      "metadata": {
        "id": "6-hOlKV8RLnl"
      },
      "source": [
        "Finalmente agregamos ceros al principio de nuestra secuencia para que todas tengan exactamente el mismo largo."
      ]
    },
    {
      "cell_type": "code",
      "execution_count": 13,
      "metadata": {
        "colab": {
          "base_uri": "https://localhost:8080/"
        },
        "id": "vtuZaySZRD-r",
        "outputId": "72bb1cd0-b565-40df-f6a4-ab3805c08526"
      },
      "outputs": [
        {
          "data": {
            "text/plain": [
              "array([[   0,    0,    0,    0,    0,    0,    0,    0,    0,    0,    0,\n",
              "           0,    0,   76,  123,  131,    3,   83, 2552,  737]],\n",
              "      dtype=int32)"
            ]
          },
          "execution_count": 13,
          "metadata": {},
          "output_type": "execute_result"
        }
      ],
      "source": [
        "padded_sequence = tf.keras.preprocessing.sequence.pad_sequences([sequence], maxlen=20)\n",
        "padded_sequence"
      ]
    },
    {
      "cell_type": "markdown",
      "metadata": {
        "id": "oOUJ31TVRStG"
      },
      "source": [
        "Consolidamos todo en una función."
      ]
    },
    {
      "cell_type": "code",
      "execution_count": 14,
      "metadata": {
        "id": "DMLkpbXIxN_w"
      },
      "outputs": [],
      "source": [
        "def text_to_sequence(text,vocab):\n",
        "  \"\"\"Esta función recibe una lista de strings y devuelve una lista de listas de índices del vocabulario\"\"\"\n",
        "  sequences = []\n",
        "  tokens = tf.keras.preprocessing.text.text_to_word_sequence(text)\n",
        "  sequence = [vocab.index(word) for word in tokens if word in vocab]\n",
        "  sequences.append(sequence)\n",
        "  return sequences"
      ]
    },
    {
      "cell_type": "code",
      "execution_count": 15,
      "metadata": {
        "id": "vkqH1ee-wyLd"
      },
      "outputs": [],
      "source": [
        "def encode_text(text,vocab,maxlen=20):\n",
        "  \"\"\"Esta función recibe string y devuelve una lista de índices del vocabulario con padding\"\"\"\n",
        "  sequences = text_to_sequence(text,vocab)\n",
        "  padded_sequences = tf.keras.preprocessing.sequence.pad_sequences(sequences, maxlen=maxlen)\n",
        "  return padded_sequences[0]"
      ]
    },
    {
      "cell_type": "markdown",
      "metadata": {
        "id": "ZV1tcZGvR5Tj"
      },
      "source": [
        "Verificamos cómo funciona nuestra función."
      ]
    },
    {
      "cell_type": "code",
      "execution_count": 16,
      "metadata": {
        "colab": {
          "base_uri": "https://localhost:8080/"
        },
        "id": "3loqUNhDxJ5H",
        "outputId": "4ed7371b-eca4-44a2-d437-e8fb9e37b0a2"
      },
      "outputs": [
        {
          "data": {
            "text/plain": [
              "array([  0,   0,   0,   0,   0,   0,   0,   0,   0,   0,   0,   0,   0,\n",
              "         0,   0,   0,   0, 192,   1, 235], dtype=int32)"
            ]
          },
          "execution_count": 16,
          "metadata": {},
          "output_type": "execute_result"
        }
      ],
      "source": [
        "encode_text(\"cancer    de colon\",vocab)"
      ]
    },
    {
      "cell_type": "markdown",
      "metadata": {
        "id": "NJtQXWOOSMfo"
      },
      "source": [
        "Aplicamos nuestra función a todo el corpus."
      ]
    },
    {
      "cell_type": "code",
      "execution_count": 17,
      "metadata": {
        "colab": {
          "base_uri": "https://localhost:8080/",
          "height": 115,
          "referenced_widgets": [
            "4123dcb248b342669134b70f34d9cced",
            "203601a31ccd4024ae55ad888770326b",
            "4e8e1691837c4b05acf26f99421e1be8",
            "1e7f30aceb9745ddb6bbe771a0be2bd9",
            "449837e01fa344f1ac3e1f910f10ff67",
            "6902c05f732c4300a0d8c124fdf866f9",
            "ff689a0c3b1849dd97349dd765890ec0",
            "d20204d0410643b4a9a36c3d0b95b1bc",
            "bfe95cfdc1b348fc8c5f109472ba8a4d",
            "4a7d12eaea79434699fa95bf7aadd7cb",
            "056f8326356c400f91a73e3c9b74f83e",
            "d5753a1e689d46a7a14acbeae3ee48ea",
            "f0427c454411470d92e7da9ad69a1f65",
            "574af9550dfc4d9c98b57b565b0a7c60",
            "789d2f28e64d476985193355212d3767",
            "16f08cc024904bf98cdb01766fe55b44"
          ]
        },
        "id": "9N8eISoyxahd",
        "outputId": "cd72a421-aaec-451e-9e49-9a36cc5d6fcb"
      },
      "outputs": [
        {
          "name": "stderr",
          "output_type": "stream",
          "text": [
            "Loading cached processed dataset at /home/vscode/.cache/huggingface/datasets/fvillena___spanish_diagnostics/default/0.0.0/45c176cea64580ea9631f78c2867a657ede368597681e5337e9f1c976e4e84ff/cache-63be7102c3776cfe.arrow\n",
            "Loading cached processed dataset at /home/vscode/.cache/huggingface/datasets/fvillena___spanish_diagnostics/default/0.0.0/45c176cea64580ea9631f78c2867a657ede368597681e5337e9f1c976e4e84ff/cache-505f3deb2af497d1.arrow\n"
          ]
        }
      ],
      "source": [
        "spanish_diagnostics_normalized_encoded = spanish_diagnostics_normalized.map(\n",
        "    lambda x: { \n",
        "        \"encoded_text\" : encode_text(x[\"normalized_text\"],vocab) \n",
        "    })"
      ]
    },
    {
      "cell_type": "markdown",
      "metadata": {
        "id": "PgeJ-16eSXSw"
      },
      "source": [
        "Así se ve una instancia de nuestro dataset."
      ]
    },
    {
      "cell_type": "code",
      "execution_count": 18,
      "metadata": {
        "colab": {
          "base_uri": "https://localhost:8080/"
        },
        "id": "8rzQ9SZJyrqJ",
        "outputId": "cd801d88-4be7-4ad6-c8c1-71af64cbad10"
      },
      "outputs": [
        {
          "data": {
            "text/plain": [
              "{'text': '- ANOMALÍAS DENTOFACIALES (INCLUSO LA MALOCLUSIÓN)\\n\\n\\n DISCREPANCIA DENTOMAXILAR',\n",
              " 'label': 1,\n",
              " 'normalized_text': '  anomalias dentofaciales  incluso la maloclusion     discrepancia dentomaxilar',\n",
              " 'encoded_text': [0,\n",
              "  0,\n",
              "  0,\n",
              "  0,\n",
              "  0,\n",
              "  0,\n",
              "  0,\n",
              "  0,\n",
              "  0,\n",
              "  0,\n",
              "  0,\n",
              "  0,\n",
              "  0,\n",
              "  76,\n",
              "  123,\n",
              "  131,\n",
              "  3,\n",
              "  83,\n",
              "  2552,\n",
              "  737]}"
            ]
          },
          "execution_count": 18,
          "metadata": {},
          "output_type": "execute_result"
        }
      ],
      "source": [
        "spanish_diagnostics_normalized_encoded[\"train\"][0]"
      ]
    },
    {
      "cell_type": "markdown",
      "metadata": {
        "id": "zuqsKBlfSshg"
      },
      "source": [
        "## Modelamiento"
      ]
    },
    {
      "cell_type": "markdown",
      "metadata": {
        "id": "cS0E_uRnVuES"
      },
      "source": [
        "El primer paso del modelamiento es declarar la arquitectura que tendrá nuestra red neuronal. El tipo de red neuronal más utilizado para resolver tareas relacionadas con textos son las redes neuronales recurrentes. \n",
        "\n",
        "En este caso diseñaremos una red neuronal recurrente simple en donde cada una de las celdas de la red neuronal toma como entrada la salida del paso anterior en la secuencia.\n",
        "\n",
        "La primera capa de nuestra arquitectura será la representación de cada una de las palabras del corpus a través de un embedding. Esta capa representará la secuencia de índices como una secuencia de embeddings asociados a cada palabra del vocabulario.\n",
        "\n",
        "Esta secuencia de embeddings se pasará de manera serial por la capa recurrente simple y el estado oculto asociado al último paso de la secuencia será la representación asociada a la secuencia completa.\n",
        "\n",
        "Esta representación de la secuencia entrará a la última capa densa que contiene sólo una neurona que representará la salida verdadera o falsa de nuestra red.\n",
        "\n",
        "Especificamente en esta instancia compararemos los rendimientos de esta arquitectura al inicializar la capa de embedding con valores al azar y al inicializar la capa de embedding con valores preentrenados. También cada modelo tendrá una versión en donde sí estamos ajustando los embedding y donde no estamos ajustando los embedding."
      ]
    },
    {
      "cell_type": "code",
      "execution_count": 19,
      "metadata": {
        "id": "uLHJsiAqzCAS"
      },
      "outputs": [],
      "source": [
        "def make_model(embedding,trainable_embeddings,vocab):\n",
        "  \"\"\"Con esta función instanciamos la arquitectura de red neuronal recurrente.\"\"\"\n",
        "  model = tf.keras.Sequential() # La declaración de la arquitectura se hará de manera secuencial. La salida de la capa será la entrada de la capa siguiente.\n",
        "  if embedding == \"random\": # La capa de embedding estará condicionada con esto.\n",
        "    embedding_layer = tf.keras.layers.Embedding( # Esta capa de embedding se inicializará con valores al azar.\n",
        "        input_dim=len(vocab), # La cantidad de embeddings (filas) será igual al tamaño del vocabulario.\n",
        "        output_dim=300, # Cada palabra se representará con 300 dimensiones-\n",
        "        trainable=trainable_embeddings, # Con esto declaramos si se ajustará o no la capa de embedding.\n",
        "        mask_zero=True # Con esto omitimos pasar a la siguiente capa la representación del padding.\n",
        "    )\n",
        "  else:\n",
        "    embedding_layer = tf.keras.layers.Embedding(\n",
        "        input_dim=len(vocab), \n",
        "        output_dim=embedding.vectors.shape[1], \n",
        "        trainable=trainable_embeddings, \n",
        "        weights=[embedding.vectors], # Inicializamos la capa de embedding con los embedding preentrenados.\n",
        "        mask_zero=True\n",
        "    )\n",
        "  model.add(embedding_layer) # Agregamos la capa de embedding a la arquitectura\n",
        "  model.add(tf.keras.layers.SimpleRNN( # Agregamos la capa recurrente a la arquitectura\n",
        "      128, # La salida de esta capa tendrá 128 dimensiones\n",
        "      recurrent_dropout=0.2)) # Al azar cambia por 0 el 30 % de los pesos con el fin de disminuir el sobreajuste.\n",
        "  model.add(tf.keras.layers.Dropout(0.3)) # Esta capa al azar cambia por 0 el 30 % de los pesos con el fin de disminuir el sobreajuste.\n",
        "  model.add(tf.keras.layers.Dense(1, activation='sigmoid')) # Esta es la capa de clasificación binaria.\n",
        "  model.compile( # Compilamos el modelo\n",
        "      loss='binary_crossentropy', # Utilizamos entropia cruzada binaria debido a la que la capa de clasificación es binaria\n",
        "      optimizer='adam', # Usamos ADAM como optimización, un descenso de gradientes \"inteligente\".\n",
        "      metrics=['accuracy']) # Medimos el rendimiento de la clasificación con accuracy debido a que nuestras clases están balanceadas.\n",
        "  return model"
      ]
    },
    {
      "cell_type": "code",
      "execution_count": 20,
      "metadata": {
        "id": "9bZiFwGt1VRl"
      },
      "outputs": [],
      "source": [
        "spanish_diagnostics_normalized_encoded.set_format(type=\"numpy\", columns=[\"encoded_text\",\"label\"]) # transformamos las características a arreglos de numpy"
      ]
    },
    {
      "cell_type": "markdown",
      "metadata": {
        "id": "FI7Tc6eW9gmr"
      },
      "source": [
        "Una de las técnicas para hacer el entrenamiento de la red más corto detenemos el entrenamiento si la métrica objetivo no mejora al avanzar las épocas. Esta técnica se llama Early Stopping."
      ]
    },
    {
      "cell_type": "code",
      "execution_count": 21,
      "metadata": {
        "id": "LdY-vkPxYt-M"
      },
      "outputs": [],
      "source": [
        "early_stopping = tf.keras.callbacks.EarlyStopping( # Instanciamos un objeto de Early Stopping para detener el entrenamiento si no seguimos aprendiendo\n",
        "    monitor='val_accuracy', # Monitoreamos el accuracy del conjunto de validación\n",
        "    patience=2, # Si por 2 épocas seguidas no aumentamos el accuracy, detenemos el entrenamiento\n",
        "    restore_best_weights=True, # Cuando detenemos el entrenamiento restablecemos los pesos con el mejor rendimiento.\n",
        "    verbose=True\n",
        ")"
      ]
    },
    {
      "cell_type": "markdown",
      "metadata": {
        "id": "_r9E0tGt9z89"
      },
      "source": [
        "### Entrenamiento\n",
        "\n",
        "Entrenaremos 4 modelos distintos y compararemos sus resultados:\n",
        "\n",
        "1.   Modelo utilizando embeddings preentrenados y además ajustándolos en el entrenamiento.\n",
        "2.   Modelo utilizando embeddings preentrenados y sin ajustarlos en el entrenamiento.\n",
        "3.   Modelo sin utilizar embeddings preentrenados, sólo ajustándolos en el entrenamiento.\n",
        "4.   Modelo sin utilizar embeddings preentrenados y sin ajustarlos en el entrenamiento.\n"
      ]
    },
    {
      "cell_type": "markdown",
      "metadata": {
        "id": "XqQiwFb9-bp1"
      },
      "source": [
        "#### Embeddings clínicos preentrenados con ajuste en el entrenamiento.\n",
        "\n",
        "Utilizaremos los embeddings preentrenados en un corpus clínico y además los ajustaremos para resolver la tarea de clasificación"
      ]
    },
    {
      "cell_type": "code",
      "execution_count": 22,
      "metadata": {
        "colab": {
          "base_uri": "https://localhost:8080/"
        },
        "id": "0TgzAcAWzid6",
        "outputId": "31211425-821c-4ace-92f4-ad8924bb9de1"
      },
      "outputs": [
        {
          "name": "stderr",
          "output_type": "stream",
          "text": [
            "2023-06-27 18:42:25.257737: W tensorflow/tsl/framework/cpu_allocator_impl.cc:83] Allocation of 68534400 exceeds 10% of free system memory.\n",
            "2023-06-27 18:42:25.447795: W tensorflow/tsl/framework/cpu_allocator_impl.cc:83] Allocation of 68534400 exceeds 10% of free system memory.\n",
            "2023-06-27 18:42:25.471483: W tensorflow/tsl/framework/cpu_allocator_impl.cc:83] Allocation of 68534400 exceeds 10% of free system memory.\n",
            "2023-06-27 18:42:25.501811: W tensorflow/tsl/framework/cpu_allocator_impl.cc:83] Allocation of 68534400 exceeds 10% of free system memory.\n"
          ]
        },
        {
          "name": "stdout",
          "output_type": "stream",
          "text": [
            "Epoch 1/10\n"
          ]
        },
        {
          "name": "stderr",
          "output_type": "stream",
          "text": [
            "2023-06-27 18:42:27.017261: W tensorflow/tsl/framework/cpu_allocator_impl.cc:83] Allocation of 68534400 exceeds 10% of free system memory.\n"
          ]
        },
        {
          "name": "stdout",
          "output_type": "stream",
          "text": [
            "219/219 [==============================] - 39s 165ms/step - loss: 0.2120 - accuracy: 0.9299 - val_loss: 0.1413 - val_accuracy: 0.9587\n",
            "Epoch 2/10\n",
            "219/219 [==============================] - 32s 147ms/step - loss: 0.1402 - accuracy: 0.9600 - val_loss: 0.1391 - val_accuracy: 0.9600\n",
            "Epoch 3/10\n",
            "219/219 [==============================] - 32s 146ms/step - loss: 0.1054 - accuracy: 0.9693 - val_loss: 0.1481 - val_accuracy: 0.9557\n",
            "Epoch 4/10\n",
            "219/219 [==============================] - ETA: 0s - loss: 0.0744 - accuracy: 0.9786Restoring model weights from the end of the best epoch: 2.\n",
            "219/219 [==============================] - 31s 141ms/step - loss: 0.0744 - accuracy: 0.9786 - val_loss: 0.2085 - val_accuracy: 0.9390\n",
            "Epoch 4: early stopping\n"
          ]
        }
      ],
      "source": [
        "model_cwlce_trainable = make_model( # Instanciamos nuestro modelo\n",
        "    embedding = cwlce, # Usamos los embeddings preentrenados\n",
        "    trainable_embeddings = True, # Ajustamos los modelos en el entrenamiento\n",
        "    vocab = vocab # Usamos el vocabulario de los embeddings\n",
        ")\n",
        "model_cwlce_trainable_hist = model_cwlce_trainable.fit( # Ajustamos el modelo\n",
        "    spanish_diagnostics_normalized_encoded[\"train\"][\"encoded_text\"][:7000], # Utilizamos el 10% de los datos de entrenamiento\n",
        "    spanish_diagnostics_normalized_encoded[\"train\"][\"label\"][:7000],\n",
        "    epochs=10, # Entrenamos máximo por 10 épocas\n",
        "    callbacks=[early_stopping], # Llamamos a nuestro objeto de Early Stopping al final de cada época\n",
        "    validation_data=( # Utilizamos el conjunto de prueba para validar el modelo al final de cada época.\n",
        "        spanish_diagnostics_normalized_encoded[\"test\"][\"encoded_text\"][:3000],\n",
        "        spanish_diagnostics_normalized_encoded[\"test\"][\"label\"][:3000],\n",
        "    )\n",
        ")"
      ]
    },
    {
      "cell_type": "markdown",
      "metadata": {
        "id": "C-vnYL1F_UHk"
      },
      "source": [
        "#### Embeddings clínicos preentrenados sin ajuste en el entrenamiento.\n",
        "\n",
        "Utilizaremos los embeddings preentrenados en un corpus clínico y no los ajustaremos al resolver la tarea de clasificación."
      ]
    },
    {
      "cell_type": "code",
      "execution_count": 23,
      "metadata": {
        "colab": {
          "base_uri": "https://localhost:8080/"
        },
        "id": "0u1lSlgezn84",
        "outputId": "f349a1ff-fb75-4f74-d98d-adb7d579e19f"
      },
      "outputs": [
        {
          "name": "stdout",
          "output_type": "stream",
          "text": [
            "Epoch 1/10\n",
            "219/219 [==============================] - 4s 12ms/step - loss: 0.2188 - accuracy: 0.9253 - val_loss: 0.1424 - val_accuracy: 0.9580\n",
            "Epoch 2/10\n",
            "219/219 [==============================] - 2s 10ms/step - loss: 0.1674 - accuracy: 0.9506 - val_loss: 0.1804 - val_accuracy: 0.9367\n",
            "Epoch 3/10\n",
            "219/219 [==============================] - 2s 11ms/step - loss: 0.1554 - accuracy: 0.9573 - val_loss: 0.1352 - val_accuracy: 0.9610\n",
            "Epoch 4/10\n",
            "219/219 [==============================] - 2s 11ms/step - loss: 0.1411 - accuracy: 0.9597 - val_loss: 0.1505 - val_accuracy: 0.9530\n",
            "Epoch 5/10\n",
            "215/219 [============================>.] - ETA: 0s - loss: 0.1292 - accuracy: 0.9619Restoring model weights from the end of the best epoch: 3.\n",
            "219/219 [==============================] - 2s 11ms/step - loss: 0.1303 - accuracy: 0.9614 - val_loss: 0.1422 - val_accuracy: 0.9560\n",
            "Epoch 5: early stopping\n"
          ]
        }
      ],
      "source": [
        "model_cwlce_frozen = make_model(\n",
        "    embedding = cwlce,\n",
        "    trainable_embeddings = False, # No ajustamos los modelos en el entrenamiento\n",
        "    vocab = vocab\n",
        ")\n",
        "model_cwlce_frozen_hist = model_cwlce_frozen.fit(\n",
        "    spanish_diagnostics_normalized_encoded[\"train\"][\"encoded_text\"][:7000],\n",
        "    spanish_diagnostics_normalized_encoded[\"train\"][\"label\"][:7000],\n",
        "    epochs=10,\n",
        "    callbacks=[early_stopping],\n",
        "    validation_data=(\n",
        "        spanish_diagnostics_normalized_encoded[\"test\"][\"encoded_text\"][:3000],\n",
        "        spanish_diagnostics_normalized_encoded[\"test\"][\"label\"][:3000],\n",
        "    )\n",
        ")"
      ]
    },
    {
      "cell_type": "markdown",
      "metadata": {
        "id": "4R9dWblF_bDs"
      },
      "source": [
        "#### Los embeddings se ajustan en el entrenamiento\n",
        "\n",
        "No utilizaremos los embeddings preentrenados, los ajustaremos mientras se resuelve la tarea de clasificación"
      ]
    },
    {
      "cell_type": "code",
      "execution_count": 24,
      "metadata": {
        "colab": {
          "base_uri": "https://localhost:8080/"
        },
        "id": "2TuNmDNV3naA",
        "outputId": "6d20d837-e17d-49d5-fc9a-67ae122fa08f"
      },
      "outputs": [
        {
          "name": "stdout",
          "output_type": "stream",
          "text": [
            "Epoch 1/10\n",
            "219/219 [==============================] - 34s 152ms/step - loss: 0.3279 - accuracy: 0.8759 - val_loss: 0.1943 - val_accuracy: 0.9400\n",
            "Epoch 2/10\n",
            "219/219 [==============================] - 32s 147ms/step - loss: 0.1190 - accuracy: 0.9691 - val_loss: 0.1830 - val_accuracy: 0.9390\n",
            "Epoch 3/10\n",
            "219/219 [==============================] - ETA: 0s - loss: 0.0751 - accuracy: 0.9776Restoring model weights from the end of the best epoch: 1.\n",
            "219/219 [==============================] - 29s 132ms/step - loss: 0.0751 - accuracy: 0.9776 - val_loss: 0.1991 - val_accuracy: 0.9313\n",
            "Epoch 3: early stopping\n"
          ]
        }
      ],
      "source": [
        "model_random_trainable = make_model(\n",
        "    embedding = \"random\", # No usamos embeddings preentrenados.\n",
        "    trainable_embeddings = True,\n",
        "    vocab = vocab\n",
        ")\n",
        "model_random_trainable_hist = model_random_trainable.fit(\n",
        "    spanish_diagnostics_normalized_encoded[\"train\"][\"encoded_text\"][:7000],\n",
        "    spanish_diagnostics_normalized_encoded[\"train\"][\"label\"][:7000],\n",
        "    epochs=10,\n",
        "    callbacks=[early_stopping],\n",
        "    validation_data=(\n",
        "        spanish_diagnostics_normalized_encoded[\"test\"][\"encoded_text\"][:3000],\n",
        "        spanish_diagnostics_normalized_encoded[\"test\"][\"label\"][:3000],\n",
        "    )\n",
        ")"
      ]
    },
    {
      "cell_type": "markdown",
      "metadata": {
        "id": "Wf-3STz-_r3b"
      },
      "source": [
        "#### Los embeddings no se ajustan en el entrenamiento ni se preentrenan\n",
        "\n",
        "No utilizaremos los embeddings preentrenados ni los ajustaremos mientras se resuelve la tarea de clasificación"
      ]
    },
    {
      "cell_type": "code",
      "execution_count": 25,
      "metadata": {
        "colab": {
          "base_uri": "https://localhost:8080/"
        },
        "id": "43nU-H1P4x7o",
        "outputId": "10522d1a-5b79-47e9-e1fd-c97b74d296e7"
      },
      "outputs": [
        {
          "name": "stdout",
          "output_type": "stream",
          "text": [
            "Epoch 1/10\n",
            "219/219 [==============================] - 4s 12ms/step - loss: 0.5831 - accuracy: 0.7203 - val_loss: 0.4362 - val_accuracy: 0.8357\n",
            "Epoch 2/10\n",
            "219/219 [==============================] - 2s 10ms/step - loss: 0.4454 - accuracy: 0.8253 - val_loss: 0.4658 - val_accuracy: 0.8390\n",
            "Epoch 3/10\n",
            "219/219 [==============================] - 2s 11ms/step - loss: 0.4074 - accuracy: 0.8349 - val_loss: 0.3675 - val_accuracy: 0.8550\n",
            "Epoch 4/10\n",
            "219/219 [==============================] - 2s 10ms/step - loss: 0.4021 - accuracy: 0.8393 - val_loss: 0.4174 - val_accuracy: 0.8480\n",
            "Epoch 5/10\n",
            "219/219 [==============================] - 2s 10ms/step - loss: 0.3822 - accuracy: 0.8464 - val_loss: 0.3743 - val_accuracy: 0.8593\n",
            "Epoch 6/10\n",
            "219/219 [==============================] - 2s 10ms/step - loss: 0.3751 - accuracy: 0.8457 - val_loss: 0.3406 - val_accuracy: 0.8610\n",
            "Epoch 7/10\n",
            "219/219 [==============================] - 3s 11ms/step - loss: 0.3605 - accuracy: 0.8569 - val_loss: 0.3434 - val_accuracy: 0.8587\n",
            "Epoch 8/10\n",
            "219/219 [==============================] - ETA: 0s - loss: 0.3446 - accuracy: 0.8641Restoring model weights from the end of the best epoch: 6.\n",
            "219/219 [==============================] - 2s 10ms/step - loss: 0.3446 - accuracy: 0.8641 - val_loss: 0.3680 - val_accuracy: 0.8460\n",
            "Epoch 8: early stopping\n"
          ]
        }
      ],
      "source": [
        "model_random_frozen = make_model(\n",
        "    embedding = \"random\",\n",
        "    trainable_embeddings = False,\n",
        "    vocab = vocab\n",
        ")\n",
        "model_random_frozen_hist = model_random_frozen.fit(\n",
        "    spanish_diagnostics_normalized_encoded[\"train\"][\"encoded_text\"][:7000],\n",
        "    spanish_diagnostics_normalized_encoded[\"train\"][\"label\"][:7000],\n",
        "    epochs=10,\n",
        "    callbacks=[early_stopping],\n",
        "    validation_data=(\n",
        "        spanish_diagnostics_normalized_encoded[\"test\"][\"encoded_text\"][:3000],\n",
        "        spanish_diagnostics_normalized_encoded[\"test\"][\"label\"][:3000],\n",
        "    )\n",
        ")"
      ]
    },
    {
      "cell_type": "markdown",
      "metadata": {
        "id": "EIpLgmQ1_zvi"
      },
      "source": [
        "### Comparación\n",
        "\n",
        "Compararemos cómo se van comportando las métricas objetivo a medida que avanzaron las épocas.\n",
        "\n",
        "Los modelos que usaron embeddings preentrenados obtuvieron el mejor rendimiento y al ajustar esos embeddings preentrenados obtenemos un mejor rendimiento.\n",
        "\n",
        "El ajustar los embeddings sin preentrenarlos también genera buenos resultados, pero el nunca ajustar los embeddings genera muy malos resultados porque no tenemos un modelo lo suficientemente flexible para ajustarse a resolver la tarea.\n",
        "\n",
        "Se debe destacar que el no ajustar los embeddings en el entrenamiento genera un aumento significativo en la velocidad de entrenamiento."
      ]
    },
    {
      "cell_type": "code",
      "execution_count": 30,
      "metadata": {
        "colab": {
          "base_uri": "https://localhost:8080/",
          "height": 350
        },
        "id": "oaaHJnCWU5Nd",
        "outputId": "177fa838-638a-4e79-dc36-0652f6581704"
      },
      "outputs": [
        {
          "data": {
            "image/png": "[encoded data removed]",
            "text/plain": [
              "<Figure size 1000x500 with 2 Axes>"
            ]
          },
          "metadata": {},
          "output_type": "display_data"
        }
      ],
      "source": [
        "fig, axs = plt.subplots(1,2,figsize=(10,5),sharex=True,sharey=True)\n",
        "\n",
        "axs[0].plot(\n",
        "    model_cwlce_trainable_hist.history[\"val_accuracy\"],\n",
        "    c=\"tab:blue\",\n",
        "    label=\"CWLC trainable embeddings\"\n",
        ")\n",
        "axs[0].plot(\n",
        "    model_cwlce_frozen_hist.history[\"val_accuracy\"],\n",
        "    c=\"tab:blue\",\n",
        "    linestyle=\"--\",\n",
        "    label=\"CWLC frozen embeddings\"\n",
        ")\n",
        "\n",
        "axs[0].plot(\n",
        "    model_random_trainable_hist.history[\"val_accuracy\"],\n",
        "    c=\"tab:orange\",\n",
        "    label=\"Random trainable embeddings\"\n",
        ")\n",
        "axs[0].plot(\n",
        "    model_random_frozen_hist.history[\"val_accuracy\"],\n",
        "    c=\"tab:orange\",\n",
        "    linestyle=\"--\",\n",
        "    label=\"Random frozen embeddings\"\n",
        ")\n",
        "\n",
        "\n",
        "axs[1].plot(\n",
        "    model_cwlce_trainable_hist.history[\"accuracy\"],\n",
        "    c=\"tab:blue\",\n",
        "    label=\"CWLC trainable embeddings\"\n",
        ")\n",
        "axs[1].plot(\n",
        "    model_cwlce_frozen_hist.history[\"accuracy\"],\n",
        "    c=\"tab:blue\",\n",
        "    linestyle=\"--\",\n",
        "    label=\"CWLC frozen embeddings\"\n",
        ")\n",
        "\n",
        "axs[1].plot(\n",
        "    model_random_trainable_hist.history[\"accuracy\"],\n",
        "    c=\"tab:orange\",\n",
        "    label=\"Random trainable embeddings\"\n",
        ")\n",
        "axs[1].plot(\n",
        "    model_random_frozen_hist.history[\"accuracy\"],\n",
        "    c=\"tab:orange\",\n",
        "    linestyle=\"--\",\n",
        "    label=\"Random frozen embeddings\"\n",
        ")\n",
        "axs[0].legend()\n",
        "axs[0].set_title(\"Validation\")\n",
        "axs[1].set_title(\"Training\")\n",
        "axs[0].set_ylabel(\"Accuracy\")\n",
        "axs[0].set_xlabel(\"Epoch\")\n",
        "plt.show()"
      ]
    },
    {
      "cell_type": "markdown",
      "metadata": {
        "id": "8s4CJmJ-EXTU"
      },
      "source": [
        "Probemos qué predice la red al pasar un ejemplo del conjunto de prueba."
      ]
    },
    {
      "cell_type": "code",
      "execution_count": 35,
      "metadata": {
        "colab": {
          "base_uri": "https://localhost:8080/",
          "height": 35
        },
        "id": "kj1jmGP-E7AD",
        "outputId": "3b5bfdbf-6c1d-4ef8-e8c7-dec48baf89b8"
      },
      "outputs": [
        {
          "data": {
            "text/plain": [
              "'N913 OLIGOMENORREA PRIMARIA AMENORREA PRIMARIA NUNCA ESTUDIADA SOLICITO CARIPOGRAMA ADEMAS HIPOTIROIDISMO DESDE LOS 18 AÑOS EN TRATAMIENTO'"
            ]
          },
          "execution_count": 35,
          "metadata": {},
          "output_type": "execute_result"
        }
      ],
      "source": [
        "spanish_diagnostics[\"test\"][\"text\"][2]"
      ]
    },
    {
      "cell_type": "code",
      "execution_count": 36,
      "metadata": {
        "colab": {
          "base_uri": "https://localhost:8080/"
        },
        "id": "jzsGlPQSEfW8",
        "outputId": "bac4f037-2478-487d-ab44-e228a4727433"
      },
      "outputs": [
        {
          "data": {
            "text/plain": [
              "array([    0,     0,     0,     0,    49,  4698,   347,  1076,   347,\n",
              "        3285,  5249,   269, 40362,  1195,   254,   440,     8,    94,\n",
              "           6,   141])"
            ]
          },
          "execution_count": 36,
          "metadata": {},
          "output_type": "execute_result"
        }
      ],
      "source": [
        "spanish_diagnostics_normalized_encoded[\"test\"][\"encoded_text\"][2]"
      ]
    },
    {
      "cell_type": "code",
      "execution_count": 37,
      "metadata": {
        "id": "aYwBcfc4EoJv"
      },
      "outputs": [],
      "source": [
        "example_input = np.expand_dims(spanish_diagnostics_normalized_encoded[\"test\"][\"encoded_text\"][2], axis=0)"
      ]
    },
    {
      "cell_type": "markdown",
      "metadata": {
        "id": "xB0zdjmWFC2I"
      },
      "source": [
        "La salida de la red es un número menor a 0.5 por lo que podemos asumir que es de la clase False, por lo que la clase predecida es no_dental."
      ]
    },
    {
      "cell_type": "code",
      "execution_count": 38,
      "metadata": {
        "colab": {
          "base_uri": "https://localhost:8080/"
        },
        "id": "InVjscGjEcRK",
        "outputId": "376e98ac-2833-4448-c313-aec22f7bd471"
      },
      "outputs": [
        {
          "name": "stdout",
          "output_type": "stream",
          "text": [
            "1/1 [==============================] - 0s 140ms/step\n"
          ]
        },
        {
          "data": {
            "text/plain": [
              "array([[0.00687719]], dtype=float32)"
            ]
          },
          "execution_count": 38,
          "metadata": {},
          "output_type": "execute_result"
        }
      ],
      "source": [
        "model_cwlce_trainable.predict(example_input)"
      ]
    },
    {
      "cell_type": "markdown",
      "metadata": {
        "id": "fauzG1AHAhCO"
      },
      "source": [
        "## Exploración en detalle de la arquitectura."
      ]
    },
    {
      "cell_type": "markdown",
      "metadata": {
        "id": "mBGJIsNvB4Al"
      },
      "source": [
        "Tenemos esencialmente una arquitectura de 3 capas (omitimos el dropout):\n",
        "\n",
        "*   Capa de embedding con 17.133.600 parametros entrenables. Esta cantidad se explica porque tenemos 300 parámetros por cada una de las 57112 palabras del vocabulario.\n",
        "*   Capa recurrente con 54.910 parámetros explicados porque tenemos `128*300` pesos para representar las 300 activaciones de entrada con 128 unidades por cada celda de la red, `128*128` pesos para representar el estado oculto de cada célula y 128 biases que se suman al estado oculto.\n",
        "* Capa de clasificación con `1*128` pesos para representar la única neurona de clasificación, además de su respectivo 1 bias.\n",
        "\n"
      ]
    },
    {
      "cell_type": "code",
      "execution_count": 39,
      "metadata": {
        "colab": {
          "base_uri": "https://localhost:8080/"
        },
        "id": "35_ci7_NT2Q2",
        "outputId": "234f5255-aa6d-430b-ad3c-04c8c235e64d"
      },
      "outputs": [
        {
          "name": "stdout",
          "output_type": "stream",
          "text": [
            "Model: \"sequential\"\n",
            "_________________________________________________________________\n",
            " Layer (type)                Output Shape              Param #   \n",
            "=================================================================\n",
            " embedding (Embedding)       (None, None, 300)         17133600  \n",
            "                                                                 \n",
            " simple_rnn (SimpleRNN)      (None, 128)               54912     \n",
            "                                                                 \n",
            " dropout (Dropout)           (None, 128)               0         \n",
            "                                                                 \n",
            " dense (Dense)               (None, 1)                 129       \n",
            "                                                                 \n",
            "=================================================================\n",
            "Total params: 17,188,641\n",
            "Trainable params: 17,188,641\n",
            "Non-trainable params: 0\n",
            "_________________________________________________________________\n"
          ]
        }
      ],
      "source": [
        "model_cwlce_trainable.summary()"
      ]
    },
    {
      "cell_type": "markdown",
      "metadata": {
        "id": "Xp-LVga_FNr9"
      },
      "source": [
        "Exploraremos cómo pasar manualmente nuestro ejemplo por la red.\n",
        "\n",
        "Primero debemos representar nuestra secuencia de entrada con los embeddings de la red. Nuestra capa de embedding es simplemente un mapeo desde los índices de nuestro vocabulario hacia los embeddings de cada palabra, por lo que podemos extraer los embeddings simplemente mediante una lista de índices.\n",
        "\n",
        "La salida de esta capa debiese ser una secuencia de embeddings del mismo tamaño que la entrada (20), además tenemos una dimensión adicional al principio que es batch size, el cual es 1, porque sólo tenemos 1 ejemplo.\n",
        "\n",
        "Además de la secuencia de embedding debemos tener una máscara que nos dirá qué embeddings omitir. Debemos omitir todos los embeddings que son parte del padding."
      ]
    },
    {
      "cell_type": "code",
      "execution_count": 40,
      "metadata": {
        "colab": {
          "base_uri": "https://localhost:8080/"
        },
        "id": "YyjQn2mFHrrw",
        "outputId": "da99d200-0c45-43da-ca75-acc96d2ed582"
      },
      "outputs": [
        {
          "data": {
            "text/plain": [
              "<tf.Tensor: shape=(1, 20, 300), dtype=float32, numpy=\n",
              "array([[[ 1.3340000e-03,  1.4730000e-03, -1.2769999e-03, ...,\n",
              "         -4.3700001e-04, -5.5200001e-04,  1.0240000e-03],\n",
              "        [ 1.3340000e-03,  1.4730000e-03, -1.2769999e-03, ...,\n",
              "         -4.3700001e-04, -5.5200001e-04,  1.0240000e-03],\n",
              "        [ 1.3340000e-03,  1.4730000e-03, -1.2769999e-03, ...,\n",
              "         -4.3700001e-04, -5.5200001e-04,  1.0240000e-03],\n",
              "        ...,\n",
              "        [ 3.2787120e-01,  1.5014425e-01,  1.0560685e-01, ...,\n",
              "          4.7126728e-01, -7.1459651e-02,  4.0696812e-01],\n",
              "        [-1.2516201e-01, -2.5372526e-01, -2.1431084e-01, ...,\n",
              "          3.2557538e-01, -1.5406534e-01,  1.2876338e-01],\n",
              "        [ 2.6919502e-01,  1.2605742e-02, -3.0517775e-01, ...,\n",
              "         -3.9623544e-02,  6.9621764e-02, -1.8890595e-01]]], dtype=float32)>"
            ]
          },
          "execution_count": 40,
          "metadata": {},
          "output_type": "execute_result"
        }
      ],
      "source": [
        "example_embedding_sequence = tf.gather(\n",
        "    model_cwlce_trainable.layers[0].weights[0],\n",
        "    indices=example_input\n",
        "    )\n",
        "example_embedding_sequence"
      ]
    },
    {
      "cell_type": "code",
      "execution_count": 41,
      "metadata": {
        "colab": {
          "base_uri": "https://localhost:8080/"
        },
        "id": "GNsnAGscJEze",
        "outputId": "ac261acc-4a8f-456a-d3ee-df87e1aa2265"
      },
      "outputs": [
        {
          "data": {
            "text/plain": [
              "<tf.Tensor: shape=(1, 20), dtype=bool, numpy=\n",
              "array([[False, False, False, False,  True,  True,  True,  True,  True,\n",
              "         True,  True,  True,  True,  True,  True,  True,  True,  True,\n",
              "         True,  True]])>"
            ]
          },
          "execution_count": 41,
          "metadata": {},
          "output_type": "execute_result"
        }
      ],
      "source": [
        "example_input_mask = tf.constant([e != 0 for e in example_input])\n",
        "example_input_mask"
      ]
    },
    {
      "cell_type": "markdown",
      "metadata": {
        "id": "ApqIfOElKH0J"
      },
      "source": [
        "Ahora debemos pasar la secuencia de embeddings y la máscara a nuestra capa recurrente. Nuestra capa recurrente es un ciclo for en donde en cada ciclo (timestep) vamos actualizando nuestro estado oculto, recordando omitir los embeddings que son parte del padding.\n",
        "\n",
        "Nuestra capa recurrente tiene 3 matrices de pesos y sesgos que se utilizarán para actualizar el estado oculto de la capa:\n",
        "\n",
        "1.   Matriz de pesos para representar la secuencia de embedding de entrada (w_hx)\n",
        "2.   Matriz recurrente que se utilizará para actualizar nuestro estado oculto en cada timestep según la representación de la entrada (w_hh).\n",
        "3.   Matriz de sesgos que se suma al estado del estado oculto.\n",
        "\n",
        "El flujo de datos en el esto oculto de nuestra célula recurrente (conjunto de pesos y sesgos en un timestep específico) está representado en la siguiente figura:\n",
        "\n",
        "![image.png](data:image/png;base64,iVBORw0KGgoAAAANSUhEUgAAA1UAAAJfCAYAAACXE/wUAAAgAElEQVR4AeydB5hU1fnGTWISDdFoEksSQBM1JjF2o6KIGlvEv73GrsRgx2DFgmLDTu+gFOnbWHrvLB2WbSxs7733Nfn+z3v0LsM6s9PuvXPLu88zz8zO3HLOe757z/e73znfOUL4RwWoABWgAlSAClABKkAFqAAVoAIhK3BEyHtyRypABagAFaACVIAKUAEqQAWoABUQQhWNgApQASpABagAFaACVIAKUAEqEIYChKowxOOuVIAKUAEqQAWoABWgAlSAClABQhVtgApQASpABagAFaACVIAKUAEqEIYChKowxOOuVIAKUAEqQAWoABWgAlSAClABQhVtgApQASpABagAFaACVIAKUAEqEIYChKowxOOuVIAKUAEqQAWoABWgAlSAClABQhVtgApQASpABagAFaACVIAKUAEqEIYChKowxOOuVIAKUAEqQAWoABWwqwKVlZVSUFDAVwAaNDU12bWZWW6TFCBUmSQ0T0MFqAAVoAJUgApQASspAKDKzs6WwsJCvnxoAI0OHDgg9fX1Vmo6lsWCChCqLNgoLBIVoAJUgApQASpABYxWAMAAoKqrq+PLhwY1NTWSkZFBqDLaGB1wfEKVAxqRVaACVIAKUAEqQAWoQLAKEKr8wyShKlircu/2hCr3tj1rTgWoABWgAlSACrhYAUIVocrF5q971QlVukvKA1IBKkAFqAAVoAJUwPoKEKoIVda3UvuUkFBln7ZiSakAFaACVIAKUAEqoJsChCpClW7GxAMJoYpGQAWoABWgAlSAClABFypAqCJUudDsDasyocowaXlgKkAFqAAVoAJUgApYVwGrQ1VVVZWUlJRIcXFxxLITMlGFde3XaiUjVFmtRVgeKkAFqAAVoAJUgAqYoIDVoSohIUFeeOEFeeihhwhVJtgDTxGeAoSq8PTj3lSAClABKkAFqAAVsKUCVoeqcePGyW233SaPP/44ocqWFuauQhOq3NXerC0VoAJUgApQASpABZQCVoQqDPnDYruTJk2Svn37yhlnnCGXXHKJDBo0SL127txpKmBx+B8vlkAVIFQFqhS3owJUgApQASpABaiAgxSwIlRVVFTIvn375Nlnn5Xu3bvLCSecIOeee6707t1bvZYvX06ocpANOqkqhContSbrQgWoABWgAlSAClCBABWwIlTV1dUJokPZ2dly7bXXyr333itr1641FaRQBu3FSFWAxsTNmFKdNkAFqAAVoAJUgApQATcqYFWowhDAFStWqGF/iFgBsDTIMfudUOXGKyO0OjNSFZpu3IsKUAEqQAWoABWgArZWwKpQVV5eLqNGjZKrrrpKhg4dKpWVlYQqW1uaOwpPqHJHO7OWVIAKUAEqQAWoABU4TAGrQhXWpvr3v/+thv7NnDkzYkCFqBgjVYeZDP/pQgFCVRfi8CcqQAWoABWgAlSACjhVAatCVWFhofTp00elUl+yZIng/71790pRUZFUV1ebClmEKqdav/71IlTprymPSAWoABWgAlSAClAByytgFFTV1taqCE9ZWZngHHgh+gRAwW+IAGHeFL7Ly8tTL2yL3/Fbfn6+nH766XLzzTfL1KlTBRn/BgwYIFu2bFH7mDmvilBleTO2TAEJVZZpChaEClABKkAFqAAVoALmKWAUVAGYDh48KO+995706tVLLrzwQgVFgCUNnNavXy8vvvii9OzZU70+//xzSU9PV1BVWloqr776qvz5z3+W0047Te68806ZPXu2gjNtf7PAilBlnj3a/UyEKru3IMtPBagAFaACVIAKUIEQFDAKqvbv3y+fffaZzJgxQwYPHixXXHGFXHrppYKhfIhIAYhycnLU76eeeqocc8wxMmbMGBWxwm8Y4rdnzx5ZsGCBzJ8/X1auXCmZmZmmD/1DWQhVIRiWS3chVLm04VltKkAFqAAVoAJUwN0KGAVVAKaYmBhJSUmRhIQEeeSRRwTw9NFHH6mhfVqUadOmTXLZZZfJDTfcIEuXLo1olj+tTJ3fCVXuvkaCqT2hKhi1uC0VoAJUgApQASpABRyigFFQ5QkmmDf1yiuvSPfu3eXRRx+VrKwsFalCNAqL+vbu3Vsw9C81NVV977mvFT4Tqhxi7CZUg1Blgsg8BRWgAlSAClABKkAFrKaAGVAFMPr000/lzDPPVFEpbd4UMvnNnTtXzZlCNKuiooJQZTUDYXmCUoBQFZRc3JgKUAEqQAWoABWgAs5QwCyomjVrllx//fXy61//WpKTkxU8IUqFhX3feOMNNb9KywpoheiUZxkYqXKGrZtRC0KVGSrzHFSAClABKkAFqAAVsJgCZkHVihUr5LHHHlMJKZYtWybZ2dkybtw4eeaZZyQxMdGSc6k0sCJUWcxoLVwcQpWFG4dFowJUgApQASpABaiAUQqYBVU7duxQEalu3bqp1OhxcXEybNgwGT16tCWH/GlAhXdClVHW57zjEqqc16asERWgAlSAClABKkAF/CpgFlRlZGSolOlHH320vP/++yrN+pQpU1SUyhNgrPiZUOXXjLjBdwoQqmgKVIAKUAEqQAWoABVwoQJmQRVgCWtUHXnkkXLWWWdJv3791P9WhKjOZSJUufDCCLHKhKoQheNuVIAKUAEqQAWoABWwswJmQtWqVaukZ8+ecs4558jUqVM7FvrtDDFW+59QZWcLN7fshCpz9ebZqAAVoAJUgApQASpgCQXMgqry8nK1uO8FF1wgH3/8sRr2h3WqrAZQ3spDqLKEqdqiEIQqWzQTC0kFqAAVoAJUgApQAX0VMAuqtm/fruZUvfzyy7Jr1y4pKyuzBVABsghV+tqck49GqHJy67JuVIAKUAEqQAWoABXwoYARUFVVVaVSpm/atElKSkpk//79arjfBx98IOvWrRNErbxFhKz6HaHKh/Hw6+8pQKj6niT8ggpQASpABagAFaACzlfACKjKyckRLPZ76aWXKoj65JNP5MMPP7RNYorOcEeocv51oFcNCVV6KcnjUAEqQAWoABWgAlTARgoYAVVYk+rNN9+Un/3sZ9KnTx/54osvBMP/7DTkzxOsCFU2MugIF5VQFeEG4OmpABWgAlSAClABKhAJBYyAKhwTYDV79mxZuHCh7Nu3T0pLS2015I9QFQlrtP85CVX2b0PWgApQASpABagAFaACQStgBFR5AokTPjNSFbRZuXYHQpVrm54VpwJUgApQASpABdysAKGqzm8EjVDl5iskuLoTqoLTi1tTASpABagAFaACVMARChCqCFWOMGSLVIJQZZGGYDGoABWgAlSAClABKmCmAoQqQpWZ9ub0cxGqnN7CrB8VoAJUgApQASpABbwoQKgiVHkxC34VogKEqhCF425UgApQASpABagAFbCzAoCq7OxsKSws5MuHBtDowIEDUl9fb+emZtlNUIBQZYLIPAUVoAJUgApQASpABaymQHl5ueTl5fEVgAZNTU1Waz6Wx2IKEKos1iAsDhWgAlSAClABKkAFqAAVoAL2UoBQZa/2YmmpABWgAlSAClABKkAFqAAVsJgChCqLNQiLQwWoABWgAlSAClABKkAFqIC9FCBU2au9WFoqQAWoABWgAlSAClABKkAFLKYAocpiDcLiUAEqQAWoABWgAlSAClABKmAvBQhV9movlpYKUAEqQAWoABWgAlSAClABiylAqLJYg7A4VIAKUAEqQAWoABWgAlSACthLAUKVvdqLpaUCVIAKUAEqQAWoABWgAlTAYgoQqizWICwOFaACVIAKUAEqQAWoABWgAvZSgFBlr/ZiaakAFaACVIAKUAEqQAWoABWwmAKEKos1CItDBagAFaACVIAKUAEqQAWogL0UIFTZq71YWipABagAFaACVIAKUAEqQAUspgChymINwuJQASpABagAFaACVIAKUAEqYC8FCFX2ai+WlgpQASpABagAFaACVIAKUAGLKUCosliDsDhUgApQASpABagAFXCzAv/73/+kpaVFvvnmGzfLwLrbTAFClc0ajMWlAlSAClABKkAFqIBTFQBQtbe3y/79+6W6ulrwP/+ogB0UIFTZoZVYRipABagAFaACVIAKuEABAFVhYaHceuutEh0dLbW1tS6oNavoBAUIVU5oRdaBClABKkAFqAAVoAIOUKC4uFjGjx8vPXr0kAEDBsju3bsdUCtWwQ0KEKrc0MqsIxWgAlSAClABKkAFLK4AolQ7duyQa665Ro466ig5//zzZdKkSVJfX2/xkrN4VECEUEUroAJUgApQASpABagAFYi4AqWlpTJt2jTp1q2b/OAHP1Bg9dRTT0lKSkrEy8YCUAF/ChCq/CnE36kAFaACVIAKUAEqQAUMVQAJKVauXCn333+/HHHEER2v3r17y4QJE+S///0vk1YY2gI8eLgKEKrCVZD7UwEqQAWoABWgAlSACoSlQGNjowwdOlROPPHEDqACXB177LEqaUVBQYHKChjWSbgzFTBQAUKVgeLy0FSAClABKkAFqAAVoAL+FVi7dq3ceeed8qMf/egwqPrhD38oZ511lsyYMUPq6ur8H4hbUIEIKUCoipDwPC0VoAJUgApQASpABdyugLbQ7+DBg+W00047DKi0YYDHH3+83H777XLgwAFpa2tzu2Ssv0UVIFRZtGFYLCpABagAFaACVIAKOF2Bb775Ri3027dvX/nJT37iFaoQvTrppJMkNjZWKisrnS4J62dTBQhVNm04FpsKUAEqQAWoABWgAnZXoLm5WcaMGSMXXnihHHPMMR0vZP87+uijO/4/4YQT5JVXXlEAZvc6s/zOVIBQ5cx2Za2oABWgAlSAClABKmB5BZDVD0kodu7cKRs3blSvJUuWyMknnywffvhhx3ebNm2SxMREqa2ttXydWEB3KkCocme7s9ZUgApQASpABagAFYi4AphThXlSTU1NggyAeBUWFkrPnj1lzpw5Hd9pv2GBYP5RASsqQKiyYquwTFSAClABKkAFqAAVcKkC1dXVcsopp6g5VC6VgNW2oQKEKhs2GotMBagAFaACVIAKUAGnKkCocmrLOrtehCpnty9rRwWoABWgAlSAClABWylAqLJVc7Gw3ylAqKIpUAEqQAWoABWgAlSAClhGAUKVZZqCBQlCAUJVEGJxUypABagAFaACVIAKUAFjFSBUGasvj26MAoQqY3TlUakAFaACVIAKUAEqQAVCUIBQFYJo3CXiChCqIt4ELAAVoAJUgApQASpABaiApgChSlOC73ZSgFBlp9ZiWakAFaACVIAKUAEq4HAFCFUOb2CHVo9Q5dCGZbWoABWgAlSAClABKmBHBQhVdmw1lplQRRugAlSAClABKkAFqAAVsIwChCrLNAULEoQChKogxOKmVIAKUAEqQAWoABWgAsYqQKgyVl8e3RgFCFXG6MqjUgEqQAWoABWgAlSACoSgAKEqBNG4S8QVIFRFvAlYACpABagAFaACVIAKUAFNAUKVpgTf7aQAocpOrcWyUgEqQAWoABWgAlTA4QoQqhzewA6tHqHKoQ3LalEBKkAFqAAVoAJUwI4KEKrs2GosM6GKNkAFqAAVoAJUgApQASpgGQUIVZZpChYkCAUIVUGIxU0PV6CuoUV2JOXzRQ1oA7QB2gBtgDZAG9DNBtZsSZbf/La7fDpism7HNNtf2Z9VdrjTxP8crwChyvFNbFwFcYM6945hcvF9o+TSf46WXvfzRQ1oA7QB2gBtgDZAGwjPBv5216fy026/lDP7PGE73+LSf46SC+8eIf3emm+cA8YjW1IBQpUlm8UehQJUAagmzEuQxetTZeWWdL6oAW2ANkAboA3QBmgDYdlA3PIdctLJv5MhH40J6ziR8EtiVu6TZ96PJVTZw5XVtZSEKl3ldNfBAFWIUAGo8oqqpKqmgS9qQBugDdAGaAO0AdpAWDaQnVsoPXr2lBkz54R1nEj4JckHi+TNEUsJVe5yiVVtCVUubHS9qgyowhAHPAnCjeubb77hixrQBmgDtAHaAG2ANhCWDVRUVMgpp5wi0dHRYR0nEn5JZl65vD16OaFKL2fTRschVNmosaxWVEIVITISHRbPSbujDdAGaAPOtgFCldU8PpYnEAUIVYGoxG28KkCocnanRqeF7UsboA3QBmgDkbABQpVXt4tfWlwBQpXFG8jKxSNUsbONRGfLc9LuaAO0AdqAs22AUGVl749l86UAocqXMvzerwKEKmd3anRa2L60AdoAbYA2EAkbIFT5dcG4gQUVIFRZsFHsUiRCFTvbSHS2PCftjjZAG6ANONsGCFV28QRZTk8FCFWeavBzUAoQqpzdqdFpYfvSBmgDtAHaQCRsgFAVlDvGjS2iAKHKIg1hx2IQqtjZRqKz5Tlpd7QB2gBtwNk2QKiyo1fIMhOqaAMhK0CocnanRqeF7UsboA3QBmgDkbABQlXIrhl3jKAChKoIim/3UxOq2NlGorPlOWl3tAHaAG3A2TZAqLK7h+jO8hOq3NnuutSaUOXsTo1OC9uXNkAboA3QBiJhA4QqXdw0HsRkBQhVJgvupNMRqtjZRqKz5Tlpd7QB2gBtwNk2QKhykrfonroQqtzT1rrXlFDl7E6NTgvblzZAG6AN0AYiYQOEKt1dNh7QBAUIVSaI7NRTEKrY2Uais+U5aXe0AdoAbcDZNkCocqrn6Ox6Eaqc3b6G1o5Q5exOjU4L25c2QBugDdAGImEDhCpD3Tce3CAFCFUGCeuGwxKq2NlGorPlOWl3tAHaAG3A2TZAqHKDF+m8OhKqnNemptWIUOXsTo1OC9uXNkAboA3QBiJhA4Qq01w5nkhHBQhVOorptkMRqtjZRqKz5Tlpd7QB2gBtwNk2QKhym0fpjPoSqpzRjhGpBaHK2Z0anRa2L22ANkAboA1EwgYIVRFx63jSMBUgVIUpoJt3J1Sxs41EZ8tz0u5oA7QB2oCzbYBQ5Wbv0r51J1TZt+0iXnJClbM7NTotbF/agP1sIDk5WaZOnSqDBw+WIUOGSHx8vBQXFwvb0n5t6eY2I1RF3MVjAUJQgFAVgmjc5VsFCFXspN3c6bPutH8r2sC6devkiSeekO7du8tRRx0lr7zyiqSlpRGqvqG9WtFefZWJUEVP044KEKrs2GoWKTOhip20rw6R39M2aAORs4Ft27bJCy+8IN26dZOvvvpKioqKCFWEKlvZAKHKIo4eixGUAoSqoOTixp4KEKoi5zTRYaX2tAHagC8b2LBhg/Tv31+OPfZY2bx5s9TX19vKofZVL37vHpsnVHl6W/xsFwUIVXZpKQuWk1Dlng6OzgzbmjZgHxuIi4uTu+++W8477zw5ePCgtLW1EaoYqbKVDRCqLOj0sUh+FSBU+ZWIG/hSgFBlHyeLDjHbijbgHhuYPHmyXHXVVXLfffdx6B9hylYwpd2nCFW+PC9+b2UFCFVWbh2Ll41Q5R4nTevo+M42pw1Y2waamppk6NChcv7556sMgLm5uZKSkiIbN26U9evXS2JiotTV1TF6RdiyNGwRqizuALJ4XhUgVHmVhV8GogChytrOFZ1ftg9twH02kJeXJ88884z8+c9/llmzZgnmVz311FNyxhlnyMknnyw33XST7Nq1i/OsCFWEKoNsIDOvXN4evVz6vTU/EFeK2zhIAUKVgxrT7KoQqtznsNFJZ5vTBqxtA5s2bVLzqf74xz/K2LFjZdCgQbJ48WJZunSpvPrqq3Lcccepd6ZZt3Y7uv06Y6TKbI+O59NDAUKVHiq69BiEKnbKbu/4WX9eA1azgRkzZsgVV1whp556qhoGCMgqLS2VyspKmT9/vvz4xz9W0aqtW7daOlJhNV1ZHnOvdUKVSx1Lm1ebUGXzBoxk8QlV5nYy7NSpN22ANuDPBt5//30599xzpVevXipChflT2j6rV6+WI488UkEX5lgh1frevXvV3KvBgwfLypUrFYBp2/Od9hYpGyBURdK747lDVYBQFapy3E8IVexwI9Xh8ry0PdrA4TbQ3t4uzc3N8uSTTyqoeuKJJ6SqqqojIQUSWCxatEhFqv7xj39IQkKCVFdXK/DC/CtEsIYMGSIZGRkdEEaND9eYepinB6GKTqYdFSBU2bHVLFJmQpV5HQw7c2pNG6ANdGUDWIuqpKREbrjhBunTp49MmTLlMDhCAgvMsfrpT38qzz33nCQnJ6vfMTQQCS2QxGL8+PECZ7ar8/A32qEZNkCosoijx2IEpQChKii5uLGnAoQqdq5mdK48B+2MNuDfBhClQqa/yy67TB588EHZtm3bYXC0ZcsWefbZZ6Vbt24ybdq0jvWr8vPzZeTIkXLOOefIwoULpbW19bD9qL1/7amR/hoRqjy9LX62iwKEKru0lAXLSajSvyNh50xNaQO0gVBsoKGhQSZMmCBnnXWWPProo7Jnz54OOMLcKYDTRRddJJdffrns27dPMBwQ50EWQAwZ7Nu3r0ydOlVFq7D/3XffLfHx8ZxjZVDa7VDa2E37EKos6PSxSH4VIFT5lYgb+FKAUEXnz02dPOtKe7eyDSAhxYsvvig9evSQe+65R9atW6fmU2lZ/2699VY577zzZNy4cWqulVaXnTt3qsQV11xzjZpThSGCAwcOlFNOOUWefvpptViwti3feQ2YZQOEKl+eF7+3sgKEKiu3jsXLRqhiB2tWB8vz0NZoA13bAJJO3H777WoY35133imff/65yuaHNOqPPfaYXHvttfL8889LQUGBtLS0qCgVhgwiI2D37t3lyiuvVCnYkQ1w+/bt8re//U1uueUWldCC2netPfXRXx9ClcUdQBbPqwKEKq+y8MtAFCBU6d+RsHOmprQB2kAoNoBMfxja9/bbb8vLL7+shvphoV9Eru69916Jjo4+LEKFcyBJBeZXHXXUUfLCCy9ISkqKIIsg1rACVCHypSW0CKVM3Ie2HKoNEKoC8cK4jdUUIFRZrUVsVB5CFTvMUDtM7kfboQ3oawPI/ocMf+Xl5VJWVia5ubkqPXpWVpZKSlFbW9uRXl3TPikpSd555x055phjZO3atYJtMP8Kc6kAZBgqiGNq2/Nd3zajnr71JFTZyBlkUTsUIFR1SMEPwSpAqPLdIbCzpDa0AdqA1W1g/fr1akgg5lodPHhQQRfeP/30UwVaGBpYU1NDqGKyCtNtgFAVrEfG7a2gAKHKCq1g0zIQqug0Wt1pZPloo7QB3zYwd+5cldQC2f6Ki4uV44xU7Bg+2LNnT9m9e7dKzQ7Qoo6+daQ2+mtDqLKpY+jyYhOqXG4A4VSfUKV/R8LOmZrSBmgDZtgAklUMGzZMLRSMyBSyBOK8CQkJ8tJLL8npp58uSHKBRYQ3b95MqGK0ylQbIFSF451x30gpQKiKlPIOOC+his6fGc4fz0E7ow3obwPIFvjmm2/KxRdfLLGxsWo+FXROT09XmQN/9atfyY033ihz5syRwsJCUx1qtrf+7W03TQlVDnASXVgFQpULG12vKhOq2PHZraNmeWmztIFvbQCJLZDUAgktPJNYIM06olaZmZkq/TrmVLW2thKqGKky1QYIVXp5ajyOmQoQqsxU22HnIlTRQaWDShugDdAGaAO0Ab1tgFDlMIfRJdUhVLmkoY2oJqGKHaneHSmPR5uiDdAGaAO0AUKVEV4bj2m0AoQqoxV28PEJVez46PzQBmgDtAHaAG1AbxsgVDnYeXRw1QhVDm5co6tGqGJHqndHyuPRpmgDtAHaAG2AUGW0B8fjG6EAocoIVV1yTEIVOz46P7QB2gBtgDZAG9DbBghVLnEkHVZNQpXDGtTM6hCq2JHq3ZHyeLQp2gBtgDZAGyBUmenN8Vx6KUCo0ktJFx6HUMWOj84PbYA2QBugDdAG9LYBQpULnUoHVJlQ5YBGjFQVCFXsSPXuSHk82hRtgDZAG6ANEKoi5dnxvOEoQKgKRz2X70uoYsdH54c2QBugDdAGaAN62wChyuUOpk2rT6iyacNZodiEKnakenekPB5tijZAG6AN0AYIVVbw8liGYBUgVAWrGLfvUIBQxY6Pzg9tgDZAG6AN0Ab0tgFCVYerxQ82UoBQZaPGslpRCVXsSPXuSHk82pQVbaC5pU3Kqpoko6BOEg9Wy/bUSklIrpDNSRWyNblCdqRVSlJmjWQV1ktFTbO0trWLFerR1t4ulbXNkl1Ur8q3I61KlRflRvlR7r0Hq+Vgfp2UVjZJU0ubJcqtaVff2CrFFY2Snlsru9OrZNt3um+B7ikVsnN/paRm10heaYNU17VYquxaHfge2j2NUGU1j4/lCUQBQlUgKnEbrwoQqkLrLNjJUjfagD1sAE49YAMwBQiJ31QkU5fmytjYLBkZlSHD5mWo9/ELsuTrFXmyaEuxAhVADOCqqTkykNLY3KbOn1vcoMBj6dZiVb7xcdkyyqPc4+Iy5aslORK7oVAAKgfy6qS0qklQ70jZaHt7u9TWt0hRRaMCpg17yyV6fYFMXpQjY2IyZcT8DBk+L0NGRWfIxPgsmb0qX1buKJU9B6okv7RBqupapKU1MrpHSjMnnpdQ5dXt4pcWV4BQZfEGsnLxCFX2cAyd2OGyTrQ9o2wATj0iPIjapGTXSOyGAhkbmymjojNlZFSmcugBU95ew+dnKMcfzv+K7SWSU9wgiHLhmHgZVWYcVzsHzpdVVC8rdpTIuNhMGR39bdlRNm9l1r4bHZOpyh63oVBSs2tV/dvajC+3pgnKjwgfgA4RqFkr81R5vtW967IDcKE54HbTvnIpqWySllbzyq7Vge/63ZcIVVb2/lg2XwoQqnwpw+/9KkCo0q8DYWdMLWkD1rABRDkQrUHUCVGpMTFZXYKUBiWd38fHZcnMFXmyZlepVNU1CwDFyDYGlGAI3Lo9ZfL18jwFGIjodC6Xv/8RhZu6JFdF5YrKGxUUGllu7diNTa2SWVgv89cWyJRFOQpi/ZW18+8Ax4nx2TJndb4aLljbwCGBmr52eydU+XXBuIEFFSBUWbBR7FIkQpU1nEC7dZYsL7MaidkAACAASURBVO3GqjZQ19Ai6Xm1argZnHNEpjo77oH+r4aoRWXKpIXZsnBzkeQU1wuG5RlRd0SnCsoaZElCsXy5JEdFp0IBKq1uI6Iy1BDHqHUFaggedDGi3Noxq2qb1bDJuWvyZWxclhrip5Ul2HeAFaJb05flyupdpWr4plXmuGn15bv/eyChyi6eIMvpqQChylMNfg5KAUKV/46BnSc1og3YwwYw/yk1B8P9CpVTj7k7wTr0vrbHEDxEvnJLGnSf74PIWmF5o2DeFIYpanOOfJUlmO9xrOh1BZKWU2vI/DBE1xChQsKMmSvzvi27TroDrgC0q3eWWip5CO8Hgd0PCFVBuWPc2CIKEKos0hB2LAahKrDOgZ0odaINWN8GVKRna3FHAopg4COQbRH12phYLmXVTbpGfXA8ZMJD4oZAyhHsNig3ImAAQr3tGBEkZExEhEpPiNXqiGjduLgsleEQyS/0Lj+PZ9x1Taiyo1fIMhOqaAMhK0CoMq5DYWdNbWkD5tiASpDQ2q4iGhjyh6FvmlOu9/vEhdmyc3+VbinXASW70qvky8U5hsEgNACYLEkoUeWGXnrYJo6DpBSIhOH4/hJphNoWAKspi3PUfC2j57XpoQuP8e11T6gK2TXjjhFUgFAVQfHtfmpClTlOHztZ6kwbMM4GWlvbVZY/REswTC9U5z2Q/UZEZcrCzcUqOqNHm2YW1smiLUVq2F8g5w91G0SRZizPU8MAMX9Lj7IjcoQsf0jprqWnD7V8/vYbGZ2pEnggK6AeZecxjLseNW0JVXb3EN1ZfkKVO9tdl1oTqozvWLQOhu/UmjZgjA0gdfqCTUWCbH3hJHfw59hrv2Oez6qdpbo49+v3lqv1m4yK8mhlxvuY2CwVVdIrox7WocI8KqNBVqsDMhomZlTrojuvRWOuRU9dCVW6uGk8iMkKEKpMFtxJpyNUGd+xeHYy/Ey9aQP62gCiLkgbPm1priFzejSH3vMdUZ+5q/PDSp6AdbQqa5tlwcaisDIUepbL32cAJ9aBQhZDgGg4tohhf6nZNSrDoL/z6vU7hnWu3V2m0s6HU3buq+816EtPQpWTvEX31IVQ5Z621r2mhCpzOhdfnQ6/p/60gfBsAFGX3elVMnlhtmFzerxBwdSlOZKcVRMynGAuFTLyzV5lTIIHb2XGd0hVvi2lQqrqwkv6UFzRKBv2loe0FpWvsgXyfdzGQskoqAsLCHnNhXfNBaofoUp3l40HNEEBQpUJIjv1FIQqczqXQDshbsf2oA0EZwNlVU1qDSnAQiBOuV7bYKjh0m3FUtfYGpKDjwgboi4YSqhXmQI5DqJsMRsKVQr3cGwtPbdWsAZWIOfUcxtEJDcnlYekeTj15b7BXZfQi1DlVM/R2fUiVDm7fQ2tHaEq+I6CnSs1ow1YxwawvhOiRkak8+4KBpCm/OvleVITYppvrKmFrHmjY8yFQdRp8qKcsBNt7DlQJVMWmQuEKPvY2CxZnFBMqPrGOtegr/shocpQ940HN0gBQpVBwrrhsIQq63dMvjosfs+2ow18I/mlDTIuLtOUBBWekIXEEpMXZYc8v6exuU2+Xp5raPp3z/J6fh4Tkxn2ELrtqRWC43ge14zPyDKIxZ1p+9a//xGq3OBFOq+OhCrntalpNSJUWb9jovPANqIN+LYBLGhrdpRKgwckfQh1bhKgCqnItWOZ+Q69DuSHNy8pIbkiIroDZjHskNeE72vCKtoQqkxz5XgiHRUgVOkoptsORaiyfsdklQ6S5aCtWNEGcosbTI9SaQA0Ni5LqmpDS/jQ2NSmFrTVjmXmO7IAHsgLD6q2JFVETPf5awlVVrwWO5eJUOU2j9IZ9SVUOaMdI1ILQhUd5c4dIf+nTdjJBvJKGiIyDA0REySZqA4xix4iVdOXmZcG3hPakNTjYJiRqq0pFTIqOsP0SBvSqsesJ1TZ4RolVEXEreNJw1SAUBWmgG7enVBFB9oOnTPLSDv1ZQMFZY0yeWGOqenUAShIVDF9WXiJKuaszjc9JTnKPik+O+xEFTv3V8mEBeYnqsACxou2MFGFr+vBSt8TqtzsXdq37oQq+7ZdxEtOqKKzaqVOmGWhPQZrAyWVTRK9vtB0OEEWuvjNRVLXEHpK9eXbSkwHE0TY5q7JVwk+gtXac/uU7Bq1xpZnBMyMz18uzpH1e8s4p4rZ/wy1gcy8cnl79HLp99b8iPtpLIC5ChCqzNXbUWcjVNGJ9XSU+Jn2YDcbwPA7rFuEdaPMcOpxDoAJkkzsSKsUDOMLRbOW1nZBWnIMAcQcJ7PKjhTu6/eUSXl1c0jl1uqaV9ogK3eUmBoh1JJUpGTVhFV2rQ58N/Z+x0iVo9xF11SGUOWapta/ooQqYzsVdtrUlzZgrA0AarIK62XKIvOGAI6IyhQM3SsoaxDAUSht3NbWLkXljSqTnVnZCwElGLKHhXsbmkKLsGl1BcwCCs1cdBlDLlfuKJXSyqaQNNfKzndjr0lNX0KV/j4bj2i8AoQq4zV27BkIVeZ0Llonw3fqTRvQ3wYAVjNX5Kl5TmZEfAASCzYV6eLYL9taIqOjzVnvCUkevlySE3Jyjc62izXCkFYesGaG7phPtT21UhfdO9eF/+t/XRKqHOs6OrpihCpHN6+xlSNU6d+RsHOmprQBc20A0aLd6VUyY3me4Q4+olTz1hZIYka1Ls79/pxaNScMxzUSTAA+Xy7JlS3JFWFHqTT7xhpdm/aVy4T4bMN1HxmdKYu2FEl2cb0uumt14Ltx1yqhylj/jUc3RgFClTG6uuKohCrjOhR21tSWNmCODbS3t6voy5KEYkE0w0g4GReXJZsSy6WmPrT1qTrbBBJdbE6qUGBiZLnHxGRJ3IZCqaxtFgw97FyOUP5vaW0TJAqZtcr4LIYT47MlKbNGNyAMpb7cJ7jrmVDlCjfScZUkVDmuSc2rEKEquE6CnSr1og1Y1wbScmrVHCWjhqNh7tPiLcWCBYf1tIPckgZZvr1EjJpbBT2wYC6gRM9y41iIEu5K/y7hhkHDAJFcY+3u8JNr6F13Hq/rewGhyjxfjmfSTwFClX5auu5IhKquOwV2mtSHNmAfG6hvbFUZ+aYtzdE9ox7mI81YnquSPDSFmPHPly3heJmFdWpemN6JH5BZUMtUCH18lSHU7xElrG1okdW7StViyHpH28bEZsr8tflSVNEoiIyFWk7uZ/51TKhynUvpiAoTqhzRjJGpBKHK/I6GnTs1pw0YZwNVtc2y+0CVSqCgV+RnZFSGTFmcLWk5NWIEmMAeGptaJaOgTqVY1wusEKFCIgkkd4AuRtodMvKt3lkqGB6pV4p4RKgAVHklyLJIoDKy/Yw4NqEqMn4dzxqeAoSq8PRz9d6EKuOcOyM6KR6T7UUb6NoGMF8I85QAKEh7PhZOfojD0pA8YvyCbIlZX6gc+8bmVmlr12c+Uud2RMSnqaVNLcq7aEuxmmMVavIK1Bdzy6YvzZX9ubVSW9+i2zyqzuXW/m9ta5eKmmbZe7BavlqSK6NjQtcdSSkwhwpD/rQIFfTRzsX3rq8Bq+hDqHK1e2nbyhOqbNt0kS84ocoenZNVOkmWg/ZiBxsA+CDNOlJ+JyRXyOxV+QJHPdDIFdZDQrQoen2B7NxfKYVljdLc0iZGO/Y4Ps5TXNGoshkibTvKgaGHgQyrQ7lRz5kr82RDYrnkFNdLQ2Or4UCl2QTACgCXWVgv6/aUyVdLc1Wa+0B0Bwii/IBBZPnD/C8sUMwIlX3vOYSqyPt4LEHwChCqgteMe3ynAKHKvh2W5sjwnW1IG/BtA4ieIIEFUn8vTihWwIEoCNaG0iJYcPox1GzSwmyZtTJPlm0rkS1JFXIgv063NZ2CbSNkF8SixoDC5dtKZO6afLXAMbL4aZCCd0AXhvhNX5YriHBtTCyXlOwaKa2K3AK5iBYiKyDSziPaFL+pSJVvfFyWKq+mO4ZVjonJVPWKWlegFvbFUEWkTQ93ceJg9eb2vq+hULUhVNHVtKMChCo7tppFykyo0r8jCbUD4n5sC9qAcTaAyBWy7CHytHJHqVq8N3pdgcxbUyAx6wuU479qZ6n6vaAMc3isMdwMgFJU3iiJB78FlIWbi1UEDeVG+RdsLFQQCPjKLrIejFTXtaihmCjf0q0lErexUGVoRDbC2PUFsnBzkQKv5KwawbwsXgPGXQNma0uosoijx2IEpQChKii5uLGnAoQq53RgZneYPB9thzZAG6AN0AZ82QChytPb4me7KECosktLWbCchCp2iL46RH5P26AN0AZoA7SBUG2AUGVBp49F8qsAocqvRNzAlwKEKnaYoXaY3I+2QxugDdAGaAO+bIBQ5cvz4vdWVoBQZeXWsXjZCFXsEH11iPyetkEboA3QBmgDodoAocriDiCL51UBQpVXWfhlIAoQqthhhtphcj/aDm2ANkAboA34sgFCVSBeGLexmgKEKqu1iI3KQ6iyTofY1tYmzc3NUl1dLeiMtFdNTc1hGbHUWjbNzVJZWSn4raWlpeN3/NbY2ChVVVUd++M49fX10tra2rGdr06Q31vHHtgWbAvaAG3AzjZAqLKRM8iidihAqOqQgh+CVYBQZZ1OG5C0YsUK6du3r5xxxhlyyimnyB//+Ed57LHHDoMhANKqVavk/PPPl3vuuUe2b9/e8TuAasaMGXLttdeq/bVjDB06VDIyMjq2s3NHzbJbx2bZFmwL2gBtwJcNEKqC9ci4vRUUIFRZoRVsWgZClXU6xKamJgU+o0aNkl/96ldy3HHHycMPPywrV648DIYSExNl8ODBcvTRR8sVV1whGzdu7Pgd0SjA07PPPis9evSQ448/Xm677TbZvHmzimr56vz4vXXsgG3BtqAN0AacYAOEKps6hi4vNqHK5QYQTvUJVdbqvAFWqamp0r17dzn99NMFgNXQ0NABTYhEffXVV3L55ZfLz3/+c+nTp89hUKV1xMOHD5fevXvLVVddJUuWLJG6urqOY2jb8N1abc/2YHvQBmgDTrIBQlU43hn3jZQChKpIKe+A8xKqrNeJax3ReeedJ9OmTTsMhrKysuTVV1+Vnj17yqmnnipXX331YVCFOVWAsCFDhsgdd9wh77zzzmH7O6nDZl2sZ7tsE7YJbYA2oNmA1pdFR0fbrh/KzCuXt0cvl35vzXeAp8cqBKMAoSoYtbjtYQoQqqzXAWodkSdUAZaQyGLWrFnSv39/uemmm+T6669Xr87D/9LS0uS6666TJ554Qvbt22e7zkzrkPluPdtkm7BNaAO0gUBtQOvLCFWHuV38x+IKEKos3kBWLh6hynodpNYReUIVgAqJLB555BF58sknZezYsV6hCsP8Bg0aJHfeeacaJojhhIF2gNzOerbANmGb0AZoA3a1Aa0vI1RZ2Qtk2TorQKjqrAj/D1gBQpX1OmytI/KEKsDRggUL5L777pNhw4bJunXrvgdVtbW1snXrVjWX6sMPP1Rzs+zaGbPc1rNLtgnbhDZAGwjGBrS+jFAVsEvGDS2gAKHKAo1g1yIQqqzXSaIjQir1Cy64QM2pQka/kpISlVp94MCBsnbtWtm9e/f3oOrgwYNqvhXmUi1fvlytTRVMB8htrWcLbBO2iTcbwNp0mzZtUvcFb7/zO9qNFWyAUGVXz9Dd5SZUubv9w6o9ocp6nS8W7u3Vq5d6IVEFIlBIiX7RRRfJ+PHjpbCw8HtQhW2WLVsml1xyiRoamJOTo4b9AciwQDDmXa1evVqSkpLUwsBddbjIPrh+/XrltGVmZqoFibvanr9Zz4bYJs5uEwzzxQMWzzXq2ObObnM7ti+hKiz3jDtHSAFCVYSEd8JpCVXW64gBQQ8++KCKRE2dOlWtO/XWW2/JXXfdpeAKnatnpGrDhg2yY8cOefvttxWI5eXldcyjQibAPXv2qMWEf/SjH8n9998vCQkJHb9766gHDBggJ510ksow+N5770l5eXmX23s7Br+znl2xTZzTJnZ2VmmHzrFDf21pZztl9j8neLih1YFQFZpu3EtECFXW6+A8oQqRKUSg/vSnP6nEEwUFBQpwPKFq6dKlMnToUPn73/+usgNif62zQ4ILPNWeM2eOYI7WM888I9nZ2R2/a9t5viM6hWQYZ555psycOZOLBn9jPRvxbC9+dl/72NlZpb26x17tbKeEKve6yIQq97Z92DUnVFmvg/OEqldeeUU++eQTtYgvhu5p2fw8oeqjjz6S5557Ts25KioqEgz583RcsM/8+fMVdL3//vuHLSbsuZ32OTc3V55++mk1p2vXrl2CBYe13/huPXthm7ivTezsrNJe3WOvdrZTQlXY7qVtD0Cosm3TRb7ghCrrdXAaVF155ZVy7bXXqiF7n376qaCD0hwSQBV+u/jiiwXbAYIATtrvnu/19fUqknXLLbcoQMP8rC+++EItDLxkyRIBiHluv23bNnnooYfk8ssvl71798rs2bMF4IaoGSbHe27Lz9azH7aJ89vEzs4q7dP59qm1sZ3tlFAVef80UiUgVEVKeQecl1BlvQ5OgyoM1/vDH/4gffv2VYv4alEqdFiAqmuuuUZOOeUU6dGjhwKk0tJSr8CD42F9q//7v/+T119/XUaPHq3mZ5144olqgeDOoBQTEyO33XabXHHFFRIbG6syCiIBBgAOa2BpHSbfrWc7bBN3tImdnVXaqDtsFO1sZzslVDnAwQ2xCoSqEIXjbpxTZcUOHhCESBGgB6nVvYEMoOrqq6+Wo48+Wq1dtWbNGq+w097erjo2RJ0Aaf369ZN58+ZJdXW13HzzzWpI4PTp0w/bd9SoUQrYAFKvvfaaIFX75MmTpU+fPuqcVtSMZXKPo8a2trezyvZzz7VKqKKXaUcFCFV2bDWLlJmRKut1cEiP/tRTT8lvf/tbBUydI0lwSgBVSExxwgknyKRJk3xm6EP2v8TERBXRwvA/RKFwfA2qEMFCogtPR+fZZ5+Vc845R0W3ysrKVEp1pHa/88471bwtz2352Xr2wzZxfpvY2VmlfTrfPrU2trOdMlJlESc1AsUgVEVAdKecklBlvQ4OC3sCmhYvXqxSpWPdKq2T0t4rKysFqdQXLVokWJOqc3IKbTtAESJTiHphXhSSUOD4eP/rX/8qL774ojoXtkemQCwyfOutt8pNN92k5lJpxxkyZIjcc8898vHHH3+vLNo2fLeeLbFNnNkmdnZWaZPOtElv7WpnOyVUOcXLDb4ehKrgNeMe3ylAqHJ2BwfgQrp1pGRHlKq5uVkt/rtixQo5+eST5fPPP1eLCaNDBGwh2x+G+fXv31/S09MVaAHgHnjgARU1wxwrb50nv3O2HbF9rdW+dnZWaUvWsiUj28POdkqocq+bTKhyb9uHXXNClbM7uNTUVJWM4sYbb1SRLXSgWOsKySp+97vfCeZTYbHg/Px8la4d0NS7d2/BYsMYJogIGOAKQw0ffvhhlf0P61ghoyAiW0Z2yDy2s22T7Rt6+9rZWWW7h97udtPOznZKqArbvbTtAQhVtm26yBecUOXcDg5JKrZu3Sp/+9vfZODAgYJ1rtApY/FfrFeFeVMzZsxQEawpU6YoUPrggw9UtsEJEyaobRG9Qop1ZALEgsCIcL333nuSkZHRsWaW3Tp6lte5Nu+WtrWzs+qWNmI97Z1QhVAVef80UiUgVEVKeQecl1DlXAcT0aT4+Hg57rjj5LPPPlMwhY4e86YAU7/5zW/UGldYswrrUSHr4F133SV33323Ai1si0gVAAqZAk8//XQ1ryouLk4lugC00XFwrv2wba3btoQq67YNr5tDbWNnOyVUOcDBDbEKhKoQheNuTKnu5A4QQIRhfYCgAwcOqEgU6ov1rpCoAkkuVq1aJfv371dAhagUFgZGdAtDBLEtwKmurk62bNmiEmds3LhRLRbsKzGGk/Vk3Q45S9QislrY2Vml7UTWdszU3852Sqhyr4dMqHJv24ddc0aq3NPBmdmZ8ly0K9qAcTZgZ2eVdmGcXVhNWzvbKaEqbPfStgcgVNm26SJfcEKVezo4q3W4LA9tjzYQmg3Y2Vllm4fW5nbUzc52SqiKvH8aqRIQqiKlvAPOS6hyTwdnx06ZZaZ90ga+bwN2dlbZnt9vT6dqYmc7JVQ5wMENsQqEqhCF426cU+XUzoz1co/jwrZ2X1vb2VmlvbrHXu1sp4Qq93rIhCr3tn3YNWekyj0dHJ0ZtjVtwBk2YGdnlTboDBsMpB3tbKeEqrDdS9segFBl26aLfMHdDFX1zTVSUpcn2ZWpkla6U5KLt0pS0WZJKt4iKSXbJL10l+RUpkl5faE0ttQzffg35jgDzS1tUlbVJBkFdZJ4sFq2p1ZKQnKFbE6qkK3JFbIjrVKSMmskq7BeKmqapbWNqd0DcXC4jTn2a4bOdnZWzdCH57CGrdvZTglVkfdPI1UCQlWklHfAed0GVa1tLVLbVCWldQVysDxRduStlNUH50hcyniJ2jdK5iYOk3mJwyU6abTEp0ySNRnzZE/BOsmuTFFw1dBcK23tbQQsAwCrvrFVSiu/hSlAVPymIpm6NFfGxmbJyKgMGTYvQ72PX5AlX6/Ik0VbihVgZRd9C1dNzWwXOpPWcCaNbgc7O6tGa8PjW+casLOdEqoc4OCGWAVCVYjCcTf3zKnCeksAqqqGMkks3CgLUydLdNIoido3UubvGy5zE7/w+cI2gKxl+6er6BUiXG3trWoNJ3bg4XXgaJe29nZpammTlOwaid1QIGNjM2VUdKaMjMqU4fO+hSkAVefX8PkZMiYmU71WbC+RnOIGQZQLx8SLbRNe21A/6+pnZ2eVdmVdu9K7bexsp4Qq93rIhCr3tn3YNXdLpKqhpU72l+6SVQdmy4KUiSoa1RVIeftt/r4RCsbWZMyXvKp0aWptpOMeZsSqpbVNSquaVNQJUakxMVldglRnsNL+Hx+XJTNX5MmaXaVSVdcsbRwSSNsM0zb1djD1PJ6dnVU9deCxrA1odrZTQlXY7qVtD0Cosm3TRb7gToeq9vY2qWooVUP4lqVPl5ik0TIvcZjPqJQ3mPL87tuhgaNk5YFZklayQ2oaK+i8hui81jW0SHperUSvL5CJ8dkqMqVBUrDviGiNisqUSQuzZeHmIskprpdGDgekbYZom1Z31u3srFpdW5ZPP1Czs50SqiLvn0aqBISqSCnvgPM6Gaow9wlD9fYUrJVFqVNk3r7hYQHV4XA1TFakfy3JxQnS1NrA4WZBOq+Y/5Sag+F+hTJifoZ6BQtSvrYfHZ2pIl+5JQ2CSBidJP2cJGppDS3t7KzShqxhQ2a0g53tlFDlAAc3xCoQqkIUjrs5e04VMvZlVabIwtRJusHU4WA1XJanfy351Qelpa2ZznsQYFVQ1iBLthZ3JKDwBUihfo/5WBsTy6WsuontEkS7mOFo8RzhO9V2dlbZ/uG3v100tLOdEqrc6yETqtzb9mHX3KmRKkSpSuvyZMn+qSohBbL6eQKRXp+RxGJF+kypbapktCoA510lDGltl9U7S9WQvxHfZfULFZ662m/iwmzZub+KKdcDaBe7OGks57cOuZ2dVbYhocoONkCoCtu9tO0BCFW2bbrIF9ypUFVeXyR7CzdIbPJYQ6JUh6BsmDrH/tIdUtdczaiIHwe+tbVdZfmbuyZfMEyvKygK97cRUZmycHOxWs/KDp04y+geZzPctiZU0VbCtSEz9reznRKqIu+fRqoEhKpIKe+A8zoVqrAG1dL9U0PK8ncImHynWffcBskrlqfPkOLaXEKVH6hC6vQFm4oE2fq6SpceLlBp+yNxxaqdpWwXP+1ihoPFc+gHAnZ2VmkH+tmB1bW0s50Sqhzg4IZYBUJViMJxN2fOqfo2OcW674b9BQZGnpAUyuf5iSPkQNkewTwuq3d0kSof1pAqKm+UaUtzdU1MoQGUt3ckwZi7Ol8qapo5DJBg5Zhr087OaqTuPzyv+TBnZzslVLnXQyZUubftw665EyNVRTXZsik7XrCuVCiAFOo+O/NXCYYdsvP23nnXNrTI7vQqmbwwW7BwrzcIMuK7qUtzJDmrRi0wzLbx3jbUxV662NlZpa3Zy9bCaS872ymhKmz30rYHIFTZtukiX3AnQlVa6Q5Zun+aqUAFEMPCwjmVaYQqHxGRsqomtYbUKIPnUnUGMww1XLqtWOoaW9k2PtomHMeJ+5rvJNvZWaW9mG8vkdLcznZKqIq8fxqpEhCqIqW8A87rRKjamb9a4pLHmQ5VcSnjZX/pTjruPhz3wvJGQdQIQ/I6g4+R/yO9+tfL86SmvoVt46NtIuV08byhOdh2dlbZ5qG1uR11s7OdEqoc4OCGWAVCVYjCcTdnzqlKyFkiSHUe6jC+UPeLShopKcVb6bj7cNzzSxtkXFymKQkqPCENQw0nL8qW6jpClR0dM5b5+064nZ1Vtuf329OpmtjZTglV7vWQCVXubfuwa+7ESBXmU80zaF2qroDr1ZH/kgGvPymDBw/my4sGL746WP755AcydNpeUyNVAKzxC7KkilBF4PcB/HZzau3srNpNa5Y3dAi0s50SqsJ2L217AEKVbZsu8gV3IlRtzFpgepQKsHXLY1fLr08+Xn7yk5/IcccdJ2effbZcdtllcuWVV7ry1adPH7nooouke/fu0q1bN+l2zC/kT+f1kSETtpgOVWPjsqSqlpEqOoihO4hW0s7OzqqVdGRZjL0e7GynhKrI+6eRKgGhKlLKO+C8ToSqzdmLTM/8B6h6edjjcunfz5cePXrI3//+d5k3b57k5uZKc3OzqyIE7e3t0traKjU1NbJ161YZMGCAnHvuufKHM86Smx94UT78arepUIXhf1ivisP/jHWg6KCap6+dnVXaiXl2Emmt7WynhCoHOLghVoFQFaJw3M2Zc6q25S2XmKTRpker5uwYIe+NHiR33323XHzxxXLGGWfI008/LRs3bnQVVDU2Nsq+ffvkjTfe3P2qRAAAIABJREFUEESrevfuLTfffLM8NWCQjJyzT4bNPWAqVCFRxfRlTFQRaQeL59fPmbazs0o70M8OrK6lne2UUOVeD5lQ5d62D7vmToxUJRVvkcVpX5oOVcvTZ0hCyhqZO3euAom77rpLHn74YXnqqadk6NChsnfvXmlqanI0YGVlZcmUKVPk8ccfl1tuuUUeeughufrqqxVgrd6wQ6LXF4rZKdXHxmZJ/OYiqWtgSnWrO2EsX2AOt52dVbZxYG3sBJ3sbKeEqrDdS9segFBl26aLfMGdCFW5VftlXWaUqckq5iUOF2QdLKnNk+zsbPnggw9UdGbgwIHy2muvKbB67rnnZP78+VJQUCBtbW2OgSvUBUP9Vq1aJe+//778+9//lieffFLeffddFbXD8L/ly5dLaUWdbE4qF6wb5Zmdz8jPGPr31ZIc2ZFWKY3NztHcCQ4X6xC6c21nZ5XtHnq72007O9spoSry/mmkSkCoipTyDjivE6GqurFMtuetNHVeFVK4p5Zsl7rmamloaJDk5GTp27evvPzyyzJ9+nSZMGGC3HrrrQo2Zs+eLSkpKVJZWWl7sEJdc3JyZOnSpQJoxNDH119/XWbOnClfffWVqjPmlpWVlSmoySqslymLcgSwYyRMacceEZUpc1bnS0FZg7S0ttteb7s5VSyvMQ60nZ1V2oQxNmFFXe1sp4QqBzi4IVaBUBWicNzNmXOq0LkAcGKSxpg2BDA2eawUVGd0OO1ITgHQAEgNGTJEJawoLCyUt956S6666ioFV/i9rq5OJXVAcgcrdoreyoSy4oW5U0lJSTJ69Gi59NJL5R//+IfExcUpyFqyZInKfAigRGROOw6iRTNX5AnmOWngY+Q7hhou2FTUcX6tHHx3j2PnxLa2s7PqxPZgnbzfT+xsp4Qq93rIhCr3tn3YNXdipAodXEltrmzPWy5R+0YYDlZIirEzf7VUNZR1OO+ADgDT2LFjpX///mpOVUtLi5SXl8uiRYvUcMDrrrtO3nzzTcE8JDtlCETdqqurVQTun//8p5o7NW3aNDl48KDU1tZKdHS09OvXT55//nkFWKi35nQgWrQ7vUpmLM8zPFqFKNW8tQWSmFHdcX6tHHz37gRRF3voYmdnlTZmDxvTo53sbKeEqrDdS9segFBl26aLfMGdClVNrQ2SV5UuC1MnGTq3av6+EbIkbaqaS9XS9v3U6ZhfNWzYMHnsscdUAgtAB8Bq165dMmPGDJUd8IEHHlDJHTIyDkW69OjQjDgGyr9t2zY11A/JKJCAY8WKFSoaBXhCCvWXXnpJUCd8RjTLsxwKyOpaZElCsYyJNXZu1bi4LNmUWC419YegzrMs/Owe585pbW1nZ9VpbcH6+L6P2NlOCVWR908jVQJCVaSUd8B5nQpV6Ohqm6pkb+FGiUseZ0i0al7iMFmcNkVSirdKU+vh8ODZ0W7fvl0lrkA2wA0bNqgoD+CitLRUFixYIC+++KKKXH300UcqoQPmWlktkQWyFmKeGOZKYZ4YElGMGzeuI6Mhyou5Ve+8846KUCFyhflWqKenFtrntJxaiVpXYFi0asT8DFm8pVhyixu8nl8rB999O0TUxrra2NlZpV1Z1670bhs72ymhygEObohVIFSFKBx3c+6cKnQOrW2tUt1YLhsyYwVznrBAr56v+JSJsi13mdQ310hbu+/McvX19bJu3Tq5/vrrVWpxpFbXhvthkVys6YRsgYj8/Oc//5GoqCg5cOCAYD+9O7lgjwdYQpKJhIQEBVEvvPCC/Otf/1JDGAGFOB62qaqqki+//FJFqDDHCvt0da76xlaVkW/a0hwZPk/fpBUjojJkxvJcSc+tlSZm/OuyHbpqI/5mXefXzs4q7cq6dqV329jZTglV7vWQCVXubfuwa+7kSBU6CMBOaV2+bMiMkeikUTI3cZguYBWTPEZ25q2SivrAkiBgyB+iUn/9619lzJgxgqQVnTswgBfWtOrRo4cMHjxYEhMT1fA5gFfnbY3+HxEmDOdDpxgbGyu33367PPLII4JMfp6RNGyHIYEY6nf22WerpBypqakBlbeqtll2H6iS8QuyBJElPRJWjIzKkCmLsyUtp0YAbkbrxOO7x0GMVFvjGsNDGESLtVdRUZH07NlTDSnWvsM7trNalDtSuvG8kb82CVVhu2g8QAQUIFRFQHSnnNLpUAWHpLWtRSobSmR3wTpZmDo5rOQVUUkj1TyttNIdUtNUoaJhgXTeACOAFYb4YUFgpFXvvB+Gy2VmZipH6Z577pH77rtPJk6cqNa96ryt0f9jLtSOHTtUwglkMETCDUTUAFBw2qAryoDtMLzx0UcfVZG2zZs3d0Th/JWxra1dLcibUVCn0p6PjcsKeTggklKMX5AtMesLJa+kQRqbW6XNx9BDf+Xi75F3xtgGh9oAoLR27VqVAAYLi+OF5QpOOOEENX9R+w5r4K1fv95vlJjaHtKWWhirBaHKKZ6iu+pBqHJXe+taW6dDldZpAqwwFDCnMlUN2cM8KySZwLwof0MCsbAvsggi6cX2vBWSV3VArUfV1h5cJARghWQUb7zxhpqXFB8f/z2wggOFYXVbtmyRzz//XA2ne/DBB1WqcgCNVh8j3/fs2aPOjUV8ETGLiYlR5Qb0dT7v7t275bPPPhNA4OLFi4N26AA+SLOeX9ogCckVMntVvoyMzgw4coXU7EibHr2+QHbur5TCskZpbjkEfZ3Ly/+NdaKor/764p6AJQrwkOX8889Xr3POOUd+8pOfyO9///uO77Cswfjx49XyDWwH/duBmgavKaFKV3eNBzNJAUKVSUI78TRugSqtQ2xubVLDAdNKdsiO/JWyLjNKlqR9pda0AmQBsABa+Ix1rhanfSkbsmJld8FaOVC2W8rqClTkSzteKO94mjxo0CB59tlnBQCDYTvejoPEEEgG8fTTT6ttMWwQUSHMX/K2fTjfoQxINIF06G+//bYMHDhQPvnkEzWXCufzNgQRKdS/+OILFaHCelSAQW/bBVquippmQQKLTfvKZXFCscxcmScT47NldHRmRwQLwwRHx2TKpIXZMmtlnizbViJbkirkQH6dVNcxy1+gWnO74B3ESGmGayo9PV1uvvlmOeqoo+SII4743uvII4+U3/3ud+oBiL/5jJGqB89rH5vTq60IVU70Gp1fJ0KV89vYsBq6Dao8O4vqxjLJrkyRxMKNsjlnkazPjJE1GfNkbcZ8WZ8ZK1uyF8newg2SW5WuIlOe+4bzGU+ekU79/vvvV4sBA2Y813LyPDbmL23atEkN80E0CAsJL1u2TPLz83UBKzhsJSUlCtamTJmi1tRChArZ+3Jzc72eA0P/MOwPddCSa9TU1Og2lwORq9ySBhV5WrmjVC3eG72uQOatKZCY9QUSv6lIVu0sVb8XlDUI1r7y1Iyf3ee8uaHNsaYdIlPeoOoXv/iF9O3bV8GXr3uJGzRiHa117ROqDHPdeGADFSBUGSiu0w/tZqiKZAecl5cnEyZMkBNPPFElf0CUR5un5K1ciCRh7sQ111wjN954o0p2gQV48X0oE9NxLjhfxcXFKk061pW64IIL1LpTSJDhbagfyqXtt3//fsGwRKSDR7TNW5n5nbUcHLaHvdsD68Nhse0f/OAHh4EV/v/LX/4ic+bMETzcYDuH1871Dc1SXdtoqVddg/fRDFZva0KV0z1IZ9aPUOXMdjWlVoSq8DrgUDs1AA3ABOs63XTTTWoieldwBJiBw5SUlCQjR46Ue++9V2677TaVUVBLbR5MWXB+JKJ4/vnn5brrrpMnnnhCDfXDsQBqvgAP+xUUFAiiWRgiiIV/sX0w5+a2kbE56m5v3REdxmLbSFDhGa069thj1dBARK9xfbKdw2vnd8askH/0n2yp18ufLbJluxKqTHHjeBKdFSBU6Syomw5HqAqvAw7HgUE0CPOm+vfvr4YBInOev+MBYLKystTEdSS8uOOOO9SQQKQ0D8Shwv6YC4X5WRh+CDjC5PZdu3ZJXV2d36gXImwjRoxQ+y1cuDDoxBT+6sffI2eP1N762q9Zs0Zl2vSEqssvv1xl58SwYl8PQ9i2gbftgKEL5OKHpskVTy60xAtlefzNeX77Biu2MaHKTd6kc+pKqHJOW5peE0JV4J2tEZ0WHKGVK1eqRBRIt4605YGcB1ErJK1AhkAsGPz6668L5kRhjShfkSOsbYMMfUhEgWFEiJJh7SzM6QrknNgOqeDvuusuNedKr3ldgZyb20TWTqm/NfTH/EfMZcQcqh/+8IfSrVs3lcgm0PsG29F/OwKqej0+V64duMkSL5SFUOW/3fS2bS7+a7o7apkTEqos0xT2Kwihyvybtbeb//Dhw1X0B+nJPRfX9bat9h2eSiO6hAV5n3zySZXWHNn4MKwPTwiRhALbALKQyh1A9MILL6jtXnnlFbX+VSDRLZyvvr5eAdgzzzyjnpTjeIHuq5WX79awNbaDvdsBUeUrr7xSZQI866yzVIZQXJ9sV33alVClj46wR0aq7OcTssQihCpaQcgKEKr060DCcWqQae/ll1+W3r17q6F9WJMqmKE8mJ+FIX2XXHKJWttq0aJFKgkF0qHjNwwVvPjii9VQQ2QTDLSsKANeGKaI8t1+++0qmuYrGhbocbmdNeyO7WC/dsC8Rzwg+c1vfqOi1EwUo28bEqr005NQFbJrFtKO//3vfwPu291+7//f//7nU2NClU9p+IM/BQhV+nUg4dykEPUB7GAY31VXXSUpKSmCoYGBHhPbAqCwns1bb72lsgQio99LL70kmHOBz1iDCvDmK7Oft3MBqJBl8LXXXlPRMGQYA1AFA3zejsvvrGF3bAf7tQMi0BjKe8stt0hUVJS6PtmO+rUjoUo/LQlV/jwwfX/H8ODMzEy+AtAAfpCvP0KVL2X4vV8FCFX6dSDhOjaAorVr18rDDz+sIksAq2COCdABnO3cuVP69esn559/vpx99tnSq1cv+frrrwVJJuCQBXNM3HiGDRumhiZOnjxZCgsLg9o/mHNxW+vYItvC2m2BhyhIWhHKNc227bptCVVd6xOM/RCq/Lpgum6AzLx4cIoFwPnyrgEi/UjWhSHTvv4IVb6U4fd+FSBU6deBBNPZ+Nq2vLxc4uPjVWa+iRMnqrlQvrbt/D2SVyALIOZVYf0opDzH+0MPPSQDBgxQT7Vxw+28n6//AXmrVq2SW2+9VT755BM1BNDXtvzeWnbE9nB2e+ABClKsB/uQhHbh3y4IVf41CtSOCFV+XTBdNwBU4cEn5lrz5V0D+EmYE06o0tX0eDBNAUKVfh1IoB2Nv+1wsSMzH5JPYO4EEld0tQ+2R2Y+PLl+9913VZp1JLxAxApPZMaNG6fWosLxZs2aJWlpaYI5W12ti4UIFSbEI7EFUq+vW7fOZ1bBrsrG36xnX2wTtgltwLcNEKp8axOs3RCqNE/LnHdClXeQ8gRMQpU5tujasxCq9OtAgu1wfG0P2MGciUceeUQN41u+fLkCIM95TPiM7fC0GumUEUnCYsBYtwpDCBFl0o6Pp9nYBvOrsNAw4AprYmEbb0+6cWyAFzISXnjhhSrlu+fxtOPy3Xq2wzZhm9AGwrMBQlV4+nnaH6HKXNeSUEWoMtfieLbvKUCo0q8D8exMwvkMqAHsYP0qzI26++671ThpzxTm+IxJqYg84XcM8cNwQWT6w1MZzygUjofkEhhLjAV7n3rqKTnttNPk/fffV5GszmXF/gCqm2++Wa1HhbHZnsfrvD3/t54NsU3YJrSB0GyAUBWabt7sjVD1PZfL0C8IVYQqQw2MB/evAKFKvw7EW6cSznfokLDQ5xNPPKGyAgJucDzMu0KmQGT5e/DBB+W9996TZcuWqSGAmMAOiPJ1XhwjISFBRowYoY6LuVYzZ86UrKwstR+ACud8+umnZdCgQYKbtCfM+Touv7euHbFt2Da0gcBtgFAVuFb+7IpQ5d8H03MLQhWhSk974rFCUIBQpV8H4q+DCeV3wA4gB8P6AD9YfwrrUWEoH+Y7IaKExX4xTjjQ4wO8MJkVKdbffPNNFbkCoGGY4eLFi+X555+XwYMHq3lUgR6T21nbjtg+bB/aQGA2QKgKTKdA7IlQFYJTFsYuhCqDoAqLWmG4D+Zb8NW1BtAJC6a59c/NUNXc2iR1zdVS2VAqpXUFUlKbJ8W1OVJcmysldXlSVlcgVQ2lUt9cIy1tga8ZFUhnE8w2GNL37LPPyl133SX33XefGu6H6BWgqLi4OKxIErIFYmFgDPXr37+/PPbYY2rI4bx581R2nGDKqde2rW3tUt/YKhU1zVJU3ij5pQ2SW9IgOcUNklfSoP4vrmiSyppmaWhqlbYuInN6lYnH0c/RopbBaYnIM6LFSB6DhyeY34jkNXBY8Y7/sZYcoszozzhUNzh9O9sjoSo8/Tz1JFSZ61laHaqQdW/37t0qkzDuV5F4hZSoAkaNBcAOHDjAlx8NkB0NnZBb/9wGVWq+UluLAKiKanNkX9FmWZ8ZI/GpkyQ6abTMSxwm8xKHS0zSGFmc9qVszFogaaU7pLy+SO3T1tba5fA6zw4l3M8oK6JKSIM+depU+f3vfy89evRQmQFx8wz3+Nr+cMiWLl0qF110kfzyl79Uqdi3b9+uHsigDHhp2xr5DphqbmmTytpmSc6qkeXbS+TrFXkyfkGWjIrKkGHzMmRUdIZMis+SuWvyZfWuUtmfWyu1DS3S0tombW3mlNNIDXhs/Rw6u2up7lWtreoegPmQ6M+RkRNJZtavX68S0iArJ4YC43rFunaIQCMbKOZkEq5CsyVCVWi6ebveCFXmepZWhSpkG8YLmYgff/xxNUImEkCFc4YFVZjIjqdYfHnXQFsEjFA1WlZuSZeqmgZTnGdvN1+zvqtvrpX9pbtk1cG5CpoWpEyQmORvYWpu4hdy6PUtXEXtGynxqRNlSdpXCr5yKlOlpa3JFJ1wA1iyZImKUl188cUqgnTmmWeq/+Fg6aUZOr7Y2FjBsZEY4+qrr1bRMCS+wNNxs6Aqs7BOVmwvkenLcmXyohwFUyOjMmX4vG+BClCF1/D5GYLvx8ZmyZeLc9T2m/eVS0mlOe2il+48jn7OmxO1xMMOPBwFMGEeJOBJgylk+PR8Aa42bNigttu2bZtKWIO5l07Uxeg6Ear0uy4JVYQq+DEAKgDfv/71L7nzzjtlwoQJEYlShQ1VmJSOg/DlXQN0OoxU5Uuv+50PVU2tDZJTmSYJOUtlWfoMido36ruo1DAPkPKEqkOfPaNXqw7Mlu15K9UQQUS7jOjg8ZQ5NTVVJaBAIornnntOYmJiVNj8o48+UgkmPv74YwU74QIPoCkuLk4tDozFgrds2aLmVn366adqOCDSrwPstCQZete3tbVdRaY27iuX6HWFMmlhtoyY/y04dYYpDao837EtXlOX5Er8piLZkVapIleMWunnGOnd5jye77bB9YwhfIhOYxkEDM8FMOHlCVG+Pmvb4jres2eP6t/Q/zNq5VvzzvZIqApcq87adf6fUOU8qFq9erW89tprankWLOOCpFfwV3xxBqLnyGSMrMOnn366/OY3v5Hzzz9fbrnlFnnxxRfVepq+9jXi+7AiVYQq7zClNRShSsTpw//gpNQ1VUl66S5Zlxklscnj1PC+QxGpQ/AUyHfz941Qx9icvVCyK1PVfKvOHUmo/2PeBJ7mAHKQhOLf//63fPjhhwpytIgR5ldhTSrMqUJ6dNhyqOfDfhhKhKQUmLMFBw5zMDHkMDk5Wb766it1I8TNEGF7OGkoRzjn89wX86EwRwrD+L5ckiOjYzJVFMoTmgL9DLAaE5OlolYbEsukuKJRDSX0PB8/6+csUUv9tcTDFDzRRXQKyWcQeQoUprxBFqJauL6x5hz6OlzXbDf/7Uao8q9RoHZEqHIeVOHeNGTIEMHomaOPPlr5D0lJST6hCiPC4FsAoE499VS59NJL1RQDzOUeO3Zsl0Cm+ep6vhOqDIy0EaqcDVXqqW9roxws2yvL02cIgGjevuF+I1OBwdXwjuGArW0tYQ+RgzOFJ9PI8IfoEBbpxfA7ZP/r3IFt3LhRpVN/9NFHFehgDkXnbfz9jyfX+fn5CtoAcJiz1XkfDBtes2aNSq+OBBaAOfyPJ09wADtvH8z/iFBpQDUyCsP5Dh/iFyhMedtubGymYDhgWRUm7XOeVTDtwm31cyiD0RLXI65jXO8AoXBgqjNg4Vh4koykFoxY+W9fQpV/jQK1bUKV86AKgIN7DB62duvWTa1lmZOT4xOqsD3sYM6cOdKrVy8V5UKCLT1BKZhjEaoIVYZelU6OVGHuE7L4LUqboob6BQJLwWyDhBarDs6RyoYSaWsPHjIAfZozhTkTSGWOpzj/+c9/BFlyunqyjAnr1113nXpKhKhSMM4SzguIQ2r222+/XUaOHOk3JfvXX3+tMgT27t1bJk2apMAK5QvmvJ4dMZJRIEKlJ0x5Atao6EzZtb9KDQX0PC8/6+cwUUv9tMSQP0Spfc2Z6gxKwf4PsEpPT49YRk872QqhSj+7JlQZ6r597+BmJarAuph4qHvccceph0Bo567ABtGqd955R2644QYZNWpUl9t2dRw9fiNUEaq+d+Ho+YWToaqioVhWZ8yVmOQxMjfR/9ypYIBK2xZZAtdnxkpDc23QkRsM9ysqKpJ3331XMDYZUIW5U7gBAVgAP76cEdzEMPzvnHPOUWtV4UmRr207fw+gQjj+73//u3z++efK2fIHR7gRYcL8sGHDFMwhgw/WtcLT787HD+R/RJK+WpJjGFQBsKYvy5OkzMDX7wqk3NxGP4eLWh7SEtFfDKvRM0LVGbwwzwpgRd0P6e5NC0JV1/p408zXd4QqPb01/8cyC6owogbLsFxyySVqeDF8iq6AB34OfJwHHnhA+ThdbWv0b4QqQpX/KymMLZwKVVWNZZJSsk2Q3U+vIX8aSHm+I4lFfMoEyaxIkoaWwOc3IUEKoj8YVoexxdOmTVPQAqDy1UF5fu8JZA8//LBaIDiQ+U54Ir5z50513qefflplFAtkP5wbNzsMTwJMocx33323So2K4YieZevqM9KmI8tfzPpCGROTqbL5eUaY9PyMaBXSsheUNQZcvq7Kzt/0c7ao5SEtMcwWw/NwHXUGIT3/B7Dh2sew93CH7zq5/QhVh2wz3HYmVIXhnIWwq1lQhURWF154oZqqkJ2d3SVQ4f6GueB/+ctf5OWXX1Z+jtHg1NXxbQFVeEqO7B7ITIZ5Gl1VKJjfUHk8WYuKipIFCxaoOSfB7O9vW86pcu6cKiSRwNA8zKPyhCAjPuMc6zKi1WLBXXVCiAZhLDGgBPOTMJcJcIJrB0+qAUpd7d/5NzhGWJsGN6pXXnlFrTXVeZvO/8OpQuZAAFGoWf1QTjz1fu+999S4apwbgIghi/4ADetQAXQmL/o2y5+eEOXtWNOW5sqmfUwt3dkO+L9+jmO4WsIpQRr0UKJUiDhjX6RbDwTAsB3uGXi4Em65nbo/oUq/a4NQFQIZhbGLGVAFHwY+x5/+9Cc10gUR9lmzZskHH3ygElggwRXuadqC5FjaCfcmZP17/fXXFVRh/vjs2bMFv/nz0/X+3RZQhSdsr776qiJRZBoKVwSQLeAMjTVlyhQ17+OZZ54RjOMM99ie+xOqnAlVSHW+r2iTRCeNMhyoNEjDelbZFSnS0vb9DFuAKdgdoGPu3LkqCw7Wa8BNCOtNdTV3KhDHZfHixSqbDrLr4GbmC84QBcN45vvuu09Gjx6t1q8L5Pi+tsE1CphCxAthfczNgpOHjtTbPohSYS4VhuUhW583CNL7uxFRGRK1tkCQabCti+GU3srL7/RzrpykJRJKILNuuMsMYHgvrlVkzgp1LhWeAOO+gsycgUAVtkEiDDgW/ob8OqXNtDmkcOBQb3/1IlTpd90Tqg4REvxNDJfHw1Cj/syAKtyvMPz/jDPOUFmBp0+frvyPq666Sq11iXnXeFCsJaPA0L+lS5eq3x566CG1z5dffqmYAUtHePrkZnw2DapwIjR6Xl6eeqFx8L+vSmIMJfaBo4aFvPr27Ss33nijWksHxwgnnTuExlP0/v37q3kfv/rVrwTr9WAyv6/yhPI9ocqZUFValy8JOUskKmmkaVAFuNpTsF4w7NCz08YNFB0L5iMhsoM0pIAfPJUOpIP3PFZXnzHG+f7771fnwM3M02GCU4FyzJs3T00uRTp2PTOB4Xr/7LPP5A9/+IPgpokbKO4PcBg954XVN7ZKclaNTFmcYxpUAdKwmPCBvFqmWP9GP2epK1t0+m8YuotlD3A94WksliHwvN4CrT/2QR+0e/fukKJUACTsj/NjtEigUIVU7Xgggv0CLaudt8O9D0/G8QAI8Ir7LiJ1nvcmz/qFC1XXv7RJbnp1i9wyKEFuff3b1y2vJ8j/vbal4/sbX9ks1724Sa4d6P/V6/G58vib82zZVoSqQ/gUGxur5hPhQap27f3vf/87tIEOn8yAKjzExXwqpEfHciwDBgyQVatWqRE4WFMTadYxPBAPfOCXw9dAsAWJLeAjYB44lnCBTwT7CMV3D2cfXP94EIWHY77+juj8A24QWOsiGLDBMDusRdOzZ0/1uvzyy1WUyFfhUTDsgzDgn//8ZyUkxPzd736n9sdQQF/7+vseDQDSXbFihRqqcO211xKqOjeyTv87cU7VgbI9suLATFOBClC1NiNK8qoOHNb5IXIE4EDWm1tvvVVFqnBtYphcKI6YZ+fv+Rk3UzwxOvvss1UoHk+HtN/hVOAGh/lbADoMF8K5fTkV2n6BvgOe4NwhYo2hgFgxHUk3EGnWOg8cq6KmWQ39M3ouVedo14T4bJVpEFAXaJ24HQHMlw3AQUc6YTgVWMASoynwYMHX9r6+x3WJzh0PCwMFos7bhQJVeKCDp816PtTxVUcrfI/7E4Yr46EvHDo4d0gIhAdzkf6iAAAgAElEQVQ/3soXLlQ9NyJRZq3Kl9TcOiksb5LiymbZn1cn6/aUyayVeZKcVStfzDso976znVBl4Qc9mXnl8vbo5dLvrfm6eFvwA5BSHAvfYhicNgxXl4N/dxAzoApZg//2t7+p4XwAqsTERMUamFoAyPrZz36mRsLg4RN8fVxnGH2G+diYOwr/Hg+BAFT4zR8P6P27aVCFiBPIEaIgTeLVV1+t8sr7qhDEwD4g1Lvuukt69OghgwYNUuvdYHwlBPa1r7/vcVxEq2AgEABr9jBSpeeld+hYToSqPQXrVIIKbWieWe8LUycLgA7OEpwdRI8wbLVfv37y/vvvK+hAFCnc4X7eHAEcEzest956Sz1FWrRokbphoSw4J5xAABWiSEY4UwA0XNdw1rDmFaAKT7MwzFBba6uovFFmrsgTDMnrDD5G/j86OlPmrM6Xmvrg5qx505nfEbb27t0rSA7zox/9SPWVeJCB4a9wNvAgIVAbwbUJQAsnQUUoUAUw62qYbqDlt8t2gCrMJcOD4p/+9Kdy0kknyUUXXaRGwsyYMUPg/HnWJRyo+nhmumxOqpDs4gbZl1kj4+Ky5L1paRK9oVB9B8Bqaf1GPvw6XUWtGKmy7v1Eb6j68MMP1Twk2CAeyGC4HHzm1atXK+g45JWF/skMqHrttdfU0D+MuoH/rwVv8LAG/s7Pf/5ziY6OVv67P18/Er+bBlWoHCbLI00zbjpwBBEq91dpOFHYFvSt3ai1fSA2xnrDoYTxdPUCzOEJOoBK2197J1SFfpH529MsqEJkBM491lTChe/Zien9eWvuUlPnU2nQhjlcW/YvV9cBElFgKNzAgQNVZj84T3rXs/PxcL1g/SqcFwkw8HQWWo8fP17NS8Tie5hX0Hk/vf/H0CLAG57G4SaLzgRDBrbuTpcJC7JkuEnzqTRQw/wtDDmsriNU6d3WbjyeBlVHHHGEaC88iEQ2LERBcL3h2vO33ACcfUBYoAkqcF6MDsHwIe2FISw4Dp76at/hHU/BcezOkS3tf4Ac+mc3tJ8nVGnt9YMf/EB+/etfyxVXXKHu0YAr+CoYFhgKVN3w0mZ5bUKybEutkpKqZtlzoFo+mLFf7nl7m+C3wV+myva0KsFwr/qmdnl9YkpAUSpAF4f/RQa8jIIqzQbx/vvf/16NYHn77beV7w0fCb5SqH9GQhUCKbhn/POf/1Sj0zCNAP46IAW+B4ZDI3KPAAui77j/aT68ld5NhSpEh3BzOeGEEwSNjBuzPzGQPAKZxLDmDaBMExj7wUDWrFmjnlhj8lpXLyxkCscLRtH5nISqUC8x//uZBVXo2NBpDR8+XJAdBp9hL3haq3fHvjl7oWBhXg12zHofufAN+WTCOyoidPrpp6uheFjwDpkr8TTKjBdgBuOaEWnGE6XJkyer6w5DD7ForxllwDlwX0DE+o477pCzzjpLDQl8d+gIefWzePl0VqqpkSrAFWCuSkeoQseHIQxwns3SlOcx5xrypzOuqeuvv74DqDydpKOOOko9jcacAVz3GBbo6x6HeyIeRGqg4+8dx8KwYTj+2ku7d+Ic2nd4RwQLQ359HRMgB4dI27/zO84DOMN2/vSw+u+YRoAEPX/961+9ttnxxx+v1tvBQyBE+O8fOEl6PTYnYOjB3Kjb39wqK3aUSmVtq6Tl1MmY2MzD9n9+RKLEby6Sb/77P8kpaZQXx+477PeuIlaAqjuenWjLdsA1gIf0Q4YMsV35Z82Nk0cGfCp9H3rH53Xk6/ry9j0gBNNrPO8X2udf/vKXyk9GH41ARVfzfbry6oyEKvj2eKgDXx/DGJGYSvPVMbwPa1jiwRJ8D9w7tN+s9m4qVOEmjMn0eIKDxvUWNeosEJ7KwXGCwXT+Ta//CVVdXUbh/WYmVGlDME488UTllCDBCaIauIH4cjw6d/aB/L8xK850oAK43fjAFXL8CcfKkUceqV7dunWTY489Vn7xi1+Y/sK5f/zjH8sPf/hDNd8xUuU45phj1JAbaPKzn/9C/njO5TJkwhbToWpsbJZU1eoXqYLTiaGNGEYUifblOc2/pjTNYdO4tjSHqPM7oiAY4oN5B+hH0Yl7u28BqgDl3hwwb98B4jvPQdDmRWL4r2d/iyfKcIC8HUf7rquoNYbsYvQInECt3nZ+x5AkDNfs3Fba/573yT/0ekwufWRmwNCDpBRPfbFHCsubpanlG5m9Kl/uemvrYfu/NDZJVu4slfZv/is70qrkmeF7D/vdH1SdefUAR7SDnWzomGOPlZ8e3U1+8tOf6aI9HrjAzjSb83zHPQN9JPpt5CnAyJZQ/oyEKoATHqBceumlaiFfBEG0ew78OAz5R5QKARk8ANJ+s9q7qVCFeVD33nuvnHfeeRIfH39Y1MmXMJingRTNY8eONUxEQlUol1dg+0QCqrQODE+w8NQDmWL0HB4XqUjVe1MHyD39bpHLLrtMjZfWhpRgMrrZL6wBgYnZiJhhXSpMJjW7DHDqELFCFk8Ms7nmhttkwJBZ8snXyaZC1XBEquL1jVTBmUUng+i+2bryfOZfT56aIzMtHiR6OkXaZzjueCgJBwMREoALopq+oCqYSBWG7CEduucLQ2yQDAZOjef3eICFLH8aQHV+x9D+riJVAD5EuwBXnnW342fch7DWJZ6ia+3k+Q4ARrItjCqAbo++Nj2oSNWD7++QeWsLpL6xXSWmwPDm6ztl9nt3WprszaiR1rb/qohVv493BQVV97803fbtYDfb2bBltwwYMl3ueW6MWqoESafCeQGWTjvtNK82iIeeV155pZqHjXPgIXMof0ZCFe4H8POxiC+CKJ4j2ZDBFPNMcR1h2Rjc93wxQ6S/NxWqcKO94IIL1BhPhG2RNhbZvDDh/JFHHhGkhOxMoPfcc49cc801KryOJ2l4MocbE4b+hSse0tVimBiMDRkA4aSGe0zP/WEkmKQazhjWUAzfSvtEAqo8OzQ8QfzjH/+onny8++67yglA5MqbExLod1tzl0l00mjTo1Uzt34u8RvnqOsGN1A8DADQ6AmM/jSALcNZwlAWOH549enTRw0zgu3721+P3zH8CPcCjLFGxkE4mMgsGhW/SkbOSZJhcw+YClVIjDF1aS7nVFk405YedmfWMbzNqYJjri2XALvHEB4AT1cReIALHmSi3+0MPYH+jz4MUIXrLdB9sB36aDfPqUIfhGzFGMaJOd+YSw5fAH3Pcx/EqnlMXUWPPH/792e7JTGzRlra/qvmTb0x6fvzpYbNOyj5ZU0qkoXEFXe8eXgky/N4nT/beU6VWdekEecxY04VIsGYAw2/GVFrXJPh+KNGQhVACWtSIi068iOgrJo/DVbAQ1wM9UeSCtxj8GAXddK2scq7aVAFgSAGhmZhsi2e2nzxxRdqkjka/be//a2adI6nZZ7iIFKFJ/NwILHP0KFD1RMzT8E9tw/kM566YS4WFhRGWbp3767Cimg0ZDcD8KETCeRYXW0TCFThqQFgEiFNJ76eeOo/0v3svvJQv2fl1ddeV0M+MOxD79ebb76pFoxDeNgTqrTPCHtjMTmk48b4dwxFhdMRys0ysWijIBOfWXOptPMs2T9VMsr3qQgGHCUki0CiBsAinpQiqhFqnQLRATdjOHITJ06UJ598UkUA8SAC86mgP7IDBnKccLbBNYW6Y3w1IlQvvfSSqjueUuYW1cjc1fkyMirTVKgaE5slMesLpbZB//l74WjFfSMzAT1c3TWoQsQd9y089MMcqmnTpgl+w9BQbVheV+cCcCFxTySy/yGJBe4VXZXPKb/hnguIRPY/DLHCCAn4EvAvkFod9yY8CNLqG2yiCgzlK6xoVkP7FicUf29o351vbZVZq/JUggrMufrXJ7tV8orO8OTrf0JVZO4TRkEVhgFiBAkiO/Cxcf3jWtTjz0iowrFxDWFu4ogRIw7zvzH3Egks/p+99wCTq7zu/+0kxvHPdpzYiR3bsQmxiZP8kwA2JmAw1XSDDZjeu2mmY0wxxghJgHpDQkIIIaG6knYlrXrvva121bZri7b3nd11cv7P511fMRpmdmbulFvm6Hn0zOzMve99y7n3fT9zzvm+rO/4IZUfk3ke4sHqaw3uxHdpgyp+pWExe9JJJwneJxZl7HvDQgzq/OY3v2n22gG8gjsCwOFYwriQlYVYWTwGHxPvex5ybNQXTtiC6zCgaN3HW27o8bFAFZ4yQJGJ04//f3jm2fI3Xz9V/vuMs+Tc836asjbiLUEhEje3BVLBr9YC5Qc/+IG5KfmFI3iisya8WF4Bm+WHp6UZqobK2qK5crSx0EzOAA57RfEL1EMPPWQUMnnPL9jYYSztiPcYHhYsHgjhRX0QDxm/LiHtjioPvxz1FfIT7/Ws41lAMlbct4QN8+MKD9ann37abNNAvTi2vqnT7BdFfpOlzJeO1/Hzi2Xt7hpp61CossZMX+0v1LiHUfVkcUEUB/tUEWIW7/MKqOJHu3hCAEO9USx0LOW/0O8i/c2PHszr5Gdlgh0AVfQxW7+Q50bUDesYomnC/cgVL1T9ZsQeaWrrlv/93/+TD3JLhHDAYEAin2r9vjrp7vlfKa1ul1tfj21/KqsMhSr792oi9p1sqGLdCsyzhiUCDKVeu4IUkQAslVDFeoYfvfmxlBDo4PU0a37ad8UVV5hnIusPfrhhjR18nBvepw2qWMTyqzIx4YQA8ss6CzAe2IAFm/ped911Rh3HDR2TjDrEAlWRjNcvnzsd/gdYAfJf+9rXzK8geFm4QRPZy6m2tVKQVZ+1d3jawGr23hGyr3KDNLXXfWqhwsMTzx9uc0Lh2A8u2eIcLA6AKPaj4qHHNa0JhWtx/QceeEBmzZqVUN9aZVqvwCP3Ip5FQgL44QHvMiFQ/PrG99axQM2B0maZsKBYyHNKB1ANn10oHy8rl6LKVgl0fVIXq0766syCxcv9zubd/HgQzsbjaZflWebX3Fhl1UNBiVxJII/tSEK/i/Q3P7ygvBovBMbTNjcdC7yS/4EaKf1s/cgTqY7xQtUzo/fK//7f/xm59D98UCCoAVpAdOXzG2TWqqNS2xQwoX/sXXXTH7Yc/946rq9XhSpnnlHJhipABHVJnh+p+pdKqErGmtsNZaQNqlDyuO2228xuyHis+OWNizNITCC4zFmwkQzrho5JRh0UqkSchipyqnAbM+HhfST5H0CIJXwm0qTY1d0l+yo3CqBjheal+pU9qkobDkh3z6e9IeQ8sIhhQuce4seJgQMHJjXXil+FCE9FjY5FU/Cv0CzesHU8R8itI7seqe/i/ZxfewmPJTeBbRGsX+25PtcNHsfunh5pbgvIh4tLhb2j0gVVWWsqDFAF1yXedurxzixs3NjvltJeOBuPp77YI/cIUGQXqvA68T+e8608h0y5H2gnAMl6htBM+ryvcYoXqpBLr2/pNnLpCOLc/IdeTxRANWjGIdl5qMmE/jW3dcvqXbXyq98rVPXV/275LtlQxTqA/9hfqv4pVLVE5ZO0QRWhSeRGoU7Cxl14qAAX9OaJj0RH/8033zSwlQygcUMZClXOQBVyxOwojoLMxIkTza+shKmFC8Ww+4A92nhE1hdly6y9qd+vCqDaULxA6lqrIk7W/FrKIoxfpUePHm28RoShEObKTW63nZwHsJHDRHgLe0fgYQ63cFi2bJkJ1eXHE365tftLNYsU7l9+iGEvrDvuuMPIwPJLHEI2fXkZ8RZt2FsrH+SWpnwTYFS4pi4rk635mZE7kogN6bnOQSM5xHiW4wGjSF6ovj6nfICKH0z7ukcz3RbihaqHB+2SvKJmo+y3Jb9eXhqfZzb9HTH7iKzbW2dC/9ibqrq+UybmlsgvX96knioPiOYkG6pSBVLB5SpUuQiqACaAihhxciMs6OEXcDb3ZRFM0nsiAhRWmW55VahKL1RhS4S/3XfffQYCgHc8UwBHsify1s4mIxqRvX+szNwzNGUeK6BtQf77UtZwUDoCbTG1g/sLzxzhciS4W8mq3Fvx9ANwwy9f5D6iygPgIIEcCU75oYQfT8h9RLgCGAsHX33VgV968Sii5keYIddlQ2dyFqhLX+fyXXd3j1TXd0j2+koZNSe1uVXkbq3cUSPHGj5JQo9WP/3eObjI1L4nPJcfLxMRrOgLpqzvkFgnlJ9nbrz3fSaNTbxQhWdqzLxCI6d+rDFgvFGTl5TJ4i3VZhPg+RuqTC5VYUWbkF911QsbFaoUqoJZKGnvFapcAlV4CQgNQmUPKeZg2XRU+JC8RmiAfTfcAkTJqIdCVfqgCnAilph9i5ARZiGR6om6oe2YrCvKFjxJqQr/m5c3VjaV5Ep7ID7xCeCEsB+UAQkH5L4j3hpVSxY8sYTmAE8skggpJB+SezVan/IrNUDENgiEAQJa0c7he8aP5wQgTEIqXrH777/f7EkRLwxSHt6jyYtLUxYCSM7W9OXlUlCSGcn4sYyhHuNeYCSMFi+2BUCpeCXvimew2kHfdhArVP3ipU1yz4Ad8uvBu+TeAdtl7roK2VLQYDb3XbGjxohW4JUi/JicKvapYlPg0D2s+sqn4jvNqep7vFJlz+qpig4oyViHp7uMtIT/8SszIUH/9m//ZpTCrD2muDj5VOzBQagWxwEifvFWKVSlD6pS9eDrq9yu7oDUtVXJ4oOTUyJaMXvvSFldmCXNHfXS3dN3nH6kehKGQ9gcqjpsS8BGyNxfVux1pPMAL+z3ySefNHlSwGqkY0M/R+kTrxabdvPrdSTPFucBd3zPMwEVQbxc5G2NGjXKAGBo2bH+TW7V2j01MmZuauTV351XJHuPNKrinwd+EY7VZvx8HM8B7jHyIVMBVNzneMhj8Sb7uZ9jaVusUIXXaem2Y7Ihr15u+cPWsLBEXhWAVdfcJSt31sblobJgS6FKoSpWV5Z6qqKDYFqgih2Q2Vz39NNPNyEILNagR37VJrTHgioS0seOHWtyrNJNl6m4nkKVv6HKAEF3pwnNW35omszck7z8KpQFNxTPl4qmQgNUsXiWwk3onIdtE7aHyAP5SQg+TJ8+3UiyhzuHz8jDIDfroosuMlLpsXqcOJcFHB4xBELwkOF9inQdgMoK26RebJ/A3jpcry8Yi1Se9TlhgFV17Sa/amRW8kQr8FABVDsO1EtDc2dMHj+rTvrqzOJF+733xwuAh/uavKdkghVCFoQXspiw+5zKpDGKFaoWbqoWwv3W7KmNCFQIVRD2V1zVbjzzFijF86pQ5cxzST1V0QElFevyVJeZFqhiHyaAigUapMtFaRgJ7+w7dcopp5h8KxZ8QNby5ct9EQaoUOVvqGIhwCKiPdAq5Y2HZFPJQsnePy4h8YrZe4cLeVo7j66S6uZS6eiKLY8q2qKE8DrCbgmxRcWPPEZk0MmzCP11GbtFJOLyyy839yMLJs6Pdo3g7y0PGfc0+0ohXBH8PSIWeLQAN7zYzz//vMmpJESJc5OxOOsMdEtNQ4cBoI+WlAqb9CIuYUcVkPPIoSLkDw8VQNXV1XNCm4Lbp++dWahov0fud7zP3OvsB0NYL/e+XfEKzsM7xQ8m7IXFnB7vMyJTxyoaVF323Hp5dMhu2X24SVD0wxMVCkmXP7dBbn9jmxGqaGjpkiVbj8ljQ3d/6rjQ88L9rVAV+Z5JpY0qVClUHfcQYmjETscapscCbfDgweaX8lBKxFuFshiJ7SyweFDz0A89zot/K1T5H6qsh25nV4eBoLyqTbK2cI7M2TdKZhplwOgiFghdIEiRnTfWbPCbX73FhBUSXmiVn6xX7qPdu3fLmDFjTJ7Ub3/7Wxk3bpzxDgE6/Od+ZfNRRD/wGpGfFe/1gSIS1gcNGmRyo/hhpbGx0eRzcX+zqTdQh2eKvC+UA8mpivc60Y7HY0UoYF5hkwmlMXLrs4/EDFfsQ8V/VP4QpSCHiv2wkgF90equ3zuz2PFzv2O3eID5QZMfS6w9rGKFK47jP/lT/FCC5ysWGXE/92m8bYsKVc+ul3sGbJct+Q3S2t4juw43ylMj98qVL2ww0IRk+rOj98m0FeVSVd8pB0pbZcjMw/LzF+MTqLAAS6HKmeeMQpVClW2o8iIQJaPOClWZA1XWxIrXqqQ+34TuLT88TRYWTJS5eWNMzlWwSmAvSA033y06MElWHp4hW0oXS2n9AQl0dyYdLqz68WotrAAb1PUQhQB+2DSYvMaXX35ZbrrpJpN/YQeogq+FWAYhgFwDcALSsrKyDLBZ18WDlkioX/D1+np/tKZd1u+tldmrj8qUJWXyXk6xjJpTeMKeVoT3DZ99REbPKZTx84vNxr4kgiN8oSp/ziw++hpT/c7+mDDHAUX8yIK4D2GB/KgZClj8TYgf+ViE6uLlIn8qnpBgHadPxikaVFmwM2VpmZRUtRtlv5wNlfLy+P3CRsBvTT0o89ZVytHaDjlQ2iKTl5TKw4N32fJScS2Fqk/GJp12qlClUKVQ1RKfEShUZR5UBT+Ua1srpeDYdtlYstCIWeTkv2cgal7euzI/f4IsPjDZwNfh2j3S1B6bSl5w+cl4Twgenir2kLv55pvl5z//uQnHY4PuZJRPGeRv4Pm6+OKLzf5ZV155pbzwwgtmkZasa8RTDp6mw+UtsnpXjcxaddSoaI3LLjLhfe/lFJm/AS++L6psNRv7xlO+HuvMIkX73V6/ExZYX19v8i737NljvFAbNmww4YGAFCF+QFd+fr7xJtvdf07Hp3d8YoWqewfskPcXlsi+wmapqus0oYCtHT1GlIIcqo159fLSe3ly3cubbQOVQpW9eyYZtqxQFd96OhmOjnSUkZacqnQ0xI3XUKjKbKjq6u6Szq52aQu0SEtnk7R0NEpzR4P5z3v2uuI7Qge7e+LLWUrGQ50yyF8iTO/AgQNGre+73/2uXHvttTJr1qykQRVl4wn72te+JqeddprZ98oKG0pWO+Ipp7unR8i3Aq6aWwPS2BKQBv43977nb0IG+Z7NhDXUz7mFRzzjqsfaGyfsG7DCWwwwkXeFh9r6z9/851lB3pTeD/b62bLPWKGKvKlfvLxJ2Kfq1j9uNTlU5FHd9sdtcsvrW+XG17bI1b/dKJc+u16hyoMqpApVClXqqVJP1XEbiPXNtn3lcs5to2TZxoPS0BR/bo41EelrYhN5X/0HVCEOc9lll5mtDR566CG55557zH5R5E7a+WWahRc/dJCfRfjfvffea6TZEawBsPCQ9VUn/S514619q32rNuCcDcQKVVYYYKpfNfzPGVvwKlQR+ou6r/6P3AdoRbBXaqR/nwn9ggdyPEIVbvQipaNO6qnKbE+VFxYu/BpNngQg9cQTTxgIYtNewId8K8L0UOjEsxRreyizoKDAbAKMEMarr75qRGpIbkeQ5q677pIPPvhAczI8+OtqrDagxzmzUNN+d3+/K1S5f4zScR95Eaqam5vNvE0+pf7vuw/w6kf6p1AVp4fKAjaFKoWqdDyc7V6Dm548CZQAL7zwQmGfOFTBKI+tD/j8iiuukMcee8zsa2X9+kKoULhrUh7KfuRjoOQJPCHfTqI7v9rw/d69e+XOO+80ZZJrFa4c/UwXHWoDagN+tQGFKrVtbNuLUBUJEvTz+HpAoUqhKj6LCTpaw//cO4EA/SNGjJDrr7/ebHlAsnrwQoYcCySXkVZHwOLpp582f4fuSUOoHyGCANWkSZNMbhabfa9YscLkawWXyXtCApFSf+SRRwxsRYK00PP0b/fako6Njo3aQGw2oFAVWz/53Z4UqoIWihn2VqFKocq2yStUuXcCmTp1qjz++OPGmwRQhcINsESCurVJ94MPPij//u//bvaVY8NPa9IDqBYsWCBs9Esu1vjx440HjFCB0DI5B0/ulClT5L777pPXX39dgDurLH11r73o2OjYqA0kbgMKVYn3oR/sUKHK9rLS8ycqVClU2TZihSr3TSCoeK1bt86IR5DjhDcq2iQFWCGv/M477xhweu6554xCIPvXsHkvQhT9+vWTxYsXmwRWrtGXShh7U02fPl2QV//444+loqIiah2i1VG/d5+t6ZjomKgNnGgDClUn9kem2odCle1lpedPVKhSqLJtxApV7ppA8Cqh3vPkk0+a8Ds2AI5V3Y/j8FBNmzbNhO/deuutJj+K8EGELRC8IDQwlkkS4KIebDTM+dQjNPwwlnL0GHfZl46HP8aD+xNVUH4c0TFN7pgqVCW3P71qnwpVtpeVnj8xIlTx6zKhO/o/fB9UVVUZ6WhCoDL1n0KVeyYQ7BAVv4kTJxoBChT4EKSIdVJCaIKFVl5enrz44ovy05/+VH70ox/Jr371K8nJyZHS0tKYAY1rIl6xY8cOueCCC0x5QFm4cMFY66fHucfWdCy8OxYAFfcmKqBFRUVm/yodz+SNp0JV8vrSy3apUJWpq2KRsFDFL9bsNaP/++4DpOcVqnSfKjc8/BsbG81C6ZxzzpGBAwfGvFcUiyxEK6qrq2XZsmUm/A/hCqTSx40bJzfccINcfvnl5v2hQ4fiAiu8X3PmzDHeKkIL1VulCw433CuZXAfuSTbsPuuss8xWCJYiaCb3STLbrlClzzjsSaFKoep4D/zf//2fAQVgQf9H7wP6K1P/qafKPRNIbm6uUfJDzQ/YjzW0B2EJ8qnInfrJT35i9ppC2Q8vF54rfmAZOXKkkWW/5ZZbZPbs2TF7vwA2BC2GDx9uwhGHDRsW87nJXOhoWe6xUx0LZ8eC+/mNN96Qv//7vzc/oKxdu1bvySTuKadQ5ax9u+X5olCVqaviMJ6qzO0KbXm8PaBQ5Y4JZPPmzcJGvHfffbfwHlW/aJML4X4ssCZMmGD2lXr44YeNst+ePXuMR4nvKcM6DphC+AKVQF7Z7BfvWLTr8D2QZ4lgsNkwoBXLeXqMO+xLx8Ef44CXCvGZ0047TU466ST5l3/5F5MvyUafOsbJGWOFquT0o9ftUaEq3tWkf47/VPiff5qmLUl1DyhUOQ3MA/UAACAASURBVDuB4Ekmt49fnh999FEDRW1tbX0q8xHqhxcK8Yjf//73Zn8qvFQzZswwKn0WTIVOaohUAGxsGsweVPyfPHmyEaQIPTbc33jDCCm88cYbZdOmTTGLXoQrSz9z1u60/73Z/4T9vfXWW/L5z39ePvvZz8rnPvc5ue222wxo6ZgmZ0yBqjNvmyDn3DfDFf+py32vzFRoTqI3MpZ7RaEq1atP95avUOXesXF9zRSqkjMRx/KQDj2G0DpC9+bOnWskz4cMGWLEJEKPC/6bBPX8/Hwjc45M+nXXXWc2Bt6+fbtJXg8+NtJ7cjBmzpxpzn3ggQeMMMbevXuNdwvIi3QeXi0k2RHAAAL379+vSfJpnugjjY1+7tx9nK6+58eSrKwss83BZz7zGbH+n3HGGdK/f3+J9mNMuurp9euMmLLOQAwg45b/AyesjPhc9np/u7X+ClWuX76mrIIKVSnrWv8XrFDl3GKMEL+CggKj9Pf2228bWAo3wQBfwA6LJkL7kDkndwpVP2AKMAt3Xl+fUR7qoFz32muvlZtvvlnI6UIpNJKni/IAMvavQlUQdcKampq4r91XvfQ75+xR+97dfU+I30svvSRf/OIXjwMVYIXX6qKLLpKDBw/GnIepY+3usdbxcX58FKr8v/6N1EKFqkg9o59H7QGFKuce3nh67rvvPpPjtHHjxogLIsL9CBEcPHiwoOp3++23y3vvvWegCDDry7sUaXIG1IAnFmrLly83+Vynn366/O53v4sId5TFOYDV66+/Lvfff39coheR6qKfO2eD2vfe6XtUOC+77DIT9md5qXglDPB73/ueEZNRdU7vjKfee+4eK4WqqMtH3x6gUOXboU19wzIZqpra66S04YDkVW2WrWVLZWPJQllXlC3ri3NkU0mubC9bLvnVW6WiqVBaO2PbNDfWiZIQvtGjRxtIWrBgQUSPT2VlpZFZ//Wvf23C9QYMGCAo+5WVlSXNQ8RCbPfu3Sa/6oknnjC5Vohf4EUL1x7Ail/FEdbgP/vlhDvO7mcdnd1SfqxNdh9ulNW7amTx5mpZsKFSstdVyoKNlbJka7Ws31sr+wobpbK2Xbq6epJ6fbv11vPcvUjy6vhYYcLcm9/85jdP8FJZcPWlL33JhOVyH8cicuPVvtB66z2WLhtQqEr9+tOtV1CocuvIeKBemQZVnV3tUtVcKgXHtsv28uWypjBLFh2YJHP2jZZZe4fLjD1DZOaeoTJ77wiZmzfGfAdo7Ty6Wg7V7JK61krp6u5V1bP7cC8pKTFART7TqFGjjBcqOOSORRQLI0QlkDJ//PHHDeggMLFv3z4TBmj32pHO4/rA1cKFC434BSIWKASSQ4XABXUKPXfJkiXy3HPPCYs9NhxGmSz0mHj+rmnskPziJtmwt1ZyN1XJtOXlMn5+sYzKKpThs47I0JlHzOvoOYXy/oISmb6iXJZsqZaN++rkyNEWaWoNJHT9eOqqx+riLl02wNYK/JBy/vnny1/91V+Fhaq/+Iu/kK9+9asyduxYs4F4uuqm19H7wK82oFDlgQVsiqqoUJWijs2EYjMFqgCh5o4GKW84LFtKl0r2/nEGnACpmXuHGZgCqML955jZe0fKwvyJsrtijVQ1l0hboEW6eyKLOoSbaCxYmjVrljz00ENGBh1PVDBQEepHeB17z6Dsh7LXY489JgAMIhXhyk32Z/zajUeMPa2eeuop44k6cuTIp3K3kFUnDBE1QI5HkZD6x1Mf+qQj0C1VdR2yJb9eZqwoF6BpxGz+94IUMBXu/7CZRwxwAV056ytlX2GT1DR0SKCrOywExlMvPVYXi26xAX5gmTp1qrnP/ud//kf4T04jkuqnnnqq+ZvPEJBBGZB71S1113rofeRVG1CoyoQVcPg2KlSF7xf9NIYe8DtUsWgHfpo66mRPxTqZnz/BAFI4eIr+2VDJ2jdKFhZ8IIdrd5uQwFjBinoAHEgi33HHHQaUkCi3Jhy+5xfp8vJyAbrInfjZz35mJNbxFFnHpesVrxNwhcz7mWeeKa+99pps27btuMIY9aUu7F/FxsInn3yyEMYYz345lNHe0SVl1W0yfcVRGTuv+LhHKhxE9fUZEDY+p1hyNlRKVV27dAYUrNJlK3qd1C6cuU/YxJtnQ1FRkfmPYM23v/1tGTdu3PHPrO/sCNfoGKZ2DLV/vde/ClUxLCB9eohClU8HNh3N8jtUAT21LRWyoXh+r3dq34iw3qjoQPWJF2vmnmGSs3+c7Dq6SurbqmMCHoAKtb1nnnnGhPPl5OScEMbHQgj1PUL9UPYbNmyY7Ny502zOa0eIItFJnIUcYIX36eOPPza/kt90001mjyvqatUJEERwA4GLG264QTZs2BBTf1C/xpaA7DnSKBMXlsiYuZ+E+PUFT319N2zWERk1p1A+WlIqh8qapa09sTDNRPtQz/feQsqNY8a9yP3GM8T6X11dbX7IYGsE6zPr1bo33dgWrZPeE16xAYWqdKxA3XkNhSp3josnauVnqCLkDw8VQDUv712TKxUPPPV97FBZkP++yctqCzRHDQVEWIL8KPaWQsWLRRGTC6F/iFaw7xPfPf/882bfKkJ4kFB3egJigUaI4rp162To0KHy8MMPG7VCcq8IU6R+hCXi1UINEFXALVu2RK13W0eX7DzYIFOWlgowRChfX8AUz3eEDU5fXi6Hy1sE0Qun+1CvrwvJZNsAHmG8w+xbleyytTy1V7WBP4lClSeWsCmppEJVSro1Mwr1M1S1dDTInsp1xkOF+ETfkPSJJyrW4yhzYcFEya/eIh1d7REXN3h7COlDDp1wHYQq+FWZz7Ozs+XVV1814YDsGbVq1arjIXZumtiAK9QAP/zwQyOagZDFu+++K7t27TL1xatF+B+fv/POO33KstOugpJmyVpzNGreVDwwFXwswhaIXZRWOw+mbhpHrYs/FswKVf4YR70f3TuOClWZsQYO10qFqnC9op/F1AN+hSpU/sobDxvomZ2EkL9IoIWIxaIDH0qtUQX8tEgDXhwkxxF8uO666+TQoUNGZW/v3r0m+RwIufvuuw2skBPh9kmW3I7Vq1ebMEX22AKgAEFCG0moHzhwoPFY4ZVrbGw8HiZotYtQpubWgCzeUi3jsots51AFA1Sk92Ozi2VjXp20ahig6+3Ksg99jW2RqVAVWz+pPWk/2bUBhaqYlpC+PEihypfDmp5G+RWqkE1n7ymk0iMBUbI+z9o30ohgsO+V9QAHHvhPvhEhfddcc40JoWMxtGnTJvnNb34jZ599tjz99NNGrYvcJOtcr7xOmTJFrr32WiP1/P7775swQUIZEbdAjQz4AirpB6tNga4e2XGwQaYuK0uZl8qCLMIK56ypMF4x6/r6qossP9iAQpXasR/s2M1tUKhKzxrUjVdRqHLjqHikTn6FKvahQjY9WeDUdzlDJWf/e1LR9ImnCZDAU0OOERv3EvZXXFwsgwYNkl/96lcGqsitIi8JoAoGDzdPNMF1Q5WQ/KkhQ4bIJZdcYvKtli5dKohwAJJXX321aXNw4jw5TjNWHDVS6Bb8pPJ1zNwiWbCx6jjUBddf3+vC1Ks2oFCltutV2/VKvRWqPLKITUE1FapS0KmZUqQfoQqP0fbyFTJ738g0QRUbBg+T/OqtRmadSYNQuMmTJ5uwv/79+wueHDw4bJQ7YcIE2bp163GhB69MMuHqiRIgsupsEvzSSy+ZfbXYEJgwQKTj+/XrZ2TkORegKqlqlUm5pSkN+wuGNLxVHy8rk8radunq+sRjFq4t+pkuVL1iAwpVaqtesVWv1lOhKlNWwZ9up0LVp/tEP4mxB/wIVaUNB2R1YVbUTX379j7FL1yxqSRXqpvLzJ4yK1asMFABWCCT/uKLLxqvFd4pS6jCq5NNuHojvMG+W6gYkifG5sZ33nmnXHXVVQYi8dIhob5xX52Myy5OqtpfMESFe//+whLZVlAv7aoEqB67P/ljMa5Q5Y9xDPcs1c/cMbYKVTEuIn14mEKVDwc1XU3yI1TlVW2W3IIP0ualsuBsycEpcqByl5EXf+yxx+T000+X66+/XhB0eOWVV4xIhRdzp+KZ5IGniRMnmlDAW2+9VU477TSzxxX76RwpPSZz11bIyKzCpMmnh4Oo0M/GzCuS+RsqpaVN962KZyz1WHcs7sKNg0KVe8cm3HjpZ94bL4WqdK1C3XcdhSr3jYlnauRHqEqXQIUFU9YrohiLt842G+R+/etfl+9973tGiALBBvKPMmliBa7wWp1yyiny5S9/2Xjtps9ZLONzjph9qULBJ5V/D599RCYtKjWeskwaA22r9xZysY6ZQpV/xzZWG9DjUmsDClWeWcYmvaIKVUnv0swp0I9QtbFkoSB1bsFOul4nru0v9zx9o/zgBz+QM844Q1DHszbxDRZryITJkHBARDgQrsBb9y//8i9y5jkXy4uDsuWdj/PT6qkir2r8/N7ww0zoe21jahdbbuhfhSr/j7Eb7CyT66BQlTnr4NCWKlSF9oj+HXMP+BGq1hVlpx2oALc7n71W/vlfvy0nnXSS/O3f/q2cc845JqcI2fFM/I+M/EUXXSTf+c535K//+q/ly1/5mvzovGvkj+M3pxWq8IK9O69IGpo/vY9YJi8atO3eXZgrVHl37PS+88bYKVTFvIz03YEKVb4b0vQ1yI9Qtb44R2buGZp2sHpm0D3y66fvNaIUv//970X/n9gHz7zwitz4wGsyYNKutEPV2OwiaWhRqNIFnTcWdNHGSaHKH+MYbZz1e+fGWaEqfetQt11JocptI+Kh+vgRqjaW5MqsvSPSDlXTtg2RbUdWmQ1vdTL89GRYVt0mY+YWplX5Dy8V4X8TFmj4n9rkp23Sq32iUOWfsfSqDfq93gpVHlrIJrmqClVJ7tBMKs6PULWtbJnMzRuTdqhis+EDx3ZklCBFPBPr0Zp2mbgwfXtUWeIXqA1OXVouTa3qqYpnvPRY9y7cFarcOzZ63/hjbBSqMmklfGJbFapO7A/9K44e8CNUsQnvogOT0g5Vyw59LMX1BQpVEfYCqmnokJz1lWmXVCefKndzlbS0q6S6Lvj8seBTqPLHOOr96N5xVKiKYyHps0MVqnw2oOlsjh+hqqKpUNYWzUvr5r+oDeIhq2mtUKiKAFXNrQHZXlAv47KL0pZTRejfh4tLZc+RRunQzX/VNiPYptcWtwpV7l2Me82WtL7hbUmhKp0rUXddS6HKXePhqdr4EapaO5tk59FVMjuNeVWz942QQzW7pT3QqgvXCAvXzkC3VNa2ywe5JWnbq2r47EKZufKo1DV1Sld3j45NhLHRhVX4hZVb+0Whylvj5VY70npFtiOFKk8tZZNaWYWqpHZnZhXmR6hiojhUs0sW5k9MSwjgzD3DJPfAB1LZXKyL9iiLdrxFc9dWyJi56fFWjcsplsVbqnVcooyLLq4iL67c2DcKVd4aLzfakNapbxtSqMqstXBwaxWqgntD38fVA36FqrrWStldsUay9qVWBRDp9nl5Y2Rf5QZp6qjXxXuUxTveooKSZpm2vFzwIlliEql4HZFVKPPWVcqB0mYdlyjjogusvhdYbusfhSpvjZfb7EfrE91+FKriWkr66mCFKl8NZ3ob41eo6urukqrmElmQP1HwJLE5byr+k0u15MBkaWivke6ebl28R1m89/T0CGGAS7cdMxvypgKmrDLHZRfL1vx6cz1dRERfRGgfeaePFKq8M1Z6X3lzrBSq0rsWddPVFKrcNBoeq4tfoYqJrC3QIodrdkvO/nEyIwWbAeOlWnxgshTX50ugu0OBKgpQBS8uSqraZP6GShk++0hKvFUjZh+RVTtrpLpOxyW43/W9Nxd4oeOmUOWPcQwdV/3bPeOqUOWxxWwSq6tQlcTOzLSi/AxVeI4Qrdh1dJUsyH9fgKBkeasoa+nBKZJXtUk6utoED4xOiLFPiORW5Zc0mfyq4bOSC1ajsgplwcZKKa1uk0CXeg/VLmO3S6/0lUKV/8bUK7aXKfVUqMq01fAn7VWo+qQv9F2cPeBnqOLhD1jVt1XL9vLlsrBgYsKKgMAUIX94qACqxvZahak4PFTBEzIS6wUlTTJ9RbkRrkgUrvB6jc0ukqw1R6WoolXaO3RfquD+1vf+WYgrVPlnLPW+dOdYKlTFuZj00eEKVT4azHQ3xe9QZU1YbYFmYVPgJQc/krl5o215rcjNQpRiycHekD88VFb5+mpvYsSTVF3fIdnrKmXCghLbGwOPmlMkExeWyKJNVVLf3CndKp+utmkT9r1wLytU2XveeGFstY7uGFuFqnSvRt1zPYUq94yF52qSKVCFx6qzq11qWytlT8U6k2fFPlaxhATimeLY3IIPjMofohTkUGnIX+KTH32IImBLW5fkFTVJ1poKA1bkRFmCE5Feh808Yo4dNac33O9gWbO0tHcZoNKxSXxsdHHn3j5UqHLv2Oh944+xUajy3HI2aRVWqEpaV2ZeQZkCVdZE19UdkKb2OqloKpSCY9tkc+kiWXpoqszLe/fPoYFDjVrg7L0jzWfkTW0rW2Y29q1sKjay6aryl5pJE7A6WtMu+4ubZO3uGpmzpsJ4n0bPLTouaAFssccVGwiz39XGfXVGMr2qrl3aNNxPvVM+9k5ZzzBem5ub5bHHHpPNmzfrmGfImAePv75PzRwU3K8KVZm3HrZarFBl9YS+xt0DmQZVwQ9NRCyqW8qMel/Bse2SV7XZeKL2VW2U/VWb5cCx7VJUt19qWiukPdCqi5c0LV6QXK9p6JAjR1tkz+FGI4u+Ka9ONuyrk815dbK1oF72HGk039c1dRpPV/C46vvULzi0j53t40AgIOvXr5fqat3YWm3RWVv0a/8rVMW9nPTNCQpVvhnK9Dckk6HKr5OBtksXGWoDagNqA2oDagP2bUChKv3rUbdcUaHKLSPhwXooVNl/6OqEpX2nNqA2oDagNqA24D8bUKjy4II2SVVWqEpSR2ZiMQpV/psMdILXMVUbUBtQG1AbUBuwbwMKVZm4Iu5ts0JV5o59wi1XqLL/0NUJS/tObUBtQG1AbUBtwH82oFCV8PLSswUoVHl26JyvuEKV/yYDneB1TNUG1AbUBtQG1Abs24BClfPrU6dqoFDlVM/74LoKVfYfujphad+pDagNqA2oDagN+M8GFKp8sMC12QSFKpsdp6eJKFT5bzLQCV7HVG3g0zZgbTQd6OqWjs5uabf+d3zyviPQLXzf3d3jms29qTf1MfUOfFLX9uB6d3YLWxGwkbbbNr7u/vMG39QvXL/zGd8Funrbqbb7advVPkl/nyhUZe4KWaEqc8c+4ZYrVKX/Ya0TpPa52kD6bYDNoQuPtsj6vbUyb12lTF1aJpNyS2TCghL5cFGJTFteJgs3Vcnm/XVSUtVqIMYN4wRQlVW3mf3aFm6skmnLy019319QYur/8bIymbe2QtburpXD5S3S0t7lqj316ps7paCkWVbtrJHZqytkypJSs3n3+wtLZPLiUpmxolyWbK2WXYcapLK23VV1d8P4ax3S/6ygzxWqEl5eerYAhSrPDp3zFVeocuaBrROl9rvaQHps4GhNmwGl+RsqZcbKowZE3p1XJCNmH5FhM4/I0JlHZNisIzJy9hHh8w9yS2T2qqOyYGOl7D7cKGww7cRY1TR2mM2vczdVyaxVRw2AjMsulhGzC019Tb1nHjHtGD230MAhgJKzvlK27K+XozXOAQoes8KKFlmzu0bmraswIAhEjZ5TKMNn9fY59ef9yKxCGZddJB8tKZM5aypk8eZqOVDSLC1t7oJDJ2xAr5meZ0S4flaocn596lQNFKqc6nkfXFehyrmHdrgHuX6m46E2kLgN4N1pbgvIvsImWbKlWj5cVCojZ/cu6IMX9Szsw/0HXPg/fXm5rN5VIwdKmwVPV6pD6yi/vaNLDpW1GM/O9BXlvfX+c90tCAxXZz4DFKk3HiDavedIozS2BExYYDrsihBFYHD7gQYBYifM74VA+hxwjVRvPud76j4qq9DA1cZ9dVJa3WZCBtNRd71G4vedn/pQocoHC1ybTVCostlxeprmVPlpEtC26KJAbeBPJmyvvqlT9h5plClLy2TM3KITvCN9LexDv2ORPza72HiuCGFrak0doACChO4dLGuWuWsrzHW5fmidYvkbiKHdwCRhdbWNHSkPZyQvqqK2XTbl1Rmv2ag5hcc9gbHUOfgY2v1eTrEs3VptPF6AZqqBVu8dfX4G24BCVeaukBWqMnfsE265eqp0IgmeSPS92oOXbYCFd01Dhwn3G5nV67mJ5t0JXsxHek8ZY7OLTDgeYJXsBT7lAVT7i5tkwoJioe7RPDuR6hr6OWWRR0a/JLve2Apl8p8wy0Wbq0zd8ZiF1sPO38AhuW9HjrYIIiKpqL+X7V3rnrrntUJVwstLzxagUOXZoXO+4gpVqXso64Snfas2kF4baGkLyIZ9tTIupygpi/pgEAByJswvkf1FTSZEL5ljiycGDxVAFUt4YnC9YnlPLhbhdIREJrPelAXoEGJI7teYufY8a321gZyrjxaXydFjbUYlMNn11/LSe496pb8VqpxfnzpVA4Uqp3reB9dVqNIJxSuTnNZTbTWaDew82CCo4SXLUxK62AesZq8+anKeotUlnu8PlbcYBT+8SqHXTMbfeNoIhdySX590qCLsb+3uGiPwkQogpP2A1fwNVVJZ55z4Rjzjqcd6/1mlUOWDBa7NJihU2ew4PU1zqnTy8/7kp2OoY0g+EnLcORsqjYJfskLnwgHN6LlFRkSitjE5qoAIOyCGQQ5RKutNjhOS5oBJV1dPUuCKvb6KKltl6rIySSSHKlw/h372bnax7DjYYPLa9J7Xez7VNqBQlbkrZIWqzB37hFuuniqdnFI9OWn5amOptgFU5wj7+3Bxacq8VNYiH/BBlW/XocakgAmy7Uih442xrpGqV/bkIr8KJcNkjAly80u3VaccCOkP+j17faUUVbQmpe7JaL+W4d9nm0JVwstLzxagUOXZoXO+4gpV/p0UdMLXsc0EGyCnp7W9y+xzlKrws1DIIbyQPZXwkNkVT+A8zmfDYbsqf6H1ivY3YDJ+frGgjmi33pZNdff0SGlVm1EZjHbdZH0PeKIuSL9Z9dBXfc6lwgYUqpxfnzpVA4Uqp3reB9dVqNIJKRUTkpapdpUuG8DrcqisOaU5PeGggBylkqpW21LlgEFZdZvJ0UoXVNEONgpGbAO1wUTGqL65U7YfqDcb+obrn1R8BhSiMEioZyJ113P1+RTNBhSqfLDAtdkEhSqbHaenaU5VtAerfq+Tr9qAu22Axf2qnTUmlyoVC/lIZeLxSSSUjpDFrfn1MmlRqe39nCLVra/P8bIRsnesoSMhMCmubDWKf+nyDlpt6g29bEio7npPu/uedsP4KFRl7gpZoSpzxz7hlqunSicXN0xgWge1Q7s2UFXXITNWlqcthM5a3I+eUyhZqytsy5Sz7xKhf+/OS778u1XHcK94e/CylVa3JQQm+wqbTDnhrpHKz4DZFduPJVR3u7am52XOc0qhKuHlpWcLUKjy7NA5X3GFqsyZJHRBoGPtRxtg01kW2sBCKhfzoWXjofkgt9Ts0WSnXzs6u2X6irK0CFSE1h2QKzyamOADoX/jstMLhLRjVFahEayw0+d6jj4DY7UBhSrn16dO1UChyqme98F1Fap0kol1ktHj1FbcaAPkJY1K0f5OoTAS/Dd7P72XUyQNLfY21EWO/MNFJWmHQdrAfliHy1sS8vZszquTkbPTC7LUHZjNWnM0obq70Y61Tu56vipU+WCBa7MJClU2O05P05wqncjcNZHpeOh4xGsDJVVtafVQBYPVmLlF0tBsE6o6uuX9BSWO1f1QWWJQtWFfnWN1n7lSoSre+0SPj+/ZqlCVuStkharMHfuEW66eqvgetDoxaX+pDbjLBsgNQnwhGHbS9Z7wt0Q8VZNyS9IqUmH1C/2VqKcKaXMn+p0wz9mrFar0OZTa55BCVcLLS88WoFDl2aFzvuIKVal9MOvEp/2rNpBaGyg/1iZjs4vSDie9OVUltnOqCP+burTMETDpzalKzFOFciGeOgvU0vWqOVWpvZ/0edXbvwpVzq9PnaqBQpVTPe+D6ypU6QSlk6jagJdtgD2LPlpSJsPT7K1icT9jxVFparUX/odQxdy1FTI6zWBCLtiHi0qFsMlExn334UYj1JEumLKuMy67WJZsrU6o7om0W8/NjOelQpUPFrg2m6BQZbPj9DTNqdIJMjMmSB1n/45zbWOn2RB21JzCtHpNWNwv21YtrTY30e0MdMva3bUyYUFxWusNfOasr0x4A13CB4FCC3bS9frRklLZvL9OoepP/r2n3fC8VqjK3BWyQlXmjn3CLVdPlU5MbpjAtA5qh3ZtoKWtS/YeaeyVVZ+ZntwqQv/Y6+lAabMAR3bq3tXdY/Kapi0vT5sCIF4qQv92HGyw7WGz2nqsvkM27K1Na/jiiNmFsmBjlbDxsFUPfdVnRypsQKEq4eWlZwtQqPLs0DlfcYUqnZBSMSFpmWpX6bIB4ARv1aRFpWmDk+GzC2XW6qMC0HX39Nha4Pf09EhLe5fxGqVL8AGRh/fmFxsvVaDLXr2tcWXzYhQE0+khHJFVKOv21EpbR5etPrfqrq/6fIpmAwpVzq9PnaqBQpVTPe+D6ypU6eQSbXLR79VG3G4DeIuWbTuWlk2AARMAbu2e2qQs7Lfsr5cPF6ceCKn32OxiWbCx0sBgMsb0WEOHzEtTXhj1n7qsTPYXNyWl35PRfi3Dv89GhSofLHBtNkGhymbH6WmaU6WTon8nRR3bzBlbvFVFFa0ya3WF4M1IZX7PyDmFkru5SoqrkhOCdrSmXRZvqZZRc1KrpEe/fLy8PKGQxdB7inyy/OJmmZhbmnKhEAQ9AFlALrQe+nfm3OvpGmuFqsxdIStU0YJU4gAAIABJREFUZe7YJ9xy9VTpZJSuSUqvo7aWahtYvatW3stJrfDDxAUlsvtQY1IX9ijp4f1KJQy+l10sS1OgmoeK4bx1lSmVV8dLNdkoFiYHZFNth1q+9591ClUJLy89W4BClWeHzvmKK1R5/+GvE7iOodpArw3UNHQYRb5U5SiNyDoiW/LrbO9NFWmcGlsCsvNQg4zMSo3QBv2xdFu1VNcn38vT3d0jFbXtZkNeBDySDYaIa7APGaIgbTaVFiP1u36uz85INqBQ5fz61KkaKFQ51fM+uK5ClU4qkSYV/Vxtw2s2EOjqNspweGSSDVaj5xbK6l01Ul3fLoQbJrNvesU2OmT93loZl+SNjOkHE65Y2Sr0TzLrTVkIbpDTll/cJFmrjyY1DBAP1Qe5JcJGw82tAQHgkl1/LU+fc+FsQKHKBwtcm01QqLLZcXqa5lSFe5jqZzrJqg141wZQhiurbpMVO47J+wtLZGRWoW1VQBb1qNuxWe7aPTVSVdduW0I9mk0BPHjaNuyrlalLy2T0nKKE6k0OlQn521ZtQDPVinktbQHJL2mS3E1VxrOE/LldrxX9TvtnrToq2wrqpaG5U4FK96VKK1ArVGXuClmhKnPHPuGWq6fKu4vHaIs0/V7HNlNtoKurR+qaOmX1zhqZsfKojMspjgtQWNTzf/yCErOwZz+mpjR4SvD6NLcFjGcma02FgUJTlxj33yJUjuNR+UOUAo8dIX+p8FCFsy3yqwDaRZurZcqyckFcgvrEClccy+bECF+gKrivsMn25srh6qef6TMxVhtQqEp4eenZAhSqPDt0zldcoUonmVgnGT1ObcWLNlBU2Wq8JwhYsPEt4XDWQn/wtIMy4MPd8vaU/TJk+iHzOZ4toGT8/GLj7Tpa05bWX8itPq6sazfhgNSDegd73IbMOCwDJ++RQR8XyNAZhwWYAkY4jn2okE0nB8kqK92vhDMWlDSbPCuAdszcQiHfinoOmX5Q3p6SJ29N3nscthgPPILjsotlYm6JbMyrk/rmTsfqn+7+0uu579mqUOX8+tSpGihUOdXzPriuQpX7HuY6weqYqA0kzwbw0rDJblVdh+w+1GDyiz5aUmYA5LeD5su//ve5cv09L8ub49fJlKVlsmhzlfGQsKEwkuGJbpJrdyzxthGyV9/UafZmWr79mExbXm68boOm7pUfnfcLeejF92Tox3tN3tG8dRWy42CD2diXTYnJc7J77UTPs/Ks8LqVVLUaz1v2+kqZuLBUXh+zUq686Uk597LbZFRWoWnP9OXlJl/tYGmzEQGh3Zo/lbx7INHxzMTzFap8sMC12QSFKpsdp6dpTlUmThbaZl2sZKIN4D1B7IBwuNKqNik82iIfz14sn//CF+XbJ/+r3PXg0zJv0TrzPVDS3eMOUQQABSgk34rQuj0HKuWDaQvl2985Rc698CoZ+8FskzOFAh8hik5BYCSb6gh0S0NLQMqrWyR3xVa54baH5Ovf+mf5yXkXyeHyFimsaJWyY20CxKY67ytSHfVzfSaG2oBCVeaukBWqMnfsE265eqp0MgmdTPRvtYlMsYEVK1bIZz/7WfnGN74hF1xwgTzzzDMya9Ysqa+vl+5u5zw9ffX/gQMH5Ne//rV8+ctfllNPPVVef/114bO+znH6O/pz+fLl8vjjj8vpp59u6k5/O10vvb4+6yLZgEJVwstLzxagUOXZoXO+4gpVOqlEmlT0c7UNv9sAUPW5z31OfvGLX8jZZ58tP/7xj+WOO+6QrKwsKSkpkfb2dlct/GtrayU7O1vOPPNMOemkk+T888+XRx99VMaOHSttbW1G3txNYwaYVlVVybJly+SJJ56Qf/iHf5Bzzz1X/v3f/91ArJvqqnXR512wDShUOb8+daoGClVO9bwPrqtQpRNJ8ESi79UeMskGgCo8PuvWrZMbb7xRrrjiCrnvvvvk+9//vowYMUIOHTokgUDAFWDV1dUl8+fPN96eu+++W770pS/JuHHj5OWXX5bLLrtM9u/fLx0dyd/c1449ELJIffFQTZ48Wa6//noDgl/96ldNvz788MMKVSqR7or7KpJ9K1T5YIFrswkKVTY7Tk/TnKpID1T9XOFCbcD/NgBUfeUrX5GDBw/Ke++9Z4CKELXZs2cbrxXv169f74rFHyF+hCdeffXVsmnTJvnWt74lM2fONF6gZ599Vu68806prKx0RV0Bqr1798pTTz0lt9xyi9x///3GG/ib3/xGduzYYUBQw//8f395+RmqUJW5K2SFqswd+4Rbrp4qndi8PPFp3dV+E7EBC6qOHDliwv369+9vICA3N1dmzJhhQtbuueceGTp0qDQ3NzuaZ4Xn7JFHHpFhw4ZJRUWFfPe73zVhijU1NTJv3jz56U9/ajxZhAgm0ieJnkt95s6dK9dcc4089NBDJufrxRdflKuuusp4BJuamuT3v/+9eqrUU+WonUazc4WqhJeXni1AocqzQ+d8xRWqdFEabXLR79VG/GoDwVBFG/n7hRdeEMLTCP0Drl566SUBrPr16ycFBQUmdymd/UH4IZ4pcqcGDBhg6lBXVycnn3yygSrqUlRUJG+88YbxCK1evTrtdbT6g/6ZOHGiqccDDzwgH374oQwcOFDuuusuAVipN8cqVOkzxbIZt74qVDm/PnWqBgpVTvW8D66rUKWTm1snNa2X2maqbSAUqvCyEPp3xhlnGEEI/t6+fbsBqosuukgGDx4sW7dulYaGhrT8yk4YHUIPzz//vMmlAvLok1CoIpeK8EBC6t555x0DhKnuO6t88qdaW1sN7JHjBUyhTggIbtiwQZ577jn51a9+JXl5ecdzvhSq9N627MetrwpVPljg2myCQpXNjtPTNKfKrQ90rZcuOtQGUm8DoVBFn+OhIkfpuuuukzVr1hwXXFi4cKERsLj33nuNPDggkeoxAt6WLFlirkvOlxXaFwpV1IP64Mm67bbbjDhEOgQ2UPfjujt37jSetBtuuMFAXWdnpwEo6kNeGmIVwX2lUJV62w7ub30ff38rVGXuClmhKnPHPuGWq6cq/oetTlDaZ2oD/rCBcFCFNPnu3bvlvPPOk7feesuIWAAP5ALhfcETgwT722+/fQIopMImEHtA6IGcpD179hjA4zrhoIo68jkQg3do8+bNKa/fsWPHZPr06XLWWWeZfgE8UfzDc7ZgwQK5/fbbZfjw4abvgvtHocof90/wmPrtvUJVwstLzxagUOXZoXO+4gpVOrn5bTLU9qhNx2oD4aDKAihC2QAacoQozwpzIxwQsQjyrgjLw0uDiEWs14z1uPz8fBk9erQRfNi4ceMJ1wgHVVa5eNfwtLEvVCrFNWg3oYbXXnutvPLKK7Jy5UohXBIPWXl5udx0000GBqm7VTfrVaFK71HLFtz6qlDl/PrUqRooVDnV8z64rkKVTm5undS0XmqbqbaBcFDFNQErNv998MEHBRlwQCW4LuQvIcKAuh3/ycM6evToCccEHx/ve7xi48ePl1tvvVWGDBlivD/BZfQFVYAUMAbUfPTRR5/yEgWXE+97wJLyly5daoQxHnvsMePNw7NngSXKhO+//7788pe/NEIa1DX0OgpVem+H2oTb/lao8sEC12YTFKpsdpyepjlVbnuQa310saE2kD4biARV1hhMmjTJ7F3129/+1sAJsGV9h1cmKytLLrnkEgNWs2bNktLS0uPfW8fZeWUvJ2COvC5yvMhRCi6nL6jiOLxDr776qvFy7du3T9rb2084P7isWN9TB/bBWrx4sfGEIUYxZswYA3xWvwBWACgbKSPqgVR9uPIVqtJn4+H6Xz+L3v8KVZm7QlaoytyxT7jl6qmK/nDVCUj7SG3AnzYQDaqABHKnyKFCyY58q2BbQJ1v//79RnL95z//uQwaNEgaGxtNCBxeneBjY3nPOeQjId9ObtTUqVPDlhENqrgW+V+oGI4aNcp43WK5fqRjCOkrKyszghNnnnmmCX1Euj34eOpOaCTS7hdeeKE5Pvj74PcKVf68n4LH2OvvFaoSXl56tgCFKs8OnfMVV6jSyc3rk5/WX23Yrg1Egyo8MEiov/7663LxxRebXKHga1kQhOw5OViEvF1//fWCp8mOOiBAlZOTI3fccYeMHDkyYuheLFBFnQhRBILwLgXXO973iF787ne/k//6r/8yeVQIaIQCJn+TawZczpw583g4YLhrKVTpPRvOLtz0mUKV8+tTp2qgUOVUz/vgugpVOrm5aSLTuqg9ptMGokEVdcHzRA7RZZddJmPHjo3o9SEHa968eSZsj32ZCB3ks1jbY3mDOBeA6Uu9LxaoIlyPTYGRWH/66acl1LMUrV4AI2GD5ItxPsIctIlwxFCgoixg8JlnnjHiFAAdXrxI11Co0vs8km245XOFKh8scG02QaHKZsfpaZpT5ZYHuNZDFxlqA+m3gViginFBhOLdd9+Vq666yoATQhLhxot9pVatWmWg6JFHHjFy4oTEhTs29DMEHiZMmGBCDcnVApxCj7H+jgWqOBbPF6CH4EX//v0NZFll9PUKNAFPQCRAhacuOzvb1CkUlvj74MGD5riXX35Z1q9fH7He1jUVqtJv61bf62tsfa9QlbkrZIWqzB37hFuunqrYHrA6EWk/qQ34zwZihSrAAZlwRCmQD0dOPJI9cGxhYaE57p577jH5Udu2bZOWlhajKhjuvFgFHqxzY4UqvE2UDeygUogaoFVGpFc8c7QP1UHCGV966SWTnxXueMonzJHQR0IWP/jggz49VFYZClX+u5essfXLq0JVwstLzxagUOXZoXO+4gpVOrn5ZRLUdqgtx2sDsUIV5RJOt2zZMrMvE/sz4QXq63rADLLol156qZx//vkmnA9gsZTyrHMBE3KwEKfgOAQhrO8ivcYKVdb5KAA++uijcvXVV/cJd4T7ESb45JNPyje/+U2TI9VXCCMhiygeIkwxYMAAKSgoiFp36qRQpfeqZZtufVWocn596lQNFKqc6nkfXFehSic3t05qWi+1zVTbQDxQZXllnnvuOWF/pvnz5/cJEMATEEVuFJCCYEQ4JT7gbMSIEUb+/OOPP44oThHcF/FCFddg7yhENPBaIQcfXJ71fvLkycbjdPvtt0tubq5UV1cbJUPr+9BXJNPx3N17772ybt26T0m/hx5v/a1Qpfe2ZQtufVWo8sEC12YTFKpsdpyepjlVbn2ga7100aE2kHobiAeqrPEglO+FF16Q+++/30BHaI6RdZz1Stjfrl27jNcH0QigBgCxvl+4cKHZ94ky2QcqWnmcFy9Ucc7hw4dNmN5Pf/pTod3kf/E5+VNsZowUOntPEfaHHHt9ff2nvGpWnXklHBIIxLuGSEUkUAs+x3qfDKjCc0j+GsB67bXXmv/sjzVjxgzTj9a1OA5ABISHDx9uQjOt73hFtt4633qNJGUffJ6+T/396WQfK1Rl7gpZoSpzxz7hlqunyt8Tg5OTkl5bbcvtNmAHqvD6IFV+1113Gc+TBSd9tRWvFWF0hAOyqS//KWPPnj1GMY/NheNR57MDVYTqIYVuXR/QA+IWLVokTzzxhDzwwANmM9+8vDzBK9dXe/gOUGEvLWAFwAoNa+zr/GRAFe2hDeRy/cM//IN89atflRtuuEGWLFlyXOQDQMXbhiftG9/4htlPjHOC64YABzLwn/nMZ+Tzn/+8XHnllUaUI/gYfZ95zzKFqoSXl54tQKHKs0PnfMUVqjJvstAFgo652kCvDdiBKvoOOBk8eLDJl+I9uUix9CmiDnhSAAG8In/84x/luuuuM3AWaxlcxw5UcR6qhWvXrpULLrjAKPtNmzZNnnrqKcF7BfDFks9FOaghDhw4UG655RYDg+Ek1vvqj2RAlVU+oZNscvxv//ZvQnuClRnJa0ONkO8+97nPhYUqwBLVxb/8y7+UH/7wh8b7Fo/XzaqHvvrruapQ5fz61KkaKFQ51fM+uK5Clb8mAp3YdTzVBmK3AbtQRR8TBohAw5gxY4xUeSzeHWtsCLcj1O4f//EfzT5SeFeiCV9Y5/JqF6qoI3lehC7+5Cc/kdNOO83kWQEesYAR5+MhQu0P4QsEO4LrFev7ZEIV+2j97Gc/k9NPP90AlNUO6krOF+qFp556qvFCocYY6qliTy1UC7/yla8Y7yGQFWs79LjY7zWv9ZVClQ8WuDaboFBls+P0NM2p8tqDXuvr30lcxzb9Y5sIVBH2x/lnn322ycuJJQzQGmP2gGKj3HPPPVe+/e1vy0033RRV+MI6l1e7UAW4cW08TCeffLLceeedpg2ASCxQCFABk2xQjEBFX8qAwfUNfZ8OqMIruHjxYgNUhDcCVuGgCqAFcK+44goDYbHktIW2R/9O/72b6j5XqMrcFbJCVeaOfcItV0+V/yaDVE82Wr7ajF9sIBGosvJ1yEUiTwm59Vj6hRyfWbNmGRibOHGi2VSY3CQW/JMmTTKepGjl2IEqQvvw6gBUeJmef/55efDBBw0cRbue9T2iG2wGDKQsWLAgZrU/63zrNR1QRb7a22+/bUIb8USdddZZn4IqNlymLhdddJFMnz79hNBBq676mpnPO4WqhJeXni1AocqzQ+d8xRWqMnPC0IWCjrvawJ+Ml4awL8LE7PQHynKAGaIV/fv3N2GA0crh+Geffdacw3UJP+Ozt956Sx555BEZOnSoEbCwwtjClRcvVJH3hfIdYX9cA7U+9saizrHmRXFNQAovFZsIk1cVrm6xfJZqqCI/DZBCbZH9s/BGnXfeeZ+CqqysLNMnbIwMYKmXSp+Llv0qVDm/PnWqBgpVTvW8D66rUKWTiDWJ6KvaQqbZQCKequC+eu2114SFOfs8ESIXKZQOgEKy3NoHCs+PVU5RUZERrkDAAhEIS9bc+j74NRaoog6E+7EhL0BFqB+eqQ0bNhzPnwI28Dyh4Mf1qXvwdaz3QMrWrVvlvvvuE5QK2UzY+s7OazKhas6cOUYwJDinirZQz6uuukp27txpxDmCoQqlQvoQkQ7GjTLstEPP8e8zU6HKBwtcm01QqLLZcXqa5lTppOjfSVHHVsc2mg0kC6qADMCEvBzkxUPhBMDBC4KHB08REBaubsALUuv/8z//YzxI5ASFy3eKBlVAAzlF5E+RL4TCIIIaoSIMlM01vv/97wtem2PHjoWtF3tcobLHcVu2bDkOZeHaEMtnyYQq6o8kugVVtJv9sx5++GH53e9+Z8aCDZiDoQrYxOt2+eWXG5ANzodjDBDzYJ8ulATjkYqPpe16jDeeSwpVmbtCVqjK3LFPuOXqqfLGA14nYh0ntYHk20CyoIpFOnlSeHLIjyJvKni8AKqDBw/KL37xC/N9JE8P8MWCHm8SQhZA2qhRo45v1GuVGQ2qyJ8CLC655BIDVWySCziEhrdxvdLSUhk5cqRcfPHFsnLlyhPqbV0PGCSUDhl55MYTBY1kQhVqfnjhgCo2VQYc7777btNuVA0B3FCooo+vueYak1e2cePGE9qDt5Hv/uM//kNuvvnmT4Go1Sf6mvz70U19qlCV8PLSswUoVHl26JyvuEKVvycGN01SWhe1NbfZQLKginahhEceD2qAy5cvPwGE8J6wJxWhZggi8HdffcH+Stu3bzd7SZGvBagBBsAb5/UFVYTpISNOGCEeMQAt2BMTel08MwAfuVJAU35+/gl1Y1+rF1980Yhx9BUiGFpuX38nE6oAVEQ+gCrgkX3AyBMjN412h0IVgiJTpkyR888/3xwb2jfkudFeygOSCdnsqy36nT+fawpVzq9PnaqBQpVTPe+D6ypU+XNC0Ilex1VtILoNJBOqWLwjCIESIKFnCEEwBiza8QDdcMMNZoPdWGXIKY9jUQQEGsh9IkQPgYhwUIVoBjlSL7/8srk+ELd79+7jINaXPQBrwAgQMXr06OPeKIDihRdeMGp/ycw7SgVU/fd//7eRpcejhpcPwKLNwVCFRwvFRTyGzz33XMTcMIAMuXsgkzDAvvpOv4t+n3mxjxSqfLDAtdkEhSqbHaenaU6VFx/2Wmd/TuI6rukf12RCFeNHDs6aNWvkxz/+sVm8E4pmgRbS63if4h1nC3huvfVW4+maOnWqKfOf/umfDGTxPfBDqBvCC4hRAGKEAMZ6LcIA8Y6Rf8V/vDmUO3/+fJOPhUpgaEhjrGWHOy4VUMU+VMOGDZP/+q//Mh4+1Py4djBUkUMFTJ1xxhmydOnSsB48vIjU78wzzzQCFkiz4+0jtHD//v1GRp7+omyAC88e0EwYImGFhFjyOVAN2CWz38L1pX6WmueGQlXmrpAVqjJ37BNuuXqqUvNA1olO+1VtwP02kGyoYsyBE/ZxAqLef/99IzwBACGMkIjXgzC3J5980oQXEtb3d3/3d8a7RLga4haEsxFeyOLeru0hQgGY4RkDCMkpevXVV43yn90yw52XCqj627/9W5MXhmgFEGRdNxiqOAbgRRmQ3DDrmOBXQiEBUzxfubm55ljyq77zne8YGXwAFnAir2z16tVGeIRyyX/jungRAbYrr7xSvvzlL6uy4J/c/xwIHn/rvUJVwstLzxagUOXZoXO+4gpV3nzgWw9+fdXxUxuwbwOpgCoW3IAOYHLhhRcaEQVydAjbS0TgAc8R3icEMVAH/PznP29C8wCpc845RwYNGmSuy3F2bYL8qnfffVcuu+wyEwp49dVXG0Dgc7tlhjsvFVD1F3/xF/K1r31NJkyYcMIeWsFQ9YUvfMFs9At4RuonPFI33nijAMLAF2A1bdo047FjA2HAk/7AA4UnD+8YIYXf/e53zbW5PuGHQDSCF4BXuD7Qz+zft+noO4Uq59enTtVAocqpnvfBdRWq3P1gT8fkoddQG8hUG0gFVBEaRn4Tm84CP3gw2CuKzxLtZ4CNxfy8efPkG9/4hpE4Ry6dfa0AuWRcY9u2bUbo4p//+Z/N5sCUm2i9Q89PJlThWcIr+KUvfcnkQRFuGQxMwVBF2B+hjOwPFglwUTpENRGAwuOExw4PFOGXjKcl1oEcPaBM//D/hz/8ocnVevPNN2XhwoXGE4a4SCSPWGif6N/ueg4rVPlggWuzCQpVNjtOT9OcKp3I3DWR6XjoeKTTBlIFVeTlWApy5PHgrWARnmjbKAOIYM+pv//7v5ef/OQnxoPCHlks4JPhUSInjDDD//zP/zTiGHl5eQnXO7TdyYSq2tpayc7ONrCEjDx5bcHXA57w8OFBItcM8Y7g70PfU7dLL73UCI4QygfIAkkoCv7yl780yo2hQGZJtF9wwQVGAl9ByvvPMYWqzF0hK1Rl7tgn3HL1VHn/4R+6KNC/dUzVBmKzgVRAFZ4RBCnuuOMOk1dDfg5qgJaHw+7YoCKIXDrqfMil/7//9/+MZDrqfD/72c/klVdeMdcNhYp4rsfmv+yLhVLh888/b3KU5s6d+ylQiafMcMcmE6rClW/nM8vDyB5XwBOy61Y57OOF5DxhfdZn1iteMTZHvummm0zYJPtcWd/pa2z3oRv7SaEq4eWlZwtQqPLs0DlfcYUq7z703TgRaZ3UnrxkA8mGKjwYiFHg6UECnZwbcmu+/vWvy+zZs22FgrHYxwOFwhyS53inXn/9dSNUgcQ6KnczZ848LlTBZrZ4tEK9KX2NC9fgeOr4yCOPmFwtvC/XX3+98bht2rQprvL6uhbfuRGqaD+hlXgWb7/9dqHNVjsAY0D2vffeM6GFgDPeSP6zefL48ePlqquuMhsGk9tGGCZjhpeLvrXK0VfvPB8VqpxfnzpVA4Uqp3reB9dVqPLOQ14nZB0rtYHk2kCyoYqwL8CEMDA8PCgBsugeMWKEES1gI914x5DFOUIILNrvv/9+E+qG1ws1OqCKhTvXOXTokAE5vCx4m+LZtBagoJ4INABVeMQAB2TB+QyIi6e8aG10I1QBQowP0AoQB0uhk7fGf/KtCDUkx4o2kJ/Fhs949ZChR5gE4RDeA1rIrZO/Fa0/9Pvk3tfJ6E+FKh8scG02QaHKZsfpaZpTlYyHr5bhvglRx0THJBYbSCZUATdACFCD5DkLasvLdODAASNi8M4775jPY6kbYWUIXPTr189Ieb/99ttm0Q+4hdv8FwhiTyU8JWyAi3fFUqqLdj08LpTPOYS9EUJI3fkcICRnixC4aOXE+r0boQrv3rhx4+S8884zIiPBoh+EbyJyQVgkwAo0oYyICAkbBaMmiIfy8ccfNwIXbC48ZMgQI2TBuMTaL3qce55bClWZu0JWqMrcsU+45eqpcs9DXCdUHQu1gfTaQDKhCohCQIJ9ktiINzi3CW8TuTZAC3tXBX8XbsxRnCN0EDhjQc9in41nKYfjw0GVVQ71IO8KjwkwhAS7tRGudUzwK2F+iFPgkeI6hYWFJ0AA5QFBd911lwHCYNgILiee926EKstThaBF8D5XtGvRokUGnuhXJNfxCnLc2LFjzVhbbceegCz+U0YyxEmssvU1vc8GhaqEl5eeLUChyrND53zFFarS+6DWiVH7W23APTaQLKgCktiAF2lvPBShm/zi9SFED8hB7CA4XyfYHgjDQ6Z7xowZ8uijjxrFORbvgE/wcX1BFcfhzQIEEFcgZJDySkpKTKhgcDl4UYC15557ThBoIOwv+HvrPWAGEOIFA/jwylnf2Xl1I1TZaYee4557OdljoVDl/PrUqRooVDnV8z64rkKVfyeFZE8yWp7ait9sIFlQBSSRi4QCHAAEHIXrK6S5OY4wMTwjlogBr4AK8uBsvkteD5BD/cKVEw2qOAdgKi8vN9cix+utt946Ho5mXRf4YmNb9qQiV4jrh7sekEiu2CmnnCLLly//FOSFO6evzxSq9FnSl3244TuFKh8scG02QaHKZsfpaZpT5YaHt9ZBFxhqA87YQLKg6qWXXjKwBHgAVBa0hI4rogWEhqGqR14OOUscw/HsP4UX68orrzT5S+wPZX0fWk4sUEWZgBWCC4AaeT6ILQRPNbjiAAAgAElEQVTvZ5WTk2M8Ysiy4yGL5IGiTWyqi/rgPffcI2wQHFqneP5WqHLG3uMZo0w/VqEqc1fIClWZO/YJt1w9VTq5Zfrkqe3P3HsgUahCTAIFPvKXyKeKRSEPMYnBgwcboQPeFxcXC5vW/uY3vzFgRi4Vn1n5U+HsMxaoCj6P0D/KBWbI+SJ3Cqn3V1991YQHkjcVLVeKEEfk2hFo4HzKDL5GPO8VqjL3novHTpw8VqEq4eWlZwtQqPLs0DlfcYUqndycnLj02mp/TtpAIlAF9AAjN998s5EcZ8PfWNqCeAHCEJdccomBHLxTQNlvf/tbITwwFgnueKGKegFF5Ey9/PLLcuuttxpvGXlSAFIs9eYY6o76Hfle5GkBlbGeG3ycQpXe98H24Mb3ClXOr0+dqoFClVM974PrKlTp5ObGCU3rpHaZDhtIBKpQ1GMz2PPPP1/mzJkTEwxZbUJindyq0047TU499VTzHtCyvo/2ageqKJPwPsL82Mj2n/7pn4xEOCGLAFekPLDgunAM3jjCAAkZJCQw+PtY3ytU6f0dq604dZxClQ8WuDaboFBls+P0NM2pcuqBrdfVRYXagPM2YBeqyFUiFO7iiy+W4cOHC5vxxjKeQAkeLvY1+vWvfy3f/va35fbbbzfiD7Gcbx1jF6q4PucSasgeS2eeeabJtUImvKGhIWJOlXVd63XSpEly7733GrAKFtywvo/2qlDlvO1HG6NM/16hKnNXyApVmTv2CbdcPVU6uWX65Kntz9x7wC5UIfbwxz/+0Xh62LMIyIrFjhCNQCKd8Dv2fWLfo8suu8zkWMVyvnWMXag6duyYCdu76KKLzP5VgOGbb75pVP3YmDh0jyrreqGvKBwOHDhQrrrqqhMEN0KPi/S3QlXm3nORbMJtnytUJby89GwBClWeHTrnK65QpZOb2yYzrY/aZLpswA5UEf7Wr18/AxRz5841+09Fqy/QRc4VIXN4ePr372/ym0pLS+XFF180e0CxOXC0cqzv7UAVHiVgEKEKgJAQRPK3EMsAkNjTinwrQMu6Tl+veLd+97vfmfIIKezr2NDvFKr0Hg+1Cbf9rVDl/PrUqRooVDnV8z64rkKVTm5um8y0PmqT6bIBO1AFSJEPRQgdnp9IMuRWGwAgNuLleDbiHTFihAn/s75fvXq1+Q6pcsIIY/F62YGqffv2mVBF8qkAJzYjpg6ITaA2+MEHH8hTTz0lyMOz2S97U/WVZ0UdUBQkpwzJ9njUABWq9B637N+trwpVPljg2myCQpXNjtPTNKfKrQ90rZcuOtQGUm8D8UAVgIE4BSp9eJzYZ6qvMQKO8OAsWbJEnnzySfnlL39pwCUUPtiLavz48SYkcOzYsSa3qa9y+S5eqCJfauLEiQbqkH7n73DXAKZQIiQ0EXW/aNLuhAsCSMisI9Eei3Ih11WoSr1thxtf/Sz2fleoytwVskJV5o59wi1XT1XsD1mdkLSv1Ab8ZQOxQhUb6QI/QM8dd9whH374YVgowT6sTXcBMDw4bPR75513mjA7JMnD2RAeKvKrTjnlFCkoKIjJ+3XyySebPbLClWd9Rl34jzcM79rdd99t9qPiM+uY0FdCBJF5//rXv248W+SMRdrDCnAEEhHsYM8rBDhCywv3t0KVv+6jcGPs9c8UqhJeXnq2AIUqzw6d8xVXqNLJzeuTn9ZfbdiuDcQKVSj27d+/X370ox+ZfKiDBw9GhAdAY9u2bSZP6qabbpKhQ4dKZWWlCbOLFE7HOcAMwg/kWHGtvtoUq6fKArynn37aQBXeJAu0IpVPW/FQ4bVC0OLhhx8W+inc8ZQFKBIGeM0115i2hjsu9DOFKr1nQ23CbX8rVDm/PnWqBgpVTvW8D66rUKWTm9smM62P2mS6bCBWqDpy5IjxxOBx4hy8VuHqiLrf9OnTjUw5G+ROmzZNODfcsaGf1dbWSk5OjpE6pwz+Dj3G+jtWqAKQpkyZYsCIPbXIAbPK6OsVyONYIAyvFblggwYNEtoXmkMGKNbU1AjgxmbCwFhfZfOdQpXe49FsxOnvFap8sMC12QSFKpsdp6dpTpXTD269vi4u1Aacs4FYoIq8KECBvKGsrCwDFqFjBlggBEFu1AMPPCBPPPGEASQ8VKHHRvqbMgApPFUACrlYkY6NBaoAP8Lxbr75Znn77bdN/SKVF+5zvFBA2cqVKw0EkWf1yiuvmDLD5U6RY4YYBzlZ0QQ3FKqcs/lwY62ffXo8FKoyd4WsUJW5Y59wy9VT9emHqU4w2idqA5lhA9GgCq/M0qVL5dlnnzX5SMipB9sG4IGKHkA1cuRI49EBiHbu3BmzaENweVYY4G233WbCDEOvZx0bC1Qh1z5kyJDje0lFyouyyuzrFTl49rP62c9+JgMGDJANGzYYsYzgcyzBDerOXlzsZRX8ffB7harMuL+Cx9xr7xWqEl5eerYAhSrPDp3zFVeo0snNa5Od1ldtNlk2EA2qCGt77bXX5NJLLxX2ZQoWmsCzhMcGwEAO/YYbbjBglYy6sREvXh/2rgLsgLfgcqNBFQC1du1aOeusswzglJeXn3B+cFmxvm9qapL169fLmWeeaYQ3Fi5caNpP3az64aEaN26cnHbaaULeWWiooHUthSq9hy1bcOurQpXz61OnaqBQ5VTP++C6ClU6ubl1UtN6qW2m2gaiQdX7778vjz/+uNkcF6Cy4IF64UVib6f//M//NDlLhOtFkiqPtx1A0PPPP29U9RCtYC+p4DKiQRVqf2zMe99990UNxQsut6/3QCTeKOqDN479rggHpM18x7l42rZs2WI2BO5LcEOhSu/tvmzNDd8pVPlggWuzCQpVNjtOT9OcKjc8vLUOusBQG3DGBiJBFXBAyBv5UW+88YbxugSPEep+hMFdd9118oc//MF4hQCd4GMSec/1s7OzDdA999xznxKY6Auq8Bb98Y9/lBtvvFHWrFlzgnctkTpxLlCJF2zPnj0ybNgwIy+PeMfWrVuPbyYci+CGQpUz9p7o+GfS+QpVmbtCVqjK3LFPuOXqqdLJLZMmSm2r2nuwDYSDKsCBULeXXnrJyJCjyIcnhv/ADGFvgBTheaNGjZL8/PyIaoDB14r3PQIZbMB7+eWXGxU+QhGtMvqCKvbQYk8q6kh4ouVFss5N1uuBAwfMfl0IU/AfpUP2rOJ60QQ3FKr0PkyWHaaqHIWqhJeXni1AocqzQ+d8xRWqdHJL1aSk5aptud0GwkEVIILn5YorrjAb8uL5IfyOkLw5c+bIY489ZqCF0D/U8YJDApPdXoCNfaJQE6ROeLC4RjioAmaAGmCP0D/2vUp2fULLAz7JNbvsssvk3nvvlalTpx4PN+T6iFb069dPAMTgcxWq9NkQbA9ufK9Q5fz61KkaKFQ51fM+uK5ClU5ubpzQtE5ql+mwgVCoQlghLy/PQBO5VEiSAzJshjt27FiTPwVUIU6RjvqRx7V37145/fTTzfUtNcBQqLK8ayj0AWHAXzrqxzXoM/Ks2JeLDYAJl0T5jzBBpNypz7vvvnuC4IZCld7f6bJPu9dRqPLBAtdmExSqbHacnqY5VXYfuHqeLgrUBrxvA6FQFaxeh9Idcum8ktf04x//2Kj7ARDBKoCptAMLlgYPHmwUBgmx43qhUAXEIE7xwx/+0MBXPPtjJVp/6ognj42BqR8bBZNrRj4XnraXX37Z7PEVLLihUOX9eydRu3H7+QpVmbtCVqjK3LFPuOXqqdLJze2Tm9ZPbTRVNhAKVWzySxgbi/5Dhw7JRx99JE8++aQJv5s5c6YJbSPkL1X1CVcunqDCwkLj8UFtjz2xQqEKeHnwwQeNsAVhgonsSRWuDrF+VlFRIYsWLTL9RUjg8OHDjcT6M888Y6DQ8rQpVOk9HatNOXWcQlXCy0vPFqBQ5dmhc77iClU6uTk1ael11factoFgqCLUjz2p7rrrLgGgBg4caOCAcLbc3FzjtUqV6EMs/UCdgBOU/YCs73znO5KVlWXeT5o0yYTeIesOcMVSXqqOQWJ91apVpq4A6gsvvCDIq1944YUyf/58QXBDoUrv/VTZX7LKVahyfn3qVA0UqpzqeR9cV6FKJ7dkTUJajtqS12wAqPqbv/kb2b17twwaNEjuvvtuI0Tx1ltvyVVXXWUW/3h+3NAuYKl///5mDyhg6hvf+IYRhgC2yFsizC5YIdDJOlveNQtSAVWEP/Cmbdy40UDWBRdc4Ip+dbKf9NrufWYqVPlggWuzCQpVNjtOT9OcKp3U3Dup6djo2KTaBoCqL37xiwZOLr30UrPZLmD1/e9/X8aPH28U/1Jdh3jKxxOFgAYy61/4whcMZCGffskllxxX3YunvHQcC/T94he/kNNOO01OOukkQUwDD5ZCld7f6bA/u9dQqMrcFbJCVeaOfcItV0+VTmx2Jx09T23H6zYAVP3VX/2VgalzzjlHzj33XLnvvvuM6ANeH0vC3C3tbG1tFcDqe9/7nqn32WefbZQKJ06caOqaSnl3u32A2MeOHTvMvl//+I//KD/4wQ/kW9/6lkLVn/T5Ydem0nGeQlXCy0vPFqBQ5dmhc77iClU6saVjgtJrqJ250QaAqs9+9rPCYh/vDyp727dvN5v/Opk/1VdfIe9Ontff/d3fGan1YcOGuc6jFlp/YBD1v3HjxhkVRTxW6qnSZ0Konbjpb4Uq59enTtVAocqpnvfBdRWqdGJz00SmdVF7TJUN9HR3SU9bo3TXH5Xu6sPSXVEgq+ZMlq9+5ctywY//W4a99qzkb1gi3Q0V0tPWJD093a7I+cH71NPeLN2NldJ9rFBaCnfJjiWz5D9OPUVuueZSWTJ9Qm976sulp7VBerp6NwhOVT/GW25PoEN6Wuqkq6ZEKvZukBGvPSPn/fD/k4vPO1tqD2yTwNEC6a4plp6mY9LT0eqKPo+3jXq8/55bClU+WODabIJClc2O09M0p0onQ/9NhjqmOqbBNtATaDewYWCqbJ8EClZL54550rlpmuycMkBuufhHMvLZu+RQ9mjp3DVfAgfWSvfRfOluqOyFq65ORxb6PV2d5vrdjdUGAAMH10vnrgXSuXmG1K94Xx67/iKZ8PL9cnDuCOncPlcC+1dId9le6a4r64WrQHql30/oc0Cwo9XAFMDUVbJLAnnLpXNbllQtHS9jXrhHnrnlMildMEbaNk2Xzj2LpOvIZumuOvRnuGoRIDi4TH2v93U6bUChKnNXyApVmTv2CbdcPVU6UaVzotJrqb2lwwaMd4eFfVdAumuKJFCwxizoOzdOkY5V70n74qHStuAtaZv/prRlvyFt8/tL28K3pH3xMOlYNc4AFwDQVbhVehqrTDlWmamsv3WNnu6A8ZhxfYCpc9PH0rF6grQvGSFtC9/urS/1znnTtKN90WBpXz5aOjdOlc6ts6TrwFrpwfvTFTAeN8pNZb2tsnvr3y09ne29ILhvqXRumSmd6ydL+4p3pT13sLQtGChtOf3+3O8DTHvalw6XjjUTDTACvMBhT2u9Aat01d1qg77qMwobUKhKeHnp2QIUqjw7dM5XXKFKJxBdRKgN+M0GTKhfa6N0Hd4ogZ3zpWPtB70gNX+AtOX0l7bsPy/qAZPg/yz2+X7BQGlfMkw6NkyRAF6U4p3S09GS8pBAAyUdrdJVslsCe3KlY+PH0r5keC+IAH5AVHB9j7+n3m9K2/wB0r5oiGlv584c6Tq4Qbpb6gRIS8cY9wQ6e2Ewf5WBQQC2LXeQqVdv3cP1O3Xv92ewfVval440cBXIW9bruepsS0vd09E/eg3vPGsVqpxfnzpVA4Uqp3reB9dVqPLOQ14nZB0rtYHoNtDT2SbddeW93qlN06R92ahe705EIAkBKwtUOD73HeNh6dwyQ7oObZSexmohLC8V42C8Ss01JgwOL1n7yrG9QGKn3gv/DCcbPpJA/irprikR+iUV9bbK7Glvke6KAxLYt0w68EwtGdYLg5EA1urn0FfgcdFg6Vg9XgwYArTkinW7I8fNaq++Rr8XvdxHClU+WODabIJClc2O09M0p8rLD32tu78ndR3f+MfXhPvVlhig6l3YD/8kVC508R7r3wsGSPvSESYED7DqRlAhyfk+xrPWXNsLVJunm1A+EyYXax3DHZfzphAW2LHuw16wqi1NCRAa7xoeKoBqzyLpWDvRQFFEb2C4uob7bOFb0rFyrAnbNJ7C9mYFK5VhT+kPA8HPXIWqzF0hK1Rl7tgn3HL1VMW/cAt+8Op77T+1AffYQDeenkMbpXPDFANCkcPlIninwi3u+YywuuWjesGqdLdREUzmuKNK2FWeJ52bpkv7ijF/9vDEWcewde8nJl9p/WTTLwBhMutNWagkIuphPFRrJ/aGWYati4325L4jHSvHGbDqrjqccm9bsvtGy3PPsyHesVCoSnh56dkCFKo8O3TOV1yhyrsP/XgnCT1ex9qvNmC8Jd1d0lW0Qzrx9CwdGSH3yMbC/jggACgjpHPrbOOVSZbkuoGSyoMS2DHPhBomDQSP1/sNAzqIWHQd3mS8PckSf+j1UrVLV8EaE/JH2F74nK8E+n3+AOlYMUYCO3OMHH6y+t2v94K2KznPeYUq59enTtVAocqpnvfBdRWqkvMA1olM+1FtwDkbIHzOqPztW9qbixRvHlIQgPQJBTlvmlwfo67XUJkUrw/7YgUOruuFkpTVu58JKQzsWiA9tSVJ28sK2fTuygLp3JFtPGIJh/xFGgfAav2H0lW8w6gC6r3m3L2WKX2vUOWDBa7NJihU2ew4PU1zqjJlgtB26iLEzzZALlXXoQ29YILaXKTFeRI+b188xHjDWOAno0+7SncbtTuj8peE+kVsO6F0ayYar1KyRCvY1Dewb6mRqU84B6zPtveGMRq59eojSen3ZIydluHf56pCVeaukBWqMnfsE265eqr8OynohK9jmwk2YIk8BHbnSvuykX3IjicQgha84J/f3+T5kEPU09ZkW2bdhM61N5s9pTpWjU9cUCO4juHeI1yxZJh0bptzfO+tROyjJ9AhbOzLvlhGNj1elb9wdezrM7xVaz8wIZ54yBKpu56rz8ZoNqBQlfDy0rMFKFR5duicr7hClU4u0SYX/V5txM02YCTUKw+aXCfU7iJ6avpasMf5HeIPbMrbfazIdigdEuHdtaXSC4Oj0lJvNg5m763u8v2CBHoi44qXqqtkl9nYFyGPtPT7inclsH+lya1KpO56rj7TotmAQpXz61OnaqBQ5VTP++C6ClU6uUSbXPR7tRE320BPW4MEDq03uU6pDUEL8nTlDjJS5V1HNktPZ7stOGFD3q6SndKxceqfPT1B5ccJeTEDDd6elWMlkL9SepprbNXbsoXuulJhg16zD1iqcsFC+qF98dBeifWyvQnV3WqDvuqzLZINKFT5YIFrswkKVTY7Tk/TnKpID1T9XCdbtQFv2EBPc6107l74Zwn1/mnxmLTNH2iU+gJ7F4vdUDQ2EQ4UrO7NR5o/MD31JgQQMMHL1lCREJh0Vx0ygNNuctj6paf+eNrWTTLy8Hp/euP+9Oo4KVRl7gpZoSpzxz7hlqunSicmr056Wm+1XWygp+mYdG6f07vhbE6aFvfAydIRYtT0OuyF0RmoQq1w+ejU54Ed9/j0k7bcd6Rzy6yEQ+i6j+ZL56ZpSdxTKwZPHflsqyeYPDS9//X+T6UNKFQlvLz0bAEKVZ4dOucrrlClE1MqJyYtW+0r1TbQ01htIIF8oZjD4I5DRgwL+bDH9jMeH/ZOspub1BPolMCeRamVIg9X9wUDjHphd115Yp6q8v3SueEjaUsXyNKWnH7SsWqcUTBMtV1p+Zn97FKocn596lQNFKqc6nkfXFehKrMnDl046Ph73QZ6oWqmtC14K41QxYa6Q8yGtAlD1ZJhaa132/z+SYKqPOlc/1F66579hskJY7Nhr9ut1t/dz16FKh8scG02QaHKZsfpaZpTpRObuyc2HR8dn2g20NNUbZT/2haxP1U6w/+GJx7+t3dxemTgj3us+knbwrekc8vMJIT/7ZdORDbSpPxnvJDzP9l8OZpd6Pf67EjEBhSqMneFrFCVuWOfcMvVU6UTTyITj56r9uO0DfQ01UjnjmxpXzwsfblJ8weYXKiEhSr2r5D2FWPTBybkgi0anByhiooDBs56wy7TBLMLBvbuVXVoo3qq/qTPnlQ+exSqEl5eerYAhSrPDp3zFVeo0okplROTlq32lWob6Gmtl0DBKhMW1rYgPfslmf2e1k6UwMH1wj5ZdtrY0xWQrsIt0rH+Q0lbPtj8/r0wuG+pdDcds1Vvq61m4989ub05YWnKqzJAuGWG2R/Lqoe+6jMmFTagUOX8+tSpGihUOdXzPriuQpVOSKmYkLRMtat02UBPR4t0le3rDUXLfSctOT7tS4abkMPuigJBxc9OW3u6u6S76rB0bp8n7enKq1r4ttmst6t4p/S0Ndqqt9VWVBfZpws1PvK00iES0rFijAQAwpqihOputUFf9TkVyQYUqnywwLXZBIUqmx2np2lOVaQHqn6uk63agDdsAKjpaaiQACGABk5SHIqGAt2KdyWwd4mwRxZwZMdWenq6paelTrr2rzDlpV5FD8XCIRLYliXdtaXSE+iwVW+rrezP1V15sFdWfWEaREJy3pSONROl68gW6WltSKjuVhv01Rv3uBPjpFCVuStkharMHfuEW66eKp1UnJiw9Jpqd8m0AbPnU94yI7fdtiDFG+myAe3aSdJ1cH1SFvZAAhvasn9USr09C/68YfHuXMG7l4z+x1sV2DFP2peOTLm3yoT+bfxY2B8rGXXXMvQZ1JcNKFQlvLz0bAEKVZ4dOucrrlClE0tfE4t+p/bhBRvoDaU7ZCTO25eNSCmcdKwc2xuCVn04KYv7ntpS6cpbLh2r30tpvemXwPY50lW+L2EvlWUTwFl32V4JbJ4h7UZ90e6+X1HOy+knnWsnmk1/uxsqk9LvVhv0VZ9x4WxAocr59alTNVCocqrnfXBdhSqdUMJNKPqZ2oWXbKCnp8d4X7oObZTOdR+mbIFP+Fznpo+lq3S3EP6WjD5C6AIw6dwyw2wonJIwwNx3jDcsULBaetqb/v/27ja2qirf47hKQjRSjblRIKOg8ZVGjMbEGSWOXlATE4Piq6u5MY7G6LxBfeFDjCZ6Be9IZi7ewRQKQxTvtXADBWUoDMw4paDSS+8ACrRWSgv0Aab0iT6dnlPN/+a/SilPh2nPXuesvfb6kpwUTs/Ze63P+nP2+mWfvbboVw+ttD2TFl0oJL1vqwxULDPLtVs/26aLa2z9vaSq10rmeL21QGij/2wjuZ+ThKoETHBz7AKhKkc43sY1VRwUk3tQZGzDG9vMicMyqF8DrFwhfZt/Z+++VboU+Z8WmeW8dcW/TNcxK6FkpEb1Bsbpg1UyoIFQrwuzufDD5t+axSQG9/1ZMn8/ZLXd2n5zllCvrdq9YXgFRptfY9SvLP55sVmEJN34t8iLa4x48zO8z4bxjjmhKtwZMqEq3LGP3HPOVHFwGe/BhtdTM3GtAV18IdPyvQzuLR8OVuULowerU/d20uuedHGKTPvRnFf8y+am14Tp19o0+Ax89alZUKJvw4KIXwecL30bP5CBbctlcPcfjcvQYL/9UKVnCVN9oisKpqrLhoOVjRsC6xkqE6hKZbBmm2R62nNeFCSbO8/zWZatBghVkaeX3m6AUOXt0LlvOKGKg0q2gwrPUxs+1sBQf49ZqlxXA9RAMbwARI4rAm4YXjFvQO9JtXfTqVXz7AcTdR4aTEmmo9kENw1w+lXD3L8KON98FW+gomT4Rr+69Hu/ncUpstWErsinZ5NSu9YOr2ZoglUEd/3K3zefmUClC2LkuspitvbyPJ9vF6sBQpX7+amrFhCqXMknYL+EKg4sFzuw8Dvqw7caMEuVp/ol09FivgqYqlolen8jPWszrut9dJW/imXmWqfBmgpzs1yzfPvQkPWzPWpsrgtLD0rmZJukf/haBnetGb4HVLmuCjiOcKJnp74sNoEktbd8OAim+qxdR5WtHoYyGRnqPzkcaPdslNTX/22uheobz1mrU2cFdVEKvYZKQ9rIGSr1ybZvnudzynYNEKoSMMHNsQuEqhzheBvXVNn+IGZ7HNypAfc1MBxQUqJnODJN+2Tw283ma3UDFculf+t/Sp8GFZ3sj3zFTn/+8TfSv+m35itnA5V/kNTX/yWD+/8imZYaE3SG0oMm+ORzfE27M4Pm/lWZ1u8lXVtpwoneYFe/CqftM0vGj7Rbw5b2o3yhuRZLQ6B+fVDPqqUP7zbXfulXIm0tTPGP+m6ClQa4zhbJNO42y63rWTddMVGvSdN2muvFNpwKidoPvW5q8+9MENQzgqmdq4ZX+dNFKfq6OEP1o/v/T/9o3JP4e0JVuDNkQlW4Yx+555yp4oCVxAMifaKuR2pAV7vTBSzSR74195YyCyp885m55sqEkL8uNWek9MayqW9KzfVH6YM7Jd20XzLtTdbu6TTSnrH+HEr1ylBnq2mHtmfw202SqlptFss4u90rTJBKVa8zYUT7mWlrNKvyjXVftl9nzhb2dpjV+vRsU7pmm6T+b91wsN32B3M/MQ1aGnJNkKpabb72mD60SzIttZLpamWVP8KU0zOThKrI00tvN0Co8nbo3DecUMXk0/aEiu1RU3GsAfPVve7jktYzQA3VJmDpmaB07TZJ124f/ndD9fCCDidPxOYMiQkoPe2nAspu89VA017T7kpJ1+2QdH2VpI/uk6HOY7ELI7r0vF4rlm7eP9zO73eYM3DG/vtT7o27JfP3BtHrsuJYO7QpvM80QpX7+amrFhCqXMknYL+EqvAOFkwQGHNqgBqgBqgBaiB7DRCqEjDBzbELhKoc4Xgb11RxUMl+UMEGG2qAGqAGqIEQa4BQFe4MmVAV7thH7jlnqjhghnjApM/UPTVADUDlVrAAABJsSURBVFAD1EC2GiBURZ5eersBQpW3Q+e+4YQqDirZDio8T21QA9QANUANhFgDhCr381NXLSBUuZJPwH4JVRwwQzxg0mfqnhqgBqgBaiBbDRCqEjDBzbELhKoc4Xgb11Rl+0DleQ621AA1QA1QA9RAmDVAqAp3hkyoCnfsI/ecM1VhHjCYKDDu1AA1QA1QA9TAhWuAUBV5euntBghV3g6d+4YTqi78gcqBBhdqgBqgBqgBaiDMGiBUuZ+fumoBocqVfAL2S6gK84DBRIFxpwaoAWqAGqAGLlwDhKoETHBz7AKhKkc43sY1VRxQLnxAwQUXaiC+NTA0NCT9/f2STqeFcYrvODE2/o4NoSrcGTKhKtyxj9xzzlT5+6HPAZuxowbCqwENVIODg1JTUyMdHR2i/6YOwqsDxjy/Y06oijy99HYDhCpvh859wwlV+f1g5sCHLzVADdisAQ1UR48elTlz5siaNWuks7OTUPUjNWazxtjWj0Kocj8/ddUCQpUr+QTsl1DFwZgDKDVADfhTAy0tLVJcXCzXX3+9zJs3T6qrqwlVhCpqwHINEKoSMMHNsQuEqhzheBvXVDGZ9GcyyVgxVqHXgJ6lqqqqklmzZsnll18ud9xxh5SUlEh3dzeTasuT6tBrLfT+E6rCnSETqsId+8g950wVE9XQD570n/8DvtRAa2urfPzxx3LllVfKpZdeaoLViy++KN999x2hilBFDVisAUJV5OmltxsgVHk7dO4bTqhiQunLhJJ2Uqsh14AuSLFlyxZ58skn5ZJLLjn9mDlzpixZskQymQyLVlicVIdca/Sda6rcz07dtYBQ5c7e+z0TqpiocgClBqiB+NdAT0+PLFiwQK677rrTgUrD1VVXXWUWrdDFK/TrgYxl/MeSMYr/GHGmyvvpbc4dIFTlTMcbCVXx/3DnAMwYUQPUwJdffilPPPGETJgw4axQddlll8mtt94qK1eulK6uLkIVZ6uoAQs1QKgKd35MqAp37CP3nFDFZI0JOzVADcS3BkZu9Pv222/LzTfffFagGvka4DXXXCNz586V2tpaSaVSTKotTKr5PxHf/xOFGBtCVeTppbcbIFR5O3TuG06oCvvAUYiDE/ugxqiB3GsgnU7LgQMH5JFHHpGJEydeMFTp2avJkyfLunXrpK2tjVBFqKIGItYAocr9/NRVCwhVruQTsF9CVe6THSaK2FED1EC+a6Cvr08WL14sd911lxQVFZnHpEmTzOp/V1xxxennrr32Wnn11VelpqaGCXXECXW+x5Ttx/9zg1CVgAlujl0gVOUIx9u4TxUHt/gf3BgjxijkGtBV/Y4cOSK7du2SyspK8ygvL5cpU6bI/PnzTz+3fft22bNnj3R2dhKqCFXUQMQaIFSFO0MmVIU79pF7zpkqJqwhT1jpO/Uf9xrQa6r0Oqne3l7RFQD10dTUJNOmTZPS0tLTz438jhUAqem417QP7SNURZ5eersBQpW3Q+e+4YQqDsA+HOBoI3VKDYzWQHt7u0yfPl3Kyso4IxHxjAR1NVpXWIxaEKrcz09dtYBQ5Uo+AfslVI1+iHJAwYIaoAZ8qAFCFXXqQ5363EZCVQImuDl2gVCVIxxv45oqnz/0aTsTK2ogzBogVIU57vx/L9y4E6rCnSETqsId+8g950xV4T6kOSBiTQ1QAzZqgFBFHdmoI7aRvY4IVZGnl95ugFDl7dC5bzihKvuHKgccbKgBaiCONUCooi7jWJdJahOhyv381FULCFWu5BOwX0IVB+ckHQjpC/UcQg0QqqjzEOrcZR8JVQmY4ObYBUJVjnC8bfiaql889ZFs3l4jzce75GTPAA8MqAFqgBqIcQ0caWo1S6p/Vvo/jFOMx4njqb/ziZr6Y/LW7/8kz729hqliYAKEqsAG3GZ39UzVz/9lsaz8vFoq/vegfL27gQcG1AA1QA3EuAa2VO6VKVN/Jr/5jxLGKcbjxPHU3/nE5h218vK/f0Gosjnh9GRbhCpPBiqOzdRQdccTi+SXTy+RWb8qkdnP8sCAGqAGqIE418Av//VDuXzSP8nts3/NZzbHLGogDzXwz79aKj9/cjGhKo4T1zy3iVCVZ+Akb77z5ID8taqeBwbUADVADXhSAxv+slsmT/2Z/NvCJYyZJ2PGcdbPecbumuYkTwHp2wUECFUXQOEpBBBAAAEEkijQ1dUl06dPl/Xr1yexe/QJAQQQcCZAqHJGz44RQAABBBAorAChqrDe7A0BBMIRIFSFM9b0FAEEEEAgcAFCVeAFQPcRQCBvAoSqvNGyYQQQQAABBOIlQKiK13jQGgQQSI4AoSo5Y0lPEEAAAQQQuKgAoeqiPPwSAQQQyFmAUJUzHW9EAAEEEEDALwFClV/jRWsRQMAfAUKVP2NFSxFAAAEEEIgkQKiKxMebEUAAgawChKqsNPwCAQQQQACBZAkQqpI1nvQGAQTiI0Cois9Y0BIEEEAAAQTyKkCoyisvG0cAgYAFCFUBDz5dRwABBBAIS4BQFdZ401sEECicAKGqcNbsCQEEEEAAAacChCqn/OwcAQQSLECoSvDg0jUEEEAAAQTOFCBUnanB3xFAAAF7AoQqe5ZsCQEEEEAAgVgLEKpiPTw0DgEEPBYgVHk8eDQdAQQQQACB8QgQqsajxWsRQACBsQsQqsZuxSsRQAABBBDwWoBQ5fXw0XgEEIixAKEqxoND0xBAAAEEELApQKiyqcm2EEAAgVEBQtWoBX9DAAEEEEAg0QKEqkQPL51DAAGHAoQqh/jsGgEEEEAAgUIKEKoKqc2+EEAgJAFCVUijTV8RQAABBIIWIFQFPfx0HgEE8ihAqMojLptGAAEEEEAgTgKEqjiNBm1BAIEkCRCqkjSa9AUBBBBAAIGLCBCqLoLDrxBAAIEIAoSqCHi8FQEEEEAAAZ8ECFU+jRZtRQABnwQIVT6NFm1FAAEEEEAgggChKgIeb0UAAQQuIkCouggOv0IAAQQQQCBJAoSqJI0mfUEAgTgJEKriNBq0BQEEEEAAgTwKEKryiMumEUAgaAFCVdDDT+cRQAABBEISIFSFNNr0FQEECilAqCqkNvtCAAEEEEDAoQChyiE+u0YAgUQLEKoSPbx0DgEEEEAAgVEBQtWoBX9DAAEEbAoQqmxqsi0EEEAAAQRiLECoivHg0DQEEPBagFDl9fDReAQQQAABBMYuQKgauxWvRAABBMYjQKgajxavRQABBBBAwGMBQpXHg0fTEUAg1gKEqlgPD41DAAEEEEDAngChyp4lW0IAAQTOFCBUnanB3xFAAAEEEEiwAKEqwYNL1xBAwKkAocopPztHAAEEEECgcAKEqsJZsycEEAhLgFAV1njTWwQQQACBgAUIVQEPPl1HAIG8ChCq8srLxhFAAAEEEIiPAKEqPmNBSxBAIFkChKpkjSe9QQABBBBAIKtAd3e3zJgxQzZu3Jj1NfwCAQQQQGD8AoSq8ZvxDgQQQAABBLwU6O3tlWeffVZ27tzpZftpNAIIIBBXAUJVXEeGdiGAAAIIIGBZ4KeffpK2tjZJpVKWt8zmEEAAgbAFCFVhjz+9RwABBBBAAAEEEEAAgYgChKqIgLwdAQQQQAABBBBAAAEEwhYgVIU9/vQeAQQQQAABBBBAAAEEIgoQqiIC8nYEEEAAAQQQQAABBBAIW4BQFfb403sEEEAAAQQQQAABBBCIKECoigjI2xFAAAEEELAtcPLkSWlubg7mof3lDwIIIOCzAKHK59Gj7QgggAACiRRob2+X+vp6aWlpSfxD+6n95Q8CCCDgswChyufRo+0IIIAAAokU0JDR2NgoPT09iX8cPnyYUJXIKqZTCIQlQKgKa7zpLQIIIICABwKEKg8GiSYigAACZwgQqs7A4K8IIIAAAgjEQYBQFYdRoA0IIIDA2AUIVWO34pUIIIAAAggURMBlqOrs7DTXcz399NOyevVqOXr0aF6/gsjX/wpSUuwEAQTyLECoyjMwm0cAAQQQQGC8Ai5DVVNTk6xdu1YmT54sxcXF0traSqga7wDyegQQCE6AUBXckNNhBBBAAIG4C7gKVQ0NDbJhwwZ5/vnnpaioSN566y0pLy+XyspKs7x7d3e39YDFmaq4VyPtQwCBsQgQqsaixGsQQAABBBAooICrULVq1Sp5+OGHZcKECTJx4kSZNGmSXH311XLvvfdKRUWFnDhxglBVwDpgVwgg4I8AocqfsaKlCCCAAAKBCLgKVcePH5cvvvhCbr/9dtFrqvTv+/btk7q6OhOo9Ca9tpd550xVIEVNNxFIuAChKuEDTPcQQAABBPwTcBWq9EzU559/LlOmTJEPPvhAampqrIeoc0MZocq/+qTFCCBwvgCh6nwTnkEAAQQQQMCpgKtQVV9fLx999JH52l9ZWZm5jurcEGT734Qqp6XGzhFAwJIAocoSJJtBAAEEEEDAloCrUFVVVSVvvvmm3HDDDbJr1y7p6OjgTJWtQWU7CCCQaAFCVaKHl84hgAACCPgoEDVU6Sp9uo3m5mbRJdL1Wim9/9TIWSb9nS6V3tLSYl43cq2UXkOlK/89+uijcvDgQROq9LVnvndkG7Z+cqbKxwqlzQggcK4AoepcEf6NAAIIIICAY4GooaqxsVE++eQTmTlzptx2223y8ssvy1dffXU6VJWWlsrcuXPlvvvuk5UrV8qxY8fM71asWCGzZ8+W+++/X3744QfZvHmzfPrpp7J169bT77UVpka2Q6hyXGzsHgEErAgQqqwwshEEEEAAAQTsCUQJVRqQtm/fLm+88YaUlJTIgw8+KA899JAsWrTInJXSQKXXTS1fvtys7nfgwIHTZ6K2bNkiL7zwgkybNk0ee+wxef3112X9+vWi968aCUG2fxKq7NUNW0IAAXcChCp39uwZAQQQQACBCwpECVVtbW2yf/9+WbdunRw5ckRee+01ufvuu82ZKQ1bGpTWrFkjhw4dOi8o6XObNm2Sd9991zxWr16d9xUACVUXLAGeRAABzwQIVZ4NGM1FAAEEEEi+QJRQde6ZpGXLlsk999wjN954o7z33nvy/vvvy969e88LVOe+r1D/JlQlv57pIQIhCBCqQhhl+ogAAggg4JWAzVClX+l7/PHHpaioSGbNmmWulSpUYBrLfghVXpUmjUUAgSwChKosMDyNAAIIIICAKwGboWrPnj3yzDPPyE033SQLFy4syL2nxhKmRl5DqHJVZewXAQRsChCqbGqyLQQQQAABBCwI2AxVuqLfAw88YELVvHnzREPMSKCJw09ClYWCYRMIIOBcgFDlfAhoAAIIIIAAAmcL2AhVem+pnTt3yoIFC2TOnDly5513miXU6+rqCFVnc/MvBBBAILIAoSoyIRtAAAEEEEDArkDUUKXvr62tlQ8//FCKi4vlnXfeMTf0nTp1qlRVVYnex0pv7qs/XZ+t4kyV3dphawgg4EaAUOXGnb0igAACCCCQVSDXUNXV1SXHjx83q/tpmHrllVdMiNqxY4e5AbAuVrF06VJzw1/9WVZWRqjKOgr8AgEEEBi7AKFq7Fa8EgEEEEAAgYII5BqqdFGKl156SWbMmCHPPfecVFZWit4MuLm52dyb6pZbbhE9W/XUU0+Zm/pqAONMVUGGlJ0ggEDCBQhVCR9guocAAggg4J9ArqGqpaVF9KzU2rVrzc/W1lbp7u4WPYPV0NAgGzduFL2hb0VFhfm360Cl++frf/7VJy1GAIHzBQhV55vwDAIIIIAAAk4Fcg1VcQhJ420DocppqbFzBBCwJECosgTJZhBAAAEEELAlQKiyJcl2EEAAgcIIEKoK48xeEEAAAQQQGLMAoWrMVLwQAQQQiIUAoSoWw0AjEEAAAQQQGBUgVI1a8DcEEEDABwFClQ+jRBsRQAABBIISIFQFNdx0FgEEEiBAqErAINIFBBBAAIFkCRCqkjWe9AYBBJIvQKhK/hjTQwQQQAABzwQIVZ4NGM1FAIHgBQhVwZcAAAgggAACcRPQUKX3ldJ7TCX9wZLqcas+2oMAArkIEKpyUeM9CCCAAAII5FFAQ1VdXZ3U19cn/qH91P7yBwEEEPBZgFDl8+jRdgQQQACBRAqk02np7e0N5qH95Q8CCCDgswChyufRo+0IIIAAAggggAACCCDgXIBQ5XwIaAACCCCAAAIIIIAAAgj4LECo8nn0aDsCCCCAAAIIIIAAAgg4FyBUOR8CGoAAAggggAACCCCAAAI+CxCqfB492o4AAggggAACCCCAAALOBQhVzoeABiCAAAIIIIAAAggggIDPAoQqn0ePtiOAAAIIIIAAAggggIBzgf8HOVkQ4b6tNdUAAAAASUVORK5CYII=)\n",
        "\n"
      ]
    },
    {
      "cell_type": "markdown",
      "metadata": {
        "id": "qALT0zGtNEcO"
      },
      "source": [
        "Por lo tanto, los pasos necesarios para actualizar nuestro estado oculto son los siguientes.\n",
        "\n",
        "\n",
        "\n",
        "1.   Realizar producto punto del embedding de entrada con la matriz de pesos de la representación de entrada a la celda (`example_embedding_sequence[t] * w_hx`).\n",
        "2.   Realizar producto punto entre el estado oculto anterior con la matriz de pesos recurrente (`hidden_state[t-1] * w_hh`).\n",
        "3. Sumar los resultados de los pasos 1. y 2. con el sesgo.\n",
        "4. Aplicar la función de activación.\n",
        "5. Actualizar el estado oculto con el resultado de 4.\n",
        "\n"
      ]
    },
    {
      "cell_type": "code",
      "execution_count": 42,
      "metadata": {
        "colab": {
          "base_uri": "https://localhost:8080/"
        },
        "id": "gcB5Me-LOKFt",
        "outputId": "d397114f-ca82-4465-a358-6d1d4103da71"
      },
      "outputs": [
        {
          "data": {
            "text/plain": [
              "<tf.Tensor: shape=(1, 128), dtype=float32, numpy=\n",
              "array([[-0.8552486 , -0.7961456 , -0.20396747, -0.80679864,  0.18866296,\n",
              "         0.51495415, -0.743697  , -0.4840354 ,  0.9026716 ,  0.27330565,\n",
              "         0.7254538 ,  0.5670957 ,  0.3326185 ,  0.4787982 ,  0.8373453 ,\n",
              "        -0.40010348, -0.6723164 ,  0.5155112 ,  0.77103686,  0.80865806,\n",
              "        -0.8535572 , -0.31128672, -0.00235045,  0.70631427,  0.5030878 ,\n",
              "         0.5074761 , -0.8767568 ,  0.5227961 , -0.85969913, -0.81688124,\n",
              "         0.14863856,  0.8034092 ,  0.741173  ,  0.15458941,  0.8886515 ,\n",
              "        -0.08185321, -0.14066389, -0.12502101,  0.3364317 , -0.80364496,\n",
              "        -0.4920684 , -0.15324561, -0.74883515,  0.86290556, -0.96840817,\n",
              "        -0.8981239 ,  0.4377463 ,  0.52725   ,  0.16602829, -0.16370733,\n",
              "         0.43537614, -0.5497064 ,  0.32157165, -0.31049913, -0.6890193 ,\n",
              "         0.480417  ,  0.33894712, -0.09039503, -0.9340706 ,  0.88184655,\n",
              "         0.98565257,  0.6486907 ,  0.8236577 , -0.8965587 ,  0.16168956,\n",
              "         0.403101  ,  0.55501217, -0.7738006 ,  0.6019385 , -0.42786163,\n",
              "         0.3973534 , -0.5313312 , -0.0915928 ,  0.65894276,  0.78710514,\n",
              "         0.27635145, -0.39201295, -0.20853648,  0.18550533,  0.01043169,\n",
              "         0.22297709,  0.09961639,  0.0644536 , -0.308919  ,  0.20053247,\n",
              "         0.3399701 , -0.07796907,  0.6711064 ,  0.43869972,  0.31191412,\n",
              "         0.4255863 ,  0.32902315,  0.8377253 , -0.76052815, -0.2077218 ,\n",
              "         0.8393866 ,  0.42188662, -0.8445473 , -0.44060916, -0.8357546 ,\n",
              "        -0.6811863 ,  0.5719211 ,  0.20913306, -0.6049365 ,  0.9078311 ,\n",
              "        -0.6319407 , -0.763525  ,  0.6762477 , -0.75443196, -0.1433612 ,\n",
              "        -0.12528463,  0.85180116,  0.06069658,  0.31131637, -0.6488057 ,\n",
              "        -0.48459706,  0.7753103 , -0.45808586, -0.1688582 , -0.9145725 ,\n",
              "         0.4089353 ,  0.1469164 ,  0.35990345,  0.30244836,  0.71621555,\n",
              "        -0.06795777,  0.10985559, -0.10099097]], dtype=float32)>"
            ]
          },
          "execution_count": 42,
          "metadata": {},
          "output_type": "execute_result"
        }
      ],
      "source": [
        "hidden_state = tf.zeros(128) # Inicializamos nuestro estado oculto con 0.\n",
        "hidden_states =  [] # Acá acumularemos cada estado oculto con fines demostrativos.\n",
        "w_hx = model_cwlce_trainable.layers[1].weights[0] # Esta es la matriz que representará nuestra entrada\n",
        "w_hh = model_cwlce_trainable.layers[1].weights[1] # Esta es la matriz recurrente\n",
        "b_h = model_cwlce_trainable.layers[1].weights[2] # Este es el bias\n",
        "\n",
        "for x,unmasked in zip(example_embedding_sequence[0],example_input_mask[0]): # Iteramos por nuestra secuencia y las máscaras\n",
        "  if unmasked: # Si no está enmascarado ese timestep actualizamos nuestro estado oculto\n",
        "    hidden_state = tf.math.tanh( # Aplicamos la función de activación y actualizamos el estado oculto\n",
        "        tf.tensordot(x,w_hx, axes=1) # Representamos el embedding de entrada\n",
        "        + tf.tensordot(hidden_state,w_hh, axes=1) # Multiplicamos el estado oculto anterior con la matriz recurrente\n",
        "        + b_h) # Sumamos el sesgo\n",
        "  hidden_states.append(hidden_state) # Guardamos el estado oculto\n",
        "\n",
        "example_representation = tf.expand_dims(hidden_state, axis=0) # La representación de nuestra secuencia es el último estado oculto\n",
        "example_representation"
      ]
    },
    {
      "cell_type": "markdown",
      "metadata": {
        "id": "bwkfe-MJPt82"
      },
      "source": [
        "Si visualizamos el cambio del estado oculto nos damos cuenta que cambió sólo debido sólo a los timestep desenmascarados y fue cambiando a medida que avanzamos en los pasos"
      ]
    },
    {
      "cell_type": "code",
      "execution_count": 43,
      "metadata": {
        "colab": {
          "base_uri": "https://localhost:8080/",
          "height": 297
        },
        "id": "q0EAJDMocK1B",
        "outputId": "ab74fce7-782a-418c-dfaf-7c69ad988520"
      },
      "outputs": [
        {
          "name": "stderr",
          "output_type": "stream",
          "text": [
            "/tmp/ipykernel_824/2084446146.py:23: UserWarning: Tight layout not applied. The left and right margins cannot be made large enough to accommodate all axes decorations.\n",
            "  plt.tight_layout()\n"
          ]
        },
        {
          "data": {
            "image/png": "[encoded data removed]",
            "text/plain": [
              "<Figure size 640x480 with 1 Axes>"
            ]
          },
          "metadata": {},
          "output_type": "display_data"
        }
      ],
      "source": [
        "fig = plt.figure()\n",
        "ax = fig.add_subplot(projection=\"3d\")\n",
        "\n",
        "for z,t in enumerate(hidden_states):\n",
        "  hist, bins = np.histogram(t, bins=20, range=(-1.0,1.0))\n",
        "  xs = (bins[:-1] + bins[1:])/2\n",
        "  ax.plot(\n",
        "      xs,\n",
        "      hist,\n",
        "      z,\n",
        "      zdir='y'\n",
        "  )\n",
        "\n",
        "ax.set_xlabel(\"weight\")\n",
        "ax.set_ylabel(\"timestep\")\n",
        "ax.set_zlabel(\"frequency\")\n",
        "\n",
        "plt.yticks(range(1,20,2))\n",
        "plt.xticks(np.linspace(-1,1,5))\n",
        "\n",
        "ax.view_init(30, 45)\n",
        "\n",
        "plt.tight_layout()\n",
        "plt.show()"
      ]
    },
    {
      "cell_type": "markdown",
      "metadata": {
        "id": "pL-YFQOtP76q"
      },
      "source": [
        "Con la representación de nuestra secuencia podemos obtener la predicción final al realizar el producto punto entre la representación de la secuencia y los pesos de la capa de clasificación, junto con sumar el sesgo."
      ]
    },
    {
      "cell_type": "code",
      "execution_count": 44,
      "metadata": {
        "colab": {
          "base_uri": "https://localhost:8080/"
        },
        "id": "V7N8Sc3vQLN8",
        "outputId": "2f50c63f-7134-4d63-b8c8-19326bd20362"
      },
      "outputs": [
        {
          "data": {
            "text/plain": [
              "<tf.Tensor: shape=(1, 1), dtype=float32, numpy=array([[0.00687718]], dtype=float32)>"
            ]
          },
          "execution_count": 44,
          "metadata": {},
          "output_type": "execute_result"
        }
      ],
      "source": [
        "output = tf.math.sigmoid(# Aplicamos la función de activación\n",
        "    tf.tensordot(example_representation,model_cwlce_trainable.layers[-1].weights[0], axes=1) # Hacemos producto punto entre la representación y los pesos\n",
        "    + model_cwlce_trainable.layers[-1].weights[1]) # Sumamos el bias\n",
        "output"
      ]
    },
    {
      "cell_type": "markdown",
      "metadata": {
        "id": "BQqEr6cNRq2X"
      },
      "source": [
        "Si comparamos la salida de la red usando el método predict, nos damos cuenta que es el mismo valor que el calculado por nosotros."
      ]
    },
    {
      "cell_type": "code",
      "execution_count": 45,
      "metadata": {
        "colab": {
          "base_uri": "https://localhost:8080/"
        },
        "id": "kRxombuIdmyq",
        "outputId": "0d1aed0d-06a1-4038-c6ea-6268410c2624"
      },
      "outputs": [
        {
          "name": "stdout",
          "output_type": "stream",
          "text": [
            "1/1 [==============================] - 0s 17ms/step\n"
          ]
        },
        {
          "data": {
            "text/plain": [
              "array([[0.00687719]], dtype=float32)"
            ]
          },
          "execution_count": 45,
          "metadata": {},
          "output_type": "execute_result"
        }
      ],
      "source": [
        "model_cwlce_trainable.predict(example_input)"
      ]
    }
  ],
  "metadata": {
    "accelerator": "GPU",
    "colab": {
      "authorship_tag": "ABX9TyPkDYWLBMXpxnFG3+fKl3ey",
      "collapsed_sections": [],
      "include_colab_link": true,
      "name": "6-rnn.ipynb",
      "provenance": [],
      "toc_visible": true
    },
    "kernelspec": {
      "display_name": "Python 3",
      "name": "python3"
    },
    "language_info": {
      "codemirror_mode": {
        "name": "ipython",
        "version": 3
      },
      "file_extension": ".py",
      "mimetype": "text/x-python",
      "name": "python",
      "nbconvert_exporter": "python",
      "pygments_lexer": "ipython3",
      "version": "3.10.12"
    },
    "widgets": {
      "application/vnd.jupyter.widget-state+json": {
        "036a99f92d5f48d5b9cb24ef7a18c1eb": {
          "model_module": "@jupyter-widgets/controls",
          "model_name": "DescriptionStyleModel",
          "state": {
            "_model_module": "@jupyter-widgets/controls",
            "_model_module_version": "1.5.0",
            "_model_name": "DescriptionStyleModel",
            "_view_count": null,
            "_view_module": "@jupyter-widgets/base",
            "_view_module_version": "1.2.0",
            "_view_name": "StyleView",
            "description_width": ""
          }
        },
        "056f8326356c400f91a73e3c9b74f83e": {
          "model_module": "@jupyter-widgets/controls",
          "model_name": "FloatProgressModel",
          "state": {
            "_dom_classes": [],
            "_model_module": "@jupyter-widgets/controls",
            "_model_module_version": "1.5.0",
            "_model_name": "FloatProgressModel",
            "_view_count": null,
            "_view_module": "@jupyter-widgets/controls",
            "_view_module_version": "1.5.0",
            "_view_name": "ProgressView",
            "bar_style": "success",
            "description": "100%",
            "description_tooltip": null,
            "layout": "IPY_MODEL_574af9550dfc4d9c98b57b565b0a7c60",
            "max": 30000,
            "min": 0,
            "orientation": "horizontal",
            "style": "IPY_MODEL_f0427c454411470d92e7da9ad69a1f65",
            "value": 30000
          }
        },
        "16f08cc024904bf98cdb01766fe55b44": {
          "model_module": "@jupyter-widgets/base",
          "model_name": "LayoutModel",
          "state": {
            "_model_module": "@jupyter-widgets/base",
            "_model_module_version": "1.2.0",
            "_model_name": "LayoutModel",
            "_view_count": null,
            "_view_module": "@jupyter-widgets/base",
            "_view_module_version": "1.2.0",
            "_view_name": "LayoutView",
            "align_content": null,
            "align_items": null,
            "align_self": null,
            "border": null,
            "bottom": null,
            "display": null,
            "flex": null,
            "flex_flow": null,
            "grid_area": null,
            "grid_auto_columns": null,
            "grid_auto_flow": null,
            "grid_auto_rows": null,
            "grid_column": null,
            "grid_gap": null,
            "grid_row": null,
            "grid_template_areas": null,
            "grid_template_columns": null,
            "grid_template_rows": null,
            "height": null,
            "justify_content": null,
            "justify_items": null,
            "left": null,
            "margin": null,
            "max_height": null,
            "max_width": null,
            "min_height": null,
            "min_width": null,
            "object_fit": null,
            "object_position": null,
            "order": null,
            "overflow": null,
            "overflow_x": null,
            "overflow_y": null,
            "padding": null,
            "right": null,
            "top": null,
            "visibility": null,
            "width": null
          }
        },
        "1aa2a92068fa432dbc019a462ca92d28": {
          "model_module": "@jupyter-widgets/controls",
          "model_name": "HBoxModel",
          "state": {
            "_dom_classes": [],
            "_model_module": "@jupyter-widgets/controls",
            "_model_module_version": "1.5.0",
            "_model_name": "HBoxModel",
            "_view_count": null,
            "_view_module": "@jupyter-widgets/controls",
            "_view_module_version": "1.5.0",
            "_view_name": "HBoxView",
            "box_style": "",
            "children": [
              "IPY_MODEL_f276a8a2932d4e2780e29141a0423501",
              "IPY_MODEL_6808629932b5465ab8c0392f344dbe9d"
            ],
            "layout": "IPY_MODEL_c5130d34fe354b47afa66659665db695"
          }
        },
        "1e7f30aceb9745ddb6bbe771a0be2bd9": {
          "model_module": "@jupyter-widgets/controls",
          "model_name": "HTMLModel",
          "state": {
            "_dom_classes": [],
            "_model_module": "@jupyter-widgets/controls",
            "_model_module_version": "1.5.0",
            "_model_name": "HTMLModel",
            "_view_count": null,
            "_view_module": "@jupyter-widgets/controls",
            "_view_module_version": "1.5.0",
            "_view_name": "HTMLView",
            "description": "",
            "description_tooltip": null,
            "layout": "IPY_MODEL_d20204d0410643b4a9a36c3d0b95b1bc",
            "placeholder": "​",
            "style": "IPY_MODEL_ff689a0c3b1849dd97349dd765890ec0",
            "value": " 70000/70000 [01:16&lt;00:00, 909.55ex/s]"
          }
        },
        "203601a31ccd4024ae55ad888770326b": {
          "model_module": "@jupyter-widgets/base",
          "model_name": "LayoutModel",
          "state": {
            "_model_module": "@jupyter-widgets/base",
            "_model_module_version": "1.2.0",
            "_model_name": "LayoutModel",
            "_view_count": null,
            "_view_module": "@jupyter-widgets/base",
            "_view_module_version": "1.2.0",
            "_view_name": "LayoutView",
            "align_content": null,
            "align_items": null,
            "align_self": null,
            "border": null,
            "bottom": null,
            "display": null,
            "flex": null,
            "flex_flow": null,
            "grid_area": null,
            "grid_auto_columns": null,
            "grid_auto_flow": null,
            "grid_auto_rows": null,
            "grid_column": null,
            "grid_gap": null,
            "grid_row": null,
            "grid_template_areas": null,
            "grid_template_columns": null,
            "grid_template_rows": null,
            "height": null,
            "justify_content": null,
            "justify_items": null,
            "left": null,
            "margin": null,
            "max_height": null,
            "max_width": null,
            "min_height": null,
            "min_width": null,
            "object_fit": null,
            "object_position": null,
            "order": null,
            "overflow": null,
            "overflow_x": null,
            "overflow_y": null,
            "padding": null,
            "right": null,
            "top": null,
            "visibility": null,
            "width": null
          }
        },
        "28b6a9aaf6f243178b500182ebb9581a": {
          "model_module": "@jupyter-widgets/controls",
          "model_name": "HBoxModel",
          "state": {
            "_dom_classes": [],
            "_model_module": "@jupyter-widgets/controls",
            "_model_module_version": "1.5.0",
            "_model_name": "HBoxModel",
            "_view_count": null,
            "_view_module": "@jupyter-widgets/controls",
            "_view_module_version": "1.5.0",
            "_view_name": "HBoxView",
            "box_style": "",
            "children": [
              "IPY_MODEL_ca3ba337ec364fe18e233d1003c063aa",
              "IPY_MODEL_bbbdf54b9a764f14bb0f95c73af44375"
            ],
            "layout": "IPY_MODEL_c4834d96139d41b38d99c34079130b3d"
          }
        },
        "388b48834cb0465580169b18704f0917": {
          "model_module": "@jupyter-widgets/base",
          "model_name": "LayoutModel",
          "state": {
            "_model_module": "@jupyter-widgets/base",
            "_model_module_version": "1.2.0",
            "_model_name": "LayoutModel",
            "_view_count": null,
            "_view_module": "@jupyter-widgets/base",
            "_view_module_version": "1.2.0",
            "_view_name": "LayoutView",
            "align_content": null,
            "align_items": null,
            "align_self": null,
            "border": null,
            "bottom": null,
            "display": null,
            "flex": null,
            "flex_flow": null,
            "grid_area": null,
            "grid_auto_columns": null,
            "grid_auto_flow": null,
            "grid_auto_rows": null,
            "grid_column": null,
            "grid_gap": null,
            "grid_row": null,
            "grid_template_areas": null,
            "grid_template_columns": null,
            "grid_template_rows": null,
            "height": null,
            "justify_content": null,
            "justify_items": null,
            "left": null,
            "margin": null,
            "max_height": null,
            "max_width": null,
            "min_height": null,
            "min_width": null,
            "object_fit": null,
            "object_position": null,
            "order": null,
            "overflow": null,
            "overflow_x": null,
            "overflow_y": null,
            "padding": null,
            "right": null,
            "top": null,
            "visibility": null,
            "width": null
          }
        },
        "4123dcb248b342669134b70f34d9cced": {
          "model_module": "@jupyter-widgets/controls",
          "model_name": "HBoxModel",
          "state": {
            "_dom_classes": [],
            "_model_module": "@jupyter-widgets/controls",
            "_model_module_version": "1.5.0",
            "_model_name": "HBoxModel",
            "_view_count": null,
            "_view_module": "@jupyter-widgets/controls",
            "_view_module_version": "1.5.0",
            "_view_name": "HBoxView",
            "box_style": "",
            "children": [
              "IPY_MODEL_4e8e1691837c4b05acf26f99421e1be8",
              "IPY_MODEL_1e7f30aceb9745ddb6bbe771a0be2bd9"
            ],
            "layout": "IPY_MODEL_203601a31ccd4024ae55ad888770326b"
          }
        },
        "449837e01fa344f1ac3e1f910f10ff67": {
          "model_module": "@jupyter-widgets/controls",
          "model_name": "ProgressStyleModel",
          "state": {
            "_model_module": "@jupyter-widgets/controls",
            "_model_module_version": "1.5.0",
            "_model_name": "ProgressStyleModel",
            "_view_count": null,
            "_view_module": "@jupyter-widgets/base",
            "_view_module_version": "1.2.0",
            "_view_name": "StyleView",
            "bar_color": null,
            "description_width": "initial"
          }
        },
        "4a7d12eaea79434699fa95bf7aadd7cb": {
          "model_module": "@jupyter-widgets/base",
          "model_name": "LayoutModel",
          "state": {
            "_model_module": "@jupyter-widgets/base",
            "_model_module_version": "1.2.0",
            "_model_name": "LayoutModel",
            "_view_count": null,
            "_view_module": "@jupyter-widgets/base",
            "_view_module_version": "1.2.0",
            "_view_name": "LayoutView",
            "align_content": null,
            "align_items": null,
            "align_self": null,
            "border": null,
            "bottom": null,
            "display": null,
            "flex": null,
            "flex_flow": null,
            "grid_area": null,
            "grid_auto_columns": null,
            "grid_auto_flow": null,
            "grid_auto_rows": null,
            "grid_column": null,
            "grid_gap": null,
            "grid_row": null,
            "grid_template_areas": null,
            "grid_template_columns": null,
            "grid_template_rows": null,
            "height": null,
            "justify_content": null,
            "justify_items": null,
            "left": null,
            "margin": null,
            "max_height": null,
            "max_width": null,
            "min_height": null,
            "min_width": null,
            "object_fit": null,
            "object_position": null,
            "order": null,
            "overflow": null,
            "overflow_x": null,
            "overflow_y": null,
            "padding": null,
            "right": null,
            "top": null,
            "visibility": null,
            "width": null
          }
        },
        "4e8e1691837c4b05acf26f99421e1be8": {
          "model_module": "@jupyter-widgets/controls",
          "model_name": "FloatProgressModel",
          "state": {
            "_dom_classes": [],
            "_model_module": "@jupyter-widgets/controls",
            "_model_module_version": "1.5.0",
            "_model_name": "FloatProgressModel",
            "_view_count": null,
            "_view_module": "@jupyter-widgets/controls",
            "_view_module_version": "1.5.0",
            "_view_name": "ProgressView",
            "bar_style": "success",
            "description": "100%",
            "description_tooltip": null,
            "layout": "IPY_MODEL_6902c05f732c4300a0d8c124fdf866f9",
            "max": 70000,
            "min": 0,
            "orientation": "horizontal",
            "style": "IPY_MODEL_449837e01fa344f1ac3e1f910f10ff67",
            "value": 70000
          }
        },
        "54a1fab2131343d98e307749762fa795": {
          "model_module": "@jupyter-widgets/base",
          "model_name": "LayoutModel",
          "state": {
            "_model_module": "@jupyter-widgets/base",
            "_model_module_version": "1.2.0",
            "_model_name": "LayoutModel",
            "_view_count": null,
            "_view_module": "@jupyter-widgets/base",
            "_view_module_version": "1.2.0",
            "_view_name": "LayoutView",
            "align_content": null,
            "align_items": null,
            "align_self": null,
            "border": null,
            "bottom": null,
            "display": null,
            "flex": null,
            "flex_flow": null,
            "grid_area": null,
            "grid_auto_columns": null,
            "grid_auto_flow": null,
            "grid_auto_rows": null,
            "grid_column": null,
            "grid_gap": null,
            "grid_row": null,
            "grid_template_areas": null,
            "grid_template_columns": null,
            "grid_template_rows": null,
            "height": null,
            "justify_content": null,
            "justify_items": null,
            "left": null,
            "margin": null,
            "max_height": null,
            "max_width": null,
            "min_height": null,
            "min_width": null,
            "object_fit": null,
            "object_position": null,
            "order": null,
            "overflow": null,
            "overflow_x": null,
            "overflow_y": null,
            "padding": null,
            "right": null,
            "top": null,
            "visibility": null,
            "width": null
          }
        },
        "574af9550dfc4d9c98b57b565b0a7c60": {
          "model_module": "@jupyter-widgets/base",
          "model_name": "LayoutModel",
          "state": {
            "_model_module": "@jupyter-widgets/base",
            "_model_module_version": "1.2.0",
            "_model_name": "LayoutModel",
            "_view_count": null,
            "_view_module": "@jupyter-widgets/base",
            "_view_module_version": "1.2.0",
            "_view_name": "LayoutView",
            "align_content": null,
            "align_items": null,
            "align_self": null,
            "border": null,
            "bottom": null,
            "display": null,
            "flex": null,
            "flex_flow": null,
            "grid_area": null,
            "grid_auto_columns": null,
            "grid_auto_flow": null,
            "grid_auto_rows": null,
            "grid_column": null,
            "grid_gap": null,
            "grid_row": null,
            "grid_template_areas": null,
            "grid_template_columns": null,
            "grid_template_rows": null,
            "height": null,
            "justify_content": null,
            "justify_items": null,
            "left": null,
            "margin": null,
            "max_height": null,
            "max_width": null,
            "min_height": null,
            "min_width": null,
            "object_fit": null,
            "object_position": null,
            "order": null,
            "overflow": null,
            "overflow_x": null,
            "overflow_y": null,
            "padding": null,
            "right": null,
            "top": null,
            "visibility": null,
            "width": null
          }
        },
        "5df9fac07fd24b388dc0089780e11ebe": {
          "model_module": "@jupyter-widgets/controls",
          "model_name": "ProgressStyleModel",
          "state": {
            "_model_module": "@jupyter-widgets/controls",
            "_model_module_version": "1.5.0",
            "_model_name": "ProgressStyleModel",
            "_view_count": null,
            "_view_module": "@jupyter-widgets/base",
            "_view_module_version": "1.2.0",
            "_view_name": "StyleView",
            "bar_color": null,
            "description_width": "initial"
          }
        },
        "5e3159fdf6264a9fa80e03d9be9016a3": {
          "model_module": "@jupyter-widgets/base",
          "model_name": "LayoutModel",
          "state": {
            "_model_module": "@jupyter-widgets/base",
            "_model_module_version": "1.2.0",
            "_model_name": "LayoutModel",
            "_view_count": null,
            "_view_module": "@jupyter-widgets/base",
            "_view_module_version": "1.2.0",
            "_view_name": "LayoutView",
            "align_content": null,
            "align_items": null,
            "align_self": null,
            "border": null,
            "bottom": null,
            "display": null,
            "flex": null,
            "flex_flow": null,
            "grid_area": null,
            "grid_auto_columns": null,
            "grid_auto_flow": null,
            "grid_auto_rows": null,
            "grid_column": null,
            "grid_gap": null,
            "grid_row": null,
            "grid_template_areas": null,
            "grid_template_columns": null,
            "grid_template_rows": null,
            "height": null,
            "justify_content": null,
            "justify_items": null,
            "left": null,
            "margin": null,
            "max_height": null,
            "max_width": null,
            "min_height": null,
            "min_width": null,
            "object_fit": null,
            "object_position": null,
            "order": null,
            "overflow": null,
            "overflow_x": null,
            "overflow_y": null,
            "padding": null,
            "right": null,
            "top": null,
            "visibility": null,
            "width": null
          }
        },
        "6808629932b5465ab8c0392f344dbe9d": {
          "model_module": "@jupyter-widgets/controls",
          "model_name": "HTMLModel",
          "state": {
            "_dom_classes": [],
            "_model_module": "@jupyter-widgets/controls",
            "_model_module_version": "1.5.0",
            "_model_name": "HTMLModel",
            "_view_count": null,
            "_view_module": "@jupyter-widgets/controls",
            "_view_module_version": "1.5.0",
            "_view_name": "HTMLView",
            "description": "",
            "description_tooltip": null,
            "layout": "IPY_MODEL_388b48834cb0465580169b18704f0917",
            "placeholder": "​",
            "style": "IPY_MODEL_79210af3c6fa4f6bae0adf5b5ab21ef0",
            "value": " 30000/30000 [01:20&lt;00:00, 373.07ex/s]"
          }
        },
        "68b17ac32234431d9e38c6533eaffac7": {
          "model_module": "@jupyter-widgets/base",
          "model_name": "LayoutModel",
          "state": {
            "_model_module": "@jupyter-widgets/base",
            "_model_module_version": "1.2.0",
            "_model_name": "LayoutModel",
            "_view_count": null,
            "_view_module": "@jupyter-widgets/base",
            "_view_module_version": "1.2.0",
            "_view_name": "LayoutView",
            "align_content": null,
            "align_items": null,
            "align_self": null,
            "border": null,
            "bottom": null,
            "display": null,
            "flex": null,
            "flex_flow": null,
            "grid_area": null,
            "grid_auto_columns": null,
            "grid_auto_flow": null,
            "grid_auto_rows": null,
            "grid_column": null,
            "grid_gap": null,
            "grid_row": null,
            "grid_template_areas": null,
            "grid_template_columns": null,
            "grid_template_rows": null,
            "height": null,
            "justify_content": null,
            "justify_items": null,
            "left": null,
            "margin": null,
            "max_height": null,
            "max_width": null,
            "min_height": null,
            "min_width": null,
            "object_fit": null,
            "object_position": null,
            "order": null,
            "overflow": null,
            "overflow_x": null,
            "overflow_y": null,
            "padding": null,
            "right": null,
            "top": null,
            "visibility": null,
            "width": null
          }
        },
        "6902c05f732c4300a0d8c124fdf866f9": {
          "model_module": "@jupyter-widgets/base",
          "model_name": "LayoutModel",
          "state": {
            "_model_module": "@jupyter-widgets/base",
            "_model_module_version": "1.2.0",
            "_model_name": "LayoutModel",
            "_view_count": null,
            "_view_module": "@jupyter-widgets/base",
            "_view_module_version": "1.2.0",
            "_view_name": "LayoutView",
            "align_content": null,
            "align_items": null,
            "align_self": null,
            "border": null,
            "bottom": null,
            "display": null,
            "flex": null,
            "flex_flow": null,
            "grid_area": null,
            "grid_auto_columns": null,
            "grid_auto_flow": null,
            "grid_auto_rows": null,
            "grid_column": null,
            "grid_gap": null,
            "grid_row": null,
            "grid_template_areas": null,
            "grid_template_columns": null,
            "grid_template_rows": null,
            "height": null,
            "justify_content": null,
            "justify_items": null,
            "left": null,
            "margin": null,
            "max_height": null,
            "max_width": null,
            "min_height": null,
            "min_width": null,
            "object_fit": null,
            "object_position": null,
            "order": null,
            "overflow": null,
            "overflow_x": null,
            "overflow_y": null,
            "padding": null,
            "right": null,
            "top": null,
            "visibility": null,
            "width": null
          }
        },
        "789d2f28e64d476985193355212d3767": {
          "model_module": "@jupyter-widgets/controls",
          "model_name": "DescriptionStyleModel",
          "state": {
            "_model_module": "@jupyter-widgets/controls",
            "_model_module_version": "1.5.0",
            "_model_name": "DescriptionStyleModel",
            "_view_count": null,
            "_view_module": "@jupyter-widgets/base",
            "_view_module_version": "1.2.0",
            "_view_name": "StyleView",
            "description_width": ""
          }
        },
        "79210af3c6fa4f6bae0adf5b5ab21ef0": {
          "model_module": "@jupyter-widgets/controls",
          "model_name": "DescriptionStyleModel",
          "state": {
            "_model_module": "@jupyter-widgets/controls",
            "_model_module_version": "1.5.0",
            "_model_name": "DescriptionStyleModel",
            "_view_count": null,
            "_view_module": "@jupyter-widgets/base",
            "_view_module_version": "1.2.0",
            "_view_name": "StyleView",
            "description_width": ""
          }
        },
        "82680f2e42404833900418e0b1b6302a": {
          "model_module": "@jupyter-widgets/controls",
          "model_name": "ProgressStyleModel",
          "state": {
            "_model_module": "@jupyter-widgets/controls",
            "_model_module_version": "1.5.0",
            "_model_name": "ProgressStyleModel",
            "_view_count": null,
            "_view_module": "@jupyter-widgets/base",
            "_view_module_version": "1.2.0",
            "_view_name": "StyleView",
            "bar_color": null,
            "description_width": "initial"
          }
        },
        "bbbdf54b9a764f14bb0f95c73af44375": {
          "model_module": "@jupyter-widgets/controls",
          "model_name": "HTMLModel",
          "state": {
            "_dom_classes": [],
            "_model_module": "@jupyter-widgets/controls",
            "_model_module_version": "1.5.0",
            "_model_name": "HTMLModel",
            "_view_count": null,
            "_view_module": "@jupyter-widgets/controls",
            "_view_module_version": "1.5.0",
            "_view_name": "HTMLView",
            "description": "",
            "description_tooltip": null,
            "layout": "IPY_MODEL_68b17ac32234431d9e38c6533eaffac7",
            "placeholder": "​",
            "style": "IPY_MODEL_036a99f92d5f48d5b9cb24ef7a18c1eb",
            "value": " 70000/70000 [01:28&lt;00:00, 793.43ex/s]"
          }
        },
        "bfe95cfdc1b348fc8c5f109472ba8a4d": {
          "model_module": "@jupyter-widgets/controls",
          "model_name": "HBoxModel",
          "state": {
            "_dom_classes": [],
            "_model_module": "@jupyter-widgets/controls",
            "_model_module_version": "1.5.0",
            "_model_name": "HBoxModel",
            "_view_count": null,
            "_view_module": "@jupyter-widgets/controls",
            "_view_module_version": "1.5.0",
            "_view_name": "HBoxView",
            "box_style": "",
            "children": [
              "IPY_MODEL_056f8326356c400f91a73e3c9b74f83e",
              "IPY_MODEL_d5753a1e689d46a7a14acbeae3ee48ea"
            ],
            "layout": "IPY_MODEL_4a7d12eaea79434699fa95bf7aadd7cb"
          }
        },
        "c4834d96139d41b38d99c34079130b3d": {
          "model_module": "@jupyter-widgets/base",
          "model_name": "LayoutModel",
          "state": {
            "_model_module": "@jupyter-widgets/base",
            "_model_module_version": "1.2.0",
            "_model_name": "LayoutModel",
            "_view_count": null,
            "_view_module": "@jupyter-widgets/base",
            "_view_module_version": "1.2.0",
            "_view_name": "LayoutView",
            "align_content": null,
            "align_items": null,
            "align_self": null,
            "border": null,
            "bottom": null,
            "display": null,
            "flex": null,
            "flex_flow": null,
            "grid_area": null,
            "grid_auto_columns": null,
            "grid_auto_flow": null,
            "grid_auto_rows": null,
            "grid_column": null,
            "grid_gap": null,
            "grid_row": null,
            "grid_template_areas": null,
            "grid_template_columns": null,
            "grid_template_rows": null,
            "height": null,
            "justify_content": null,
            "justify_items": null,
            "left": null,
            "margin": null,
            "max_height": null,
            "max_width": null,
            "min_height": null,
            "min_width": null,
            "object_fit": null,
            "object_position": null,
            "order": null,
            "overflow": null,
            "overflow_x": null,
            "overflow_y": null,
            "padding": null,
            "right": null,
            "top": null,
            "visibility": null,
            "width": null
          }
        },
        "c5130d34fe354b47afa66659665db695": {
          "model_module": "@jupyter-widgets/base",
          "model_name": "LayoutModel",
          "state": {
            "_model_module": "@jupyter-widgets/base",
            "_model_module_version": "1.2.0",
            "_model_name": "LayoutModel",
            "_view_count": null,
            "_view_module": "@jupyter-widgets/base",
            "_view_module_version": "1.2.0",
            "_view_name": "LayoutView",
            "align_content": null,
            "align_items": null,
            "align_self": null,
            "border": null,
            "bottom": null,
            "display": null,
            "flex": null,
            "flex_flow": null,
            "grid_area": null,
            "grid_auto_columns": null,
            "grid_auto_flow": null,
            "grid_auto_rows": null,
            "grid_column": null,
            "grid_gap": null,
            "grid_row": null,
            "grid_template_areas": null,
            "grid_template_columns": null,
            "grid_template_rows": null,
            "height": null,
            "justify_content": null,
            "justify_items": null,
            "left": null,
            "margin": null,
            "max_height": null,
            "max_width": null,
            "min_height": null,
            "min_width": null,
            "object_fit": null,
            "object_position": null,
            "order": null,
            "overflow": null,
            "overflow_x": null,
            "overflow_y": null,
            "padding": null,
            "right": null,
            "top": null,
            "visibility": null,
            "width": null
          }
        },
        "ca3ba337ec364fe18e233d1003c063aa": {
          "model_module": "@jupyter-widgets/controls",
          "model_name": "FloatProgressModel",
          "state": {
            "_dom_classes": [],
            "_model_module": "@jupyter-widgets/controls",
            "_model_module_version": "1.5.0",
            "_model_name": "FloatProgressModel",
            "_view_count": null,
            "_view_module": "@jupyter-widgets/controls",
            "_view_module_version": "1.5.0",
            "_view_name": "ProgressView",
            "bar_style": "success",
            "description": "100%",
            "description_tooltip": null,
            "layout": "IPY_MODEL_54a1fab2131343d98e307749762fa795",
            "max": 70000,
            "min": 0,
            "orientation": "horizontal",
            "style": "IPY_MODEL_5df9fac07fd24b388dc0089780e11ebe",
            "value": 70000
          }
        },
        "d20204d0410643b4a9a36c3d0b95b1bc": {
          "model_module": "@jupyter-widgets/base",
          "model_name": "LayoutModel",
          "state": {
            "_model_module": "@jupyter-widgets/base",
            "_model_module_version": "1.2.0",
            "_model_name": "LayoutModel",
            "_view_count": null,
            "_view_module": "@jupyter-widgets/base",
            "_view_module_version": "1.2.0",
            "_view_name": "LayoutView",
            "align_content": null,
            "align_items": null,
            "align_self": null,
            "border": null,
            "bottom": null,
            "display": null,
            "flex": null,
            "flex_flow": null,
            "grid_area": null,
            "grid_auto_columns": null,
            "grid_auto_flow": null,
            "grid_auto_rows": null,
            "grid_column": null,
            "grid_gap": null,
            "grid_row": null,
            "grid_template_areas": null,
            "grid_template_columns": null,
            "grid_template_rows": null,
            "height": null,
            "justify_content": null,
            "justify_items": null,
            "left": null,
            "margin": null,
            "max_height": null,
            "max_width": null,
            "min_height": null,
            "min_width": null,
            "object_fit": null,
            "object_position": null,
            "order": null,
            "overflow": null,
            "overflow_x": null,
            "overflow_y": null,
            "padding": null,
            "right": null,
            "top": null,
            "visibility": null,
            "width": null
          }
        },
        "d5753a1e689d46a7a14acbeae3ee48ea": {
          "model_module": "@jupyter-widgets/controls",
          "model_name": "HTMLModel",
          "state": {
            "_dom_classes": [],
            "_model_module": "@jupyter-widgets/controls",
            "_model_module_version": "1.5.0",
            "_model_name": "HTMLModel",
            "_view_count": null,
            "_view_module": "@jupyter-widgets/controls",
            "_view_module_version": "1.5.0",
            "_view_name": "HTMLView",
            "description": "",
            "description_tooltip": null,
            "layout": "IPY_MODEL_16f08cc024904bf98cdb01766fe55b44",
            "placeholder": "​",
            "style": "IPY_MODEL_789d2f28e64d476985193355212d3767",
            "value": " 30000/30000 [06:15&lt;00:00, 79.85ex/s]"
          }
        },
        "f0427c454411470d92e7da9ad69a1f65": {
          "model_module": "@jupyter-widgets/controls",
          "model_name": "ProgressStyleModel",
          "state": {
            "_model_module": "@jupyter-widgets/controls",
            "_model_module_version": "1.5.0",
            "_model_name": "ProgressStyleModel",
            "_view_count": null,
            "_view_module": "@jupyter-widgets/base",
            "_view_module_version": "1.2.0",
            "_view_name": "StyleView",
            "bar_color": null,
            "description_width": "initial"
          }
        },
        "f276a8a2932d4e2780e29141a0423501": {
          "model_module": "@jupyter-widgets/controls",
          "model_name": "FloatProgressModel",
          "state": {
            "_dom_classes": [],
            "_model_module": "@jupyter-widgets/controls",
            "_model_module_version": "1.5.0",
            "_model_name": "FloatProgressModel",
            "_view_count": null,
            "_view_module": "@jupyter-widgets/controls",
            "_view_module_version": "1.5.0",
            "_view_name": "ProgressView",
            "bar_style": "success",
            "description": "100%",
            "description_tooltip": null,
            "layout": "IPY_MODEL_5e3159fdf6264a9fa80e03d9be9016a3",
            "max": 30000,
            "min": 0,
            "orientation": "horizontal",
            "style": "IPY_MODEL_82680f2e42404833900418e0b1b6302a",
            "value": 30000
          }
        },
        "ff689a0c3b1849dd97349dd765890ec0": {
          "model_module": "@jupyter-widgets/controls",
          "model_name": "DescriptionStyleModel",
          "state": {
            "_model_module": "@jupyter-widgets/controls",
            "_model_module_version": "1.5.0",
            "_model_name": "DescriptionStyleModel",
            "_view_count": null,
            "_view_module": "@jupyter-widgets/base",
            "_view_module_version": "1.2.0",
            "_view_name": "StyleView",
            "description_width": ""
          }
        }
      }
    }
  },
  "nbformat": 4,
  "nbformat_minor": 0
}
