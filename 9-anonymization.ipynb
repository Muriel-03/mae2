{
 "cells": [
  {
   "cell_type": "markdown",
   "metadata": {},
   "source": [
    "# Anonymization"
   ]
  },
  {
   "cell_type": "code",
   "execution_count": null,
   "metadata": {},
   "outputs": [],
   "source": [
    "import pandas as pd\n",
    "import matplotlib.pyplot as plt\n",
    "import hashlib\n",
    "import datetime"
   ]
  },
  {
   "cell_type": "markdown",
   "metadata": {},
   "source": [
    "Utilizaremos un conjunto de datos sintético de observaciones de signos vitales de pacientes."
   ]
  },
  {
   "cell_type": "code",
   "execution_count": null,
   "metadata": {},
   "outputs": [],
   "source": [
    "data = pd.read_csv(\"data/observations.csv\",parse_dates=[\"birth_date\", \"observation_date\"])"
   ]
  },
  {
   "cell_type": "markdown",
   "metadata": {},
   "source": [
    "Nuestro conjunto de datos contiene una serie de características que podrían categorizarse como datos personales o sensibles.\n",
    "\n",
    "El nombre y el rut podrían son datos personales que no debiésemos tener acceso, pero son necesarios para la identificación de sujetos dentro del conjunto de datos y para realizar posibles cruces con otras tablas de datos.\n",
    "\n",
    "Si bien las fechas asociadas al paciente y a las observaciones no nos permiten realizar una detección precisa de la persona a la que pertenecen las instancias de datos, este dato se considera información protegida de salud. No nos interesan las fechas exactas asociadas, pero si nos interesan los delta de tiempo entre observaciones.\n",
    "\n",
    "Estos dos tipos de datos descritos anteriormente son información protegida, pero de todos modos es información clave para la generación de conclusiones, por lo que no se pueden eliminar, por ende debemos encontrar una solución que nos permita trabajar con estas características sin vulnerar la privacidad del paciente."
   ]
  },
  {
   "cell_type": "code",
   "execution_count": null,
   "metadata": {},
   "outputs": [],
   "source": [
    "data"
   ]
  },
  {
   "cell_type": "markdown",
   "metadata": {},
   "source": [
    "Calculamos la edad que tiene el paciente en cada observación."
   ]
  },
  {
   "cell_type": "code",
   "execution_count": null,
   "metadata": {},
   "outputs": [],
   "source": [
    "data[\"age\"] = (data.observation_date - data.birth_date).dt.days / 365.25\n",
    "data"
   ]
  },
  {
   "cell_type": "markdown",
   "metadata": {},
   "source": [
    "Agrupamos por paciente y diagnosticamos a cada paciente con hipertensión."
   ]
  },
  {
   "cell_type": "code",
   "execution_count": null,
   "metadata": {},
   "outputs": [],
   "source": [
    "hypertension = data.groupby(by=[\"name\"])[[\"heart_rate\",\"diastolic_blood_pressure\",\"systolic_blood_pressure\"]].mean()\n",
    "hypertension[\"hypertension\"] = hypertension.systolic_blood_pressure > 130\n",
    "hypertension"
   ]
  },
  {
   "cell_type": "markdown",
   "metadata": {},
   "source": [
    "Exploramos si existe una correlación entre las observaciones y el género del paciente."
   ]
  },
  {
   "cell_type": "code",
   "execution_count": null,
   "metadata": {},
   "outputs": [],
   "source": [
    "data.boxplot(column=[\"heart_rate\",\"diastolic_blood_pressure\",\"systolic_blood_pressure\"], by=\"gender\")\n",
    "plt.tight_layout()\n",
    "plt.show()"
   ]
  },
  {
   "cell_type": "markdown",
   "metadata": {},
   "source": [
    "Exploramos si existe una correlación entre la presión arterial y la edad de los pacientes."
   ]
  },
  {
   "cell_type": "code",
   "execution_count": null,
   "metadata": {},
   "outputs": [],
   "source": [
    "data.plot.scatter(x=\"age\", y=\"diastolic_blood_pressure\")"
   ]
  },
  {
   "cell_type": "markdown",
   "metadata": {},
   "source": [
    "## Anonimización\n",
    "\n",
    "Debemos encontrar una forma de codificar la información protegida de los pacientes de una manera que se mantenga la biyección entre la forma bruta y anonimizada de los datos, sin vulnerar la privacidad del paciente y sin que se pueda deidentificar la información. Una de los métodos que cumple todos estos requisitos son las funciones hash.\n",
    "\n"
   ]
  },
  {
   "cell_type": "code",
   "execution_count": null,
   "metadata": {},
   "outputs": [],
   "source": [
    "rut = \"1900686-3\""
   ]
  },
  {
   "cell_type": "code",
   "execution_count": null,
   "metadata": {},
   "outputs": [],
   "source": [
    "hashed_rut = hashlib.md5(\n",
    "    rut.encode()\n",
    ").hexdigest()"
   ]
  },
  {
   "cell_type": "code",
   "execution_count": null,
   "metadata": {},
   "outputs": [],
   "source": [
    "hashed_rut"
   ]
  },
  {
   "cell_type": "code",
   "execution_count": null,
   "metadata": {},
   "outputs": [],
   "source": [
    "int(hashed_rut, 16)"
   ]
  },
  {
   "cell_type": "code",
   "execution_count": null,
   "metadata": {},
   "outputs": [],
   "source": [
    "int(hashed_rut[:3], 16)"
   ]
  },
  {
   "cell_type": "code",
   "execution_count": null,
   "metadata": {},
   "outputs": [],
   "source": [
    "def hasher(x,output=\"hex\"):\n",
    "    encoded_string = x.encode()\n",
    "    hashed_string = hashlib.md5(encoded_string)\n",
    "    hashed_hex = hashed_string.hexdigest()\n",
    "    if output == \"int\":\n",
    "        hashed_int = int(hashed_hex[:3], 16)\n",
    "        return hashed_int\n",
    "    if output == \"hex\":\n",
    "        return hashed_hex"
   ]
  },
  {
   "cell_type": "code",
   "execution_count": null,
   "metadata": {},
   "outputs": [],
   "source": [
    "hasher(rut)"
   ]
  },
  {
   "cell_type": "code",
   "execution_count": null,
   "metadata": {},
   "outputs": [],
   "source": [
    "hasher(rut, output=\"int\")"
   ]
  },
  {
   "cell_type": "code",
   "execution_count": null,
   "metadata": {},
   "outputs": [],
   "source": [
    "anonymized_data = data.copy()"
   ]
  },
  {
   "cell_type": "code",
   "execution_count": null,
   "metadata": {},
   "outputs": [],
   "source": [
    "anonymized_data[\"name\"] = pd.NA\n",
    "anonymized_data"
   ]
  },
  {
   "cell_type": "code",
   "execution_count": null,
   "metadata": {},
   "outputs": [],
   "source": [
    "anonymized_data[\"hashed_rut\"] = anonymized_data.rut.apply(hasher)\n",
    "anonymized_data"
   ]
  },
  {
   "cell_type": "code",
   "execution_count": null,
   "metadata": {},
   "outputs": [],
   "source": [
    "anonymized_data[\"birth_date\"] = anonymized_data.apply(lambda x: x[\"birth_date\"] + datetime.timedelta(days=hasher(x[\"rut\"], output=\"int\")), axis=1)\n",
    "anonymized_data[\"observation_date\"] = anonymized_data.apply(lambda x: x[\"observation_date\"] + datetime.timedelta(days=hasher(x[\"rut\"], output=\"int\")), axis=1)\n",
    "anonymized_data[\"age\"] = (anonymized_data.observation_date - anonymized_data.birth_date).dt.days / 365.25\n",
    "anonymized_data"
   ]
  },
  {
   "cell_type": "code",
   "execution_count": null,
   "metadata": {},
   "outputs": [],
   "source": [
    "anonymized_data = anonymized_data.drop(\"rut\",axis=1)"
   ]
  },
  {
   "cell_type": "code",
   "execution_count": null,
   "metadata": {},
   "outputs": [],
   "source": [
    "anonymized_data.groupby(by=[\"hashed_rut\"])[[\"heart_rate\",\"diastolic_blood_pressure\",\"systolic_blood_pressure\"]].mean()"
   ]
  },
  {
   "cell_type": "code",
   "execution_count": null,
   "metadata": {},
   "outputs": [],
   "source": [
    "anonymized_data.boxplot(column=[\"heart_rate\",\"diastolic_blood_pressure\",\"systolic_blood_pressure\"], by=\"gender\")\n",
    "plt.tight_layout()\n",
    "plt.show()"
   ]
  },
  {
   "cell_type": "code",
   "execution_count": null,
   "metadata": {},
   "outputs": [],
   "source": [
    "anonymized_data.plot.scatter(x=\"age\", y=\"diastolic_blood_pressure\")"
   ]
  }
 ],
 "metadata": {
  "kernelspec": {
   "display_name": "Python 3",
   "language": "python",
   "name": "python3"
  },
  "language_info": {
   "codemirror_mode": {
    "name": "ipython",
    "version": 3
   },
   "file_extension": ".py",
   "mimetype": "text/x-python",
   "name": "python",
   "nbconvert_exporter": "python",
   "pygments_lexer": "ipython3",
   "version": "3.7.6"
  }
 },
 "nbformat": 4,
 "nbformat_minor": 4
}
